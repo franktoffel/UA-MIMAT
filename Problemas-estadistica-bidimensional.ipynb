{
 "metadata": {
  "name": ""
 },
 "nbformat": 3,
 "nbformat_minor": 0,
 "worksheets": [
  {
   "cells": [
    {
     "cell_type": "raw",
     "metadata": {},
     "source": [
      "Master de Ing. de Materiales, Agua y Terreno. UA\n",
      "Francisco J. Navarro Brull"
     ]
    },
    {
     "cell_type": "heading",
     "level": 1,
     "metadata": {},
     "source": [
      "Estad\u00edstica bidimensional"
     ]
    },
    {
     "cell_type": "markdown",
     "metadata": {},
     "source": [
      "La colecci\u00f3n de problemas se resolver\u00e1 haciendo uso de Python.\n",
      "Este lenguaje de programaci\u00f3n interpretado posee una filosof\u00eda que hace hincapi\u00e9 en una sintaxis muy limpia y que favorezca un c\u00f3digo legible. Adem\u00e1s, tanto las bibliotecas (o librer\u00edas) aqu\u00ed utilizadas como el lenguaje Python son de c\u00f3digo abierto y gratuitas."
     ]
    },
    {
     "cell_type": "code",
     "collapsed": false,
     "input": [
      "#Importaci\u00f3n de librer\u00edas para resolver los problemas.\n",
      "\n",
      "%pylab inline\n",
      "import pandas as pd\n",
      "import numpy as np\n",
      "import matplotlib.pyplot as plt\n",
      "from scipy import stats\n",
      "from __future__ import division"
     ],
     "language": "python",
     "metadata": {},
     "outputs": [
      {
       "output_type": "stream",
       "stream": "stdout",
       "text": [
        "Populating the interactive namespace from numpy and matplotlib\n"
       ]
      }
     ],
     "prompt_number": 4
    },
    {
     "cell_type": "code",
     "collapsed": false,
     "input": [
      "# Creamos una clase vac\u00eda que no ser\u00e1 \u00fatil para \"acumular\" los resultados dentro de una variable\n",
      "\n",
      "class problema(object):\n",
      "    pass\n",
      "\n",
      "# Conforme resolvamos los problemas crearemos las funci\u00f3nes necesarios. \n",
      "\n",
      "# Nota: Estas funciones se pueden a\u00f1adir dentro de la clase para tener m\u00e9todos y una programaci\u00f3n orientada a objetos\n",
      "# m\u00e1s eficiente y sencilla de mantener. Por el momento se obviar\u00e1 dicha posibilidad manteni\u00e9ndose una programaci\u00f3n \n",
      "# de tipo funcional."
     ],
     "language": "python",
     "metadata": {},
     "outputs": [],
     "prompt_number": 8
    },
    {
     "cell_type": "heading",
     "level": 2,
     "metadata": {},
     "source": [
      "Problema 1"
     ]
    },
    {
     "cell_type": "heading",
     "level": 3,
     "metadata": {},
     "source": [
      "Una compa\u00f1\u00eda de seguros considera que el n\u00famero de veh\u00edculos (y) que circulan por una determinada autopista a m\u00e1s de 120 km/h , puede ponerse en funci\u00f3n del n\u00famero de accidentes (x) que ocurren en ella. Durante 5 d\u00edas obtuvo los siguientes resultados:"
     ]
    },
    {
     "cell_type": "raw",
     "metadata": {},
     "source": [
      "Accidentes  xi \t5 \t7 \t2 \t1 \t9 \n",
      "n veh\u00edculos yi \t15 \t18 \t10 \t8 \t20 "
     ]
    },
    {
     "cell_type": "heading",
     "level": 3,
     "metadata": {},
     "source": [
      "Si ayer se produjeron 6 accidentes, \u00bfcu\u00e1ntos veh\u00edculos podemos suponer que circulaban por la autopista a m\u00e1s de 120 km / h?"
     ]
    },
    {
     "cell_type": "markdown",
     "metadata": {},
     "source": [
      "En primer lugar se procede al c\u00e1lculo del coeficiente de correlaci\u00f3n lineal."
     ]
    },
    {
     "cell_type": "code",
     "collapsed": false,
     "input": [
      "p1 = problema()\n",
      "\n",
      "# Si bien se podr\u00eda trabajar directamente con pilas de n\u00fameros, se har\u00e1 uso de NumPy para trabajar con arrays.\n",
      "# Esta librer\u00eda trabaja de forma similar a MATLAB y permite ejectuar operaci\u00f3nes de forma eficiente.\n",
      "\n",
      "p1.xi = np.array([5, 7, 2, 1, 9])\n",
      "p1.yi = np.array([15, 18, 10, 8, 20])\n",
      "p1.fi = np.array([1, 1, 1, 1, 1])\n",
      "\n",
      "p1.N = np.sum(p1.fi)\n",
      "\n",
      "# Medias aritm\u00e9ticas\n",
      "\n",
      "p1.xmedia = np.sum((p1.xi*p1.fi))/p1.N\n",
      "p1.ymedia = np.sum((p1.yi*p1.fi))/p1.N\n",
      "\n",
      "# Varianzas\n",
      "\n",
      "p1.xvar = (np.sum(p1.fi*(p1.xi)**2)/(p1.N)) - p1.xmedia**2\n",
      "p1.xstd = (p1.xvar)**0.5\n",
      "\n",
      "p1.yvar = (np.sum(p1.fi*(p1.yi)**2)/(p1.N)) - p1.ymedia**2\n",
      "p1.ystd = (p1.yvar)**0.5\n",
      "\n",
      "# Covarianza \n",
      "p1.cova = np.sum(p1.fi*p1.xi*p1.yi)/p1.N - p1.xmedia*p1.ymedia\n",
      "\n",
      "# Correlaci\u00f3n lineal de Pearson\n",
      "p1.rPearson = p1.cova/(p1.xstd*p1.ystd)\n",
      "\n",
      "print(u'Coeficiente de correlaci\u00f3n lineal r: '+ str(round(p1.rPearson,3)))"
     ],
     "language": "python",
     "metadata": {},
     "outputs": [
      {
       "output_type": "stream",
       "stream": "stdout",
       "text": [
        "Coeficiente de correlaci\u00f3n lineal r: 0.995\n"
       ]
      }
     ],
     "prompt_number": 26
    },
    {
     "cell_type": "markdown",
     "metadata": {},
     "source": [
      "Existe una relaci\u00f3n directa ya que la covarianza es positiva. Dada la proximidad de r a 1, se puede afirmar (a priori) que existe una fuerte correlaci\u00f3n lineal. "
     ]
    },
    {
     "cell_type": "markdown",
     "metadata": {},
     "source": [
      "C\u00e1lculo de la recta de regresi\u00f3n de y sobre x"
     ]
    },
    {
     "cell_type": "code",
     "collapsed": false,
     "input": [
      "# Creamos directamente una funci\u00f3n para obtener el valor estimado\n",
      "def RegresionLineal(x,xmedia,ymedia,cova,xvar):\n",
      "    'Obtiene el valor estimado mediante una regresion lineal'\n",
      "   \n",
      "    if x.size > 0: # Si no se require valor de entrada\n",
      "        y = ymedia + cova/xvar*(x-xmedia)\n",
      "    else:\n",
      "        y = np.array([])\n",
      "        \n",
      "    m = cova/xvar\n",
      "    b = ymedia - cova/xvar*xmedia\n",
      "    \n",
      "    return y, m, b\n",
      "\n",
      "naccidentes = np.array([6])\n",
      "\n",
      "naccidentes = RegresionLineal(naccidentes, p1.xmedia ,p1.ymedia, p1.cova, p1.xvar)\n",
      "\n",
      "print(u'N\u00ba de accidentes estimados: '+ str(round(vel_estimada)))\n"
     ],
     "language": "python",
     "metadata": {},
     "outputs": [
      {
       "output_type": "stream",
       "stream": "stdout",
       "text": [
        "N\u00ba de accidentes estimados: 16.0\n"
       ]
      }
     ],
     "prompt_number": 195
    },
    {
     "cell_type": "markdown",
     "metadata": {},
     "source": [
      "Antes de dar un dato fiable es importante observar gr\u00e1ficamente los datos."
     ]
    },
    {
     "cell_type": "code",
     "collapsed": false,
     "input": [
      "# Creamos los puntos x de la recta ajustada a representar\n",
      "x0_recta_est = np.min(p1.xi)\n",
      "xf_recta_est = np.max(p1.xi)\n",
      "xi_recta_est = [x0_recta_est,xf_recta_est]\n",
      "\n",
      "# Creamos los puntos y de la recta ajustada a representar\n",
      "y0_recta_est = RegresionLineal(x0_recta_est, p1.xmedia ,p1.ymedia, p1.cova, p1.xvar)\n",
      "yf_recta_est = RegresionLineal(xf_recta_est, p1.xmedia ,p1.ymedia, p1.cova, p1.xvar)\n",
      "yi_recta_est = [y0_recta_est,yf_recta_est]\n",
      "\n",
      "# Representamos \n",
      "plt.plot(p1.xi, p1.yi, 'yo', xi_recta_est, yi_recta_est, '--k' )\n",
      "\n",
      "plt.ylim(5,25)\n",
      "plt.xlim(0,10)\n",
      "\n",
      "plt.title(u'Representaci\u00f3n de datos (comprobaci\u00f3n gr\u00e1fica)')\n",
      "plt.ylabel(u'N\u00ba de veh\u00edculos')\n",
      "plt.xlabel(u'N\u00ba de accidentes')\n",
      "\n",
      "plt.legend( ('Datos reales', u'Estimaci\u00f3n'), loc = 'upper left' )"
     ],
     "language": "python",
     "metadata": {},
     "outputs": [
      {
       "metadata": {},
       "output_type": "pyout",
       "prompt_number": 84,
       "text": [
        "<matplotlib.legend.Legend at 0x12ec6978>"
       ]
      },
      {
       "metadata": {},
       "output_type": "display_data",
       "png": "[encoded data removed]",
       "text": [
        "<matplotlib.figure.Figure at 0x121d0cf8>"
       ]
      }
     ],
     "prompt_number": 84
    },
    {
     "cell_type": "markdown",
     "metadata": {},
     "source": [
      "A la vista de los resultados podemos suponer que ayer circulaban 16 coches a m\u00e1s de 120 km/h"
     ]
    },
    {
     "cell_type": "heading",
     "level": 2,
     "metadata": {},
     "source": [
      "Problema 2"
     ]
    },
    {
     "cell_type": "heading",
     "level": 3,
     "metadata": {},
     "source": [
      "Las calificaciones de 40 alumnos en \u00e1lgebra y en c\u00e1lculo de 1\u00ba de ITOP han sido las de la tabla adjunta."
     ]
    },
    {
     "cell_type": "raw",
     "metadata": {},
     "source": [
      "\u00c1lgebra xi \t3 \t4 \t5 \t6 \t6 \t7 \t7 \t8 \t10 \n",
      "C\u00e1lculo yi \t2 \t5 \t5 \t6 \t7 \t6 \t7 \t9 \t10 \n",
      "N\u00ba al fij\t4 \t6 \t12 \t4 \t5 \t4 \t2 \t1 \t2 "
     ]
    },
    {
     "cell_type": "markdown",
     "metadata": {},
     "source": [
      "a) Obtener la ecuaci\u00f3n de la recta de regresi\u00f3n de calificaciones de c\u00e1lculo respecto de las calificaciones de \u00e1lgebra."
     ]
    },
    {
     "cell_type": "markdown",
     "metadata": {},
     "source": [
      "b) \u00bfCu\u00e1l ser\u00e1 la nota esperada en c\u00e1lculo para un alumno que obtuvo un 4,5 en \u00e1lgebra? "
     ]
    },
    {
     "cell_type": "code",
     "collapsed": false,
     "input": [
      "p2 = problema()\n",
      "\n",
      "p2.xi = np.array([3,4,5,6,6,7,7,8,10])\n",
      "p2.yi = np.array([2,5,5,6,7,6,7,9,10])\n",
      "p2.fi = np.array([4,6,12,4,5,4,2,1,2])\n",
      "\n",
      "p2.N = np.sum(p2.fi)\n",
      "\n",
      "p2.xmedia = np.sum((p2.xi*p2.fi))/p2.N\n",
      "p2.ymedia = np.sum((p2.yi*p2.fi))/p2.N\n",
      "\n",
      "# Varianzas\n",
      "\n",
      "p2.xvar = (np.sum(p2.fi*(p2.xi)**2)/(p2.N)) - p2.xmedia**2\n",
      "p2.xstd = (p2.xvar)**0.5\n",
      "\n",
      "p2.yvar = (np.sum(p2.fi*(p2.yi)**2)/(p2.N)) - p2.ymedia**2\n",
      "p2.ystd = (p2.yvar)**0.5\n",
      "\n",
      "# Covarianza \n",
      "p2.cova = np.sum(p2.fi*p2.xi*p2.yi)/p2.N - p2.xmedia*p2.ymedia\n",
      "\n",
      "# Correlaci\u00f3n lineal de Pearson\n",
      "p2.rPearson = p2.cova/(p2.xstd*p2.ystd)\n",
      "\n",
      "print(u'Coeficiente de correlaci\u00f3n lineal r: '+ str(round(p2.rPearson,3)))"
     ],
     "language": "python",
     "metadata": {},
     "outputs": [
      {
       "output_type": "stream",
       "stream": "stdout",
       "text": [
        "Coeficiente de correlaci\u00f3n lineal r: 0.917\n"
       ]
      }
     ],
     "prompt_number": 158
    },
    {
     "cell_type": "code",
     "collapsed": false,
     "input": [
      "nota_algebra = np.array([4.5])\n",
      "\n",
      "nota_calculo, p2.m, p2.b = RegresionLineal(nota_algebra, p2.xmedia ,p2.ymedia, p2.cova, p2.xvar)\n",
      "\n",
      "print(u'Nota de c\u00e1lculo estimada: '+ str(round(nota_calculo)))\n",
      "\n",
      "print(u'Pendiente recta: m='+ str(round(p2.m)))\n",
      "print(u'Ordenada al origen: b='+ str(round(p2.b,1)))"
     ],
     "language": "python",
     "metadata": {},
     "outputs": [
      {
       "output_type": "stream",
       "stream": "stdout",
       "text": [
        "Nota de c\u00e1lculo estimada: 5.0\n",
        "Pendiente recta: m=1.0\n",
        "Ordenada al origen: b=0.1\n"
       ]
      }
     ],
     "prompt_number": 159
    },
    {
     "cell_type": "markdown",
     "metadata": {},
     "source": [
      "Una vez m\u00e1s, es necesario inspeccionar los resultados para comprobar que efectivamente nuestros valores son apropiados."
     ]
    },
    {
     "cell_type": "code",
     "collapsed": false,
     "input": [
      "# Creamos los puntos x de la recta ajustada a representar\n",
      "x0_recta_est = np.min(p2.xi)\n",
      "xf_recta_est = np.max(p2.xi)\n",
      "xi_recta_est = np.asarray([x0_recta_est,xf_recta_est])\n",
      "\n",
      "# Creamos los puntos y de la recta ajustada a representar\n",
      "# En esta ocasi\u00f3n utilizamos los par\u00e1metros de la recta obtenidos\n",
      "\n",
      "yi_recta_est = xi_recta_est*p2.m +p2.b\n",
      "\n",
      "# Representamos \n",
      "\n",
      "plt.plot(xi_recta_est, yi_recta_est, '--k' )\n",
      "plt.scatter(p2.xi, p2.yi, s=p2.fi*10) \n",
      "\n",
      "plt.ylim(np.min(p2.yi)*0.8,np.max(p2.yi)*1.1)\n",
      "plt.xlim(np.min(p2.xi)*0.8,np.max(p2.xi)*1.1)\n",
      "\n",
      "plt.title(u'Representaci\u00f3n de datos (comprobaci\u00f3n gr\u00e1fica)')\n",
      "plt.ylabel(u'nota de c\u00e1lculo')\n",
      "plt.xlabel(u'Nota de \u00e1lgebra')\n",
      "\n",
      "plt.legend( (u'Estimaci\u00f3n','Datos reales'), loc = 'upper left' )"
     ],
     "language": "python",
     "metadata": {},
     "outputs": [
      {
       "metadata": {},
       "output_type": "pyout",
       "prompt_number": 160,
       "text": [
        "<matplotlib.legend.Legend at 0x144f0588>"
       ]
      },
      {
       "metadata": {},
       "output_type": "display_data",
       "png": "[encoded data removed]",
       "text": [
        "<matplotlib.figure.Figure at 0x14053518>"
       ]
      }
     ],
     "prompt_number": 160
    },
    {
     "cell_type": "markdown",
     "metadata": {},
     "source": [
      "Nota: Los valores con m\u00e1s frecuencia se han representado con mayor \u00e1rea."
     ]
    },
    {
     "cell_type": "heading",
     "level": 2,
     "metadata": {},
     "source": [
      "Problema 3."
     ]
    },
    {
     "cell_type": "markdown",
     "metadata": {},
     "source": [
      "Las notas obtenidas por 10 alumnos en Matem\u00e1ticas y en F\u00edsica son"
     ]
    },
    {
     "cell_type": "raw",
     "metadata": {},
     "source": [
      "Matem\u00e1ticas\t6\t4\t8\t5\t3,5\t7\t5\t10\t5\t4\n",
      "F\u00edsica\t    6,5\t4,5\t7\t5\t4\t8\t7\t10\t6\t5"
     ]
    },
    {
     "cell_type": "markdown",
     "metadata": {},
     "source": [
      "\u2022   Calcula la covarianza y el coeficiente de correlaci\u00f3n. "
     ]
    },
    {
     "cell_type": "code",
     "collapsed": false,
     "input": [
      "p3 = problema()\n",
      "\n",
      "p3.xi = np.array([6,4,8,5,3.5,7,5,10,5,4])\n",
      "p3.yi = np.array([6.5,4.5,7,5,4,8,7,10,6,5])\n",
      "p3.fi = np.array([1,1,1,1,1,1,1,1,1,1])\n",
      "\n",
      "p3.N = np.sum(p3.fi)\n",
      "\n",
      "p3.xmedia = np.sum((p3.xi*p3.fi))/p3.N\n",
      "p3.ymedia = np.sum((p3.yi*p3.fi))/p3.N\n",
      "\n",
      "# Varianzas\n",
      "\n",
      "p3.xvar = (np.sum(p3.fi*(p3.xi)**2)/(p3.N)) - p3.xmedia**2\n",
      "p3.xstd = (p3.xvar)**0.5\n",
      "\n",
      "p3.yvar = (np.sum(p3.fi*(p3.yi)**2)/(p3.N)) - p3.ymedia**2\n",
      "p3.ystd = (p3.yvar)**0.5\n",
      "\n",
      "# Covarianza \n",
      "p3.cova = np.sum(p3.fi*p3.xi*p3.yi)/p3.N - p3.xmedia*p3.ymedia\n",
      "\n",
      "\n",
      "# Correlaci\u00f3n lineal de Pearson\n",
      "p3.rPearson = p3.cova/(p3.xstd*p3.ystd)\n",
      "\n",
      "print(u'Covarianza: '+ str(round(p3.cova,3)))\n",
      "print(u'Coeficiente de correlaci\u00f3n lineal r: '+ str(round(p3.rPearson,3)))"
     ],
     "language": "python",
     "metadata": {},
     "outputs": [
      {
       "output_type": "stream",
       "stream": "stdout",
       "text": [
        "Covarianza: 3.075\n",
        "Coeficiente de correlaci\u00f3n lineal r: 0.921\n"
       ]
      }
     ],
     "prompt_number": 271
    },
    {
     "cell_type": "heading",
     "level": 3,
     "metadata": {},
     "source": [
      "\u2022  \u00bfExiste correlaci\u00f3n entre las dos variables? "
     ]
    },
    {
     "cell_type": "markdown",
     "metadata": {},
     "source": [
      "El coeficiente de correlaci\u00f3n indica que si existe correlaci\u00f3n lineal entre ellas de tipo positiva."
     ]
    },
    {
     "cell_type": "heading",
     "level": 3,
     "metadata": {},
     "source": [
      "\u2022  \u00bfCu\u00e1l ser\u00e1 la nota esperada en F\u00edsica para un alumno que hubiese obtenido un 8,3 en Matem\u00e1ticas? "
     ]
    },
    {
     "cell_type": "code",
     "collapsed": false,
     "input": [
      "nota_mat = np.array([8.3])\n",
      "\n",
      "nota_fisica, p3.m, p3.b = RegresionLineal(nota_mat, p3.xmedia ,p3.ymedia, p3.cova, p3.xvar)\n",
      "\n",
      "print(u'Nota de F\u00edsica estimada: '+ str(round(nota_calculo)))"
     ],
     "language": "python",
     "metadata": {},
     "outputs": [
      {
       "output_type": "stream",
       "stream": "stdout",
       "text": [
        "Nota de F\u00edsica estimada: 5.0\n"
       ]
      }
     ],
     "prompt_number": 273
    },
    {
     "cell_type": "code",
     "collapsed": false,
     "input": [
      "# Creamos los puntos x de la recta ajustada a representar\n",
      "x0_recta_est = np.min(p3.xi)\n",
      "xf_recta_est = np.max(p3.xi)\n",
      "xi_recta_est = np.asarray([x0_recta_est,xf_recta_est])\n",
      "\n",
      "# Creamos los puntos y de la recta ajustada a representar\n",
      "# En esta ocasi\u00f3n utilizamos los par\u00e1metros de la recta obtenidos\n",
      "\n",
      "yi_recta_est = xi_recta_est*p3.m + p3.b\n",
      "\n",
      "# Representamos \n",
      "\n",
      "plt.plot(xi_recta_est, yi_recta_est, '--k' )\n",
      "plt.scatter(p3.xi, p3.yi) \n",
      "\n",
      "plt.ylim(np.min(p3.yi)*0.8,np.max(p3.yi)*1.1)\n",
      "plt.xlim(np.min(p3.xi)*0.8,np.max(p3.xi)*1.1)\n",
      "\n",
      "plt.title(u'Representaci\u00f3n de datos (comprobaci\u00f3n gr\u00e1fica)')\n",
      "plt.ylabel(u'Nota de F\u00edsica')\n",
      "plt.xlabel(u'Nota de Matem\u00e1ticas')\n",
      "\n",
      "plt.legend( (u'Estimaci\u00f3n','Datos reales'), loc = 'upper left' )"
     ],
     "language": "python",
     "metadata": {},
     "outputs": [
      {
       "metadata": {},
       "output_type": "pyout",
       "prompt_number": 274,
       "text": [
        "<matplotlib.legend.Legend at 0x17ff9f60>"
       ]
      },
      {
       "metadata": {},
       "output_type": "display_data",
       "png": "[encoded data removed]",
       "text": [
        "<matplotlib.figure.Figure at 0x179e9ac8>"
       ]
      }
     ],
     "prompt_number": 274
    },
    {
     "cell_type": "heading",
     "level": 2,
     "metadata": {},
     "source": [
      "Problema 4"
     ]
    },
    {
     "cell_type": "heading",
     "level": 3,
     "metadata": {},
     "source": [
      "Se sabe por experiencia, que el aumento de peso de un material absorbente de humedad al trascurrir el tiempo sigue una ley de dependencia estocastica de tipo exponencial.\n",
      "En un experimento se obtuvieron los datos siguientes:"
     ]
    },
    {
     "cell_type": "raw",
     "metadata": {},
     "source": [
      "D\u00edas.  x\tPeso en gr. y\n",
      "  6\t            0.029\n",
      "  7\t            0.052\n",
      "  8\t            0.079\n",
      "  9\t            0.125\n",
      " 10\t            0.181\n",
      " 11\t            0.261\n",
      " 12\t            0.425\n",
      " 13\t            0.738\n",
      " 14\t            1.130\n",
      " 15\t            1.882\n",
      " 16\t            2.812"
     ]
    },
    {
     "cell_type": "heading",
     "level": 3,
     "metadata": {},
     "source": [
      "Ajustar a una curva de la forma y = A*exp(bx). Calcular el coeficiente de determinaci\u00f3n."
     ]
    },
    {
     "cell_type": "markdown",
     "metadata": {},
     "source": [
      "Aplicando logaritmos a ambos lados de la ecuaci\u00f3n con la forma deseada, se puede linealizar la ecuaci\u00f3n y aplicar el mismo procedimiento que en los problemas anteriores:\n",
      "\n",
      "$$ln(y) = ln(A)+b*x$$"
     ]
    },
    {
     "cell_type": "code",
     "collapsed": false,
     "input": [
      "p4 = problema()\n",
      "\n",
      "p4.xi = np.array([6,7,8,9,10,11,12,13,14,15,16])\n",
      "\n",
      "p4.yi_original = np.array([0.029,0.052,0.079,0.125,0.181,0.261,0.425,0.738,1.13,1.882,2.812])\n",
      "p4.yi = np.log(p4.yi_original)\n",
      "\n",
      "p4.fi = np.array([1,1,1,1,1,1,1,1,1,1,1])\n",
      "\n",
      "p4.N = np.sum(p4.fi)\n",
      "\n",
      "p4.xmedia = np.sum((p4.xi*p4.fi))/p4.N\n",
      "p4.ymedia = np.sum((p4.yi*p4.fi))/p4.N\n",
      "\n",
      "# Varianzas\n",
      "\n",
      "p4.xvar = (np.sum(p4.fi*(p4.xi)**2)/(p4.N)) - p4.xmedia**2\n",
      "p4.xstd = (p4.xvar)**0.5\n",
      "\n",
      "p4.yvar = (np.sum(p4.fi*(p4.yi)**2)/(p4.N)) - p4.ymedia**2\n",
      "p4.ystd = (p4.yvar)**0.5\n",
      "\n",
      "# Covarianza \n",
      "p4.cova = np.sum(p4.fi*p4.xi*p4.yi)/p4.N - p4.xmedia*p4.ymedia\n",
      "\n",
      "# Correlaci\u00f3n lineal de Pearson\n",
      "p4.rPearson = p4.cova/(p4.xstd*p4.ystd)\n",
      "\n",
      "# Correlaci\u00f3n de determinaci\u00f3n lineal\n",
      "p4.r2 = p4.rPearson**2\n",
      "\n",
      "\n",
      "print(u'Covarianza: '+ str(round(p4.cova,3)))\n",
      "print(u'Coeficiente de correlaci\u00f3n lineal r: '+ str(round(p4.rPearson,3)))\n",
      "print(u'Coeficiente de determinaci\u00f3n lineal r: '+ str(round(p4.r2,3)))\n",
      "p4.rPearson"
     ],
     "language": "python",
     "metadata": {},
     "outputs": [
      {
       "output_type": "stream",
       "stream": "stdout",
       "text": [
        "Covarianza: 4.51\n",
        "Coeficiente de correlaci\u00f3n lineal r: 0.999\n",
        "Coeficiente de determinaci\u00f3n lineal r: 0.998\n"
       ]
      },
      {
       "metadata": {},
       "output_type": "pyout",
       "prompt_number": 275,
       "text": [
        "0.99916538173850156"
       ]
      }
     ],
     "prompt_number": 275
    },
    {
     "cell_type": "code",
     "collapsed": false,
     "input": [
      "_, p4.m, p4.b = RegresionLineal(np.array([]), p4.xmedia ,p4.ymedia, p4.cova, p4.xvar)\n",
      "\n",
      "p4.A = np.exp(p4.b)\n",
      "\n",
      "print(u'A: '+ str(round(p4.A,5)))\n",
      "print(u'b: '+ str(round(p4.b,5)))"
     ],
     "language": "python",
     "metadata": {},
     "outputs": [
      {
       "output_type": "stream",
       "stream": "stdout",
       "text": [
        "A: 0.00205\n",
        "b: -6.19211\n"
       ]
      }
     ],
     "prompt_number": 276
    },
    {
     "cell_type": "markdown",
     "metadata": {},
     "source": [
      "Veamos primero el ajuste lineal anterior"
     ]
    },
    {
     "cell_type": "code",
     "collapsed": false,
     "input": [
      "# Creamos los puntos x de la recta ajustada a representar\n",
      "x0_recta_est = np.min(p4.xi)\n",
      "xf_recta_est = np.max(p4.xi)\n",
      "xi_recta_est = np.asarray([x0_recta_est,xf_recta_est])\n",
      "\n",
      "# Creamos los puntos y de la recta ajustada a representar\n",
      "# En esta ocasi\u00f3n utilizamos los par\u00e1metros de la recta obtenidos\n",
      "\n",
      "yi_recta_est = xi_recta_est*p4.m + p4.b\n",
      "\n",
      "# Representamos \n",
      "\n",
      "plt.plot(xi_recta_est, yi_recta_est, '--k' )\n",
      "plt.scatter(p4.xi, p4.yi) \n",
      "\n",
      "plt.title(u'Representaci\u00f3n de datos linealizados (comprobaci\u00f3n gr\u00e1fica)')\n",
      "plt.ylabel('ln(y)')\n",
      "plt.xlabel('x')\n",
      "\n",
      "plt.legend( (u'Estimaci\u00f3n','Datos reales'), loc = 'upper left' )"
     ],
     "language": "python",
     "metadata": {},
     "outputs": [
      {
       "metadata": {},
       "output_type": "pyout",
       "prompt_number": 277,
       "text": [
        "<matplotlib.legend.Legend at 0x18013a90>"
       ]
      },
      {
       "metadata": {},
       "output_type": "display_data",
       "png": "[encoded data removed]",
       "text": [
        "<matplotlib.figure.Figure at 0x1732cbe0>"
       ]
      }
     ],
     "prompt_number": 277
    },
    {
     "cell_type": "markdown",
     "metadata": {},
     "source": [
      "Veamos ahora el ajuste con los datos sin linealizar."
     ]
    },
    {
     "cell_type": "code",
     "collapsed": false,
     "input": [
      "# Creamos los puntos x \n",
      "x0_curva = np.min(p4.xi)\n",
      "xf_curva = np.max(p4.xi)\n",
      "xi_curva_est = p4.xi\n",
      "\n",
      "# Creamos los puntos y de la recta ajustada a representar\n",
      "# En esta ocasi\u00f3n utilizamos los par\u00e1metros de la recta obtenidos\n",
      "\n",
      "yi_curva_est = p4.A*np.exp(p4.m*xi_curva_est )\n",
      "\n",
      "# Representamos \n",
      "\n",
      "plt.plot(xi_curva_est, yi_curva_est, '--k')\n",
      "plt.scatter(p4.xi, p4.yi_original) \n",
      "\n",
      "plt.title(u'Representaci\u00f3n de datos (comprobaci\u00f3n gr\u00e1fica)')\n",
      "plt.ylabel('ln(y)')\n",
      "plt.xlabel('x')\n",
      "\n",
      "plt.legend( (u'Estimaci\u00f3n','Datos reales'), loc = 'upper left' )"
     ],
     "language": "python",
     "metadata": {},
     "outputs": [
      {
       "metadata": {},
       "output_type": "pyout",
       "prompt_number": 278,
       "text": [
        "<matplotlib.legend.Legend at 0x185d0a58>"
       ]
      },
      {
       "metadata": {},
       "output_type": "display_data",
       "png": "[encoded data removed]",
       "text": [
        "<matplotlib.figure.Figure at 0x1802a080>"
       ]
      }
     ],
     "prompt_number": 278
    },
    {
     "cell_type": "heading",
     "level": 2,
     "metadata": {},
     "source": [
      "Problema 5"
     ]
    },
    {
     "cell_type": "heading",
     "level": 3,
     "metadata": {},
     "source": [
      "Los vol\u00famenes de una masa gaseosa dependen de la presi\u00f3n a la que est\u00e1 sometida. En la tabla siguiente se muestran los vol\u00famenes correspondientes a seis presiones dadas:"
     ]
    },
    {
     "cell_type": "raw",
     "metadata": {},
     "source": [
      "Presi\u00f3n (Kg/cm2)\t0.5\t1.0\t1.5\t2.0\t2.5\t3.0\n",
      "Volumen (l)\t        1.62\t1.00\t0.76\t0.62\t0.52\t0.46"
     ]
    },
    {
     "cell_type": "heading",
     "level": 3,
     "metadata": {},
     "source": [
      "Los vol\u00famenes de una masa gaseosa dependen de la presi\u00f3n a la que est\u00e1 sometida. En la tabla siguiente se muestran los vol\u00famenes correspondientes a seis presiones dadas.\n",
      "Ajustar a una l\u00ednea de regresi\u00f3n de la forma y = A*x^b, donde y representa la presi\u00f3n y x el volumen sometido a esa presi\u00f3n. Calcular el coeficiente de determinaci\u00f3n. Efectuar un diagrama de dispersi\u00f3n de valores reales y valores esperados.\n"
     ]
    },
    {
     "cell_type": "markdown",
     "metadata": {},
     "source": [
      "Linealizando la ecuaci\u00f3n:\n",
      "$$ln(y) = ln(A)+b*ln(x)$$"
     ]
    },
    {
     "cell_type": "code",
     "collapsed": false,
     "input": [
      "p5 = problema()\n",
      "\n",
      "p5.yi_original = np.array([0.5,1,1.5,2,2.5,3])\n",
      "p5.xi_original = np.array([1.62,1,0.76,0.62,0.52,0.46])\n",
      "\n",
      "p5.xi = np.log(p5.xi_original)\n",
      "p5.yi = np.log(p5.yi_original)\n",
      "\n",
      "p5.fi = np.ones(6)\n",
      "\n",
      "p5.N = np.sum(p5.fi)\n",
      "\n",
      "p5.xmedia = np.sum((p5.xi*p5.fi))/p5.N\n",
      "p5.ymedia = np.sum((p5.yi*p5.fi))/p5.N\n",
      "\n",
      "# Varianzas\n",
      "\n",
      "p5.xvar = (np.sum(p5.fi*(p5.xi)**2)/(p5.N)) - p5.xmedia**2\n",
      "p5.xstd = (p5.xvar)**0.5\n",
      "\n",
      "p5.yvar = (np.sum(p5.fi*(p5.yi)**2)/(p5.N)) - p5.ymedia**2\n",
      "p5.ystd = (p5.yvar)**0.5\n",
      "\n",
      "# Covarianza \n",
      "p5.cova = np.sum(p5.fi*p5.xi*p5.yi)/p5.N - p5.xmedia*p5.ymedia\n",
      "\n",
      "# Correlaci\u00f3n lineal de Pearson\n",
      "p5.rPearson = p5.cova/(p5.xstd*p5.ystd)\n",
      "\n",
      "# Correlaci\u00f3n de determinaci\u00f3n lineal\n",
      "p5.r2 = p5.rPearson**2\n",
      "\n",
      "print(u'Covarianza: '+ str(round(p5.cova,3)))\n",
      "print(u'Coeficiente de correlaci\u00f3n lineal r: '+ str(round(p5.rPearson,3)))\n",
      "print(u'Coeficiente de determinaci\u00f3n lineal r: '+ str(round(p5.r2,3)))\n"
     ],
     "language": "python",
     "metadata": {},
     "outputs": [
      {
       "output_type": "stream",
       "stream": "stdout",
       "text": [
        "Covarianza: -0.257\n",
        "Coeficiente de correlaci\u00f3n lineal r: -1.0\n",
        "Coeficiente de determinaci\u00f3n lineal r: 1.0\n"
       ]
      }
     ],
     "prompt_number": 281
    },
    {
     "cell_type": "code",
     "collapsed": false,
     "input": [
      "_, p5.m, p5.b = RegresionLineal(np.array([]), p5.xmedia ,p5.ymedia, p5.cova, p5.xvar)\n",
      "\n",
      "p5.A = np.exp(p5.b)\n",
      "\n",
      "print(u'A: '+ str(round(p5.A,5)))\n",
      "print(u'b: '+ str(round(p5.b,5)))"
     ],
     "language": "python",
     "metadata": {},
     "outputs": [
      {
       "output_type": "stream",
       "stream": "stdout",
       "text": [
        "A: 1.00034\n",
        "b: 0.00034\n"
       ]
      }
     ],
     "prompt_number": 282
    },
    {
     "cell_type": "code",
     "collapsed": false,
     "input": [
      "# Creamos los puntos x de la recta ajustada a representar\n",
      "x0_recta_est = np.min(p5.xi)\n",
      "xf_recta_est = np.max(p5.xi)\n",
      "xi_recta_est = np.asarray([x0_recta_est,xf_recta_est])\n",
      "\n",
      "# Creamos los puntos y de la recta ajustada a representar\n",
      "# En esta ocasi\u00f3n utilizamos los par\u00e1metros de la recta obtenidos\n",
      "\n",
      "yi_recta_est = xi_recta_est*p5.m + p5.b\n",
      "\n",
      "# Representamos \n",
      "\n",
      "plt.plot(xi_recta_est, yi_recta_est, '--k' )\n",
      "plt.scatter(p5.xi, p5.yi) \n",
      "\n",
      "plt.title(u'Representaci\u00f3n de datos linealizados (comprobaci\u00f3n gr\u00e1fica)')\n",
      "plt.ylabel('ln(y)')\n",
      "plt.xlabel('x')\n",
      "\n",
      "plt.legend( (u'Estimaci\u00f3n','Datos reales'))"
     ],
     "language": "python",
     "metadata": {},
     "outputs": [
      {
       "metadata": {},
       "output_type": "pyout",
       "prompt_number": 283,
       "text": [
        "<matplotlib.legend.Legend at 0x188959e8>"
       ]
      },
      {
       "metadata": {},
       "output_type": "display_data",
       "png": "[encoded data removed]",
       "text": [
        "<matplotlib.figure.Figure at 0x185e4f60>"
       ]
      }
     ],
     "prompt_number": 283
    },
    {
     "cell_type": "code",
     "collapsed": false,
     "input": [
      "# Creamos los puntos x \n",
      "x0_curva = np.min(p5.xi)\n",
      "xf_curva = np.max(p5.xi)\n",
      "xi_curva_est = p5.xi\n",
      "\n",
      "# Creamos los puntos y de la recta ajustada a representar\n",
      "# En esta ocasi\u00f3n utilizamos los par\u00e1metros de la recta obtenidos\n",
      "\n",
      "yi_curva_est = p5.A*np.exp(p5.m*xi_curva_est )\n",
      "\n",
      "# Representamos \n",
      "\n",
      "plt.plot(xi_curva_est, yi_curva_est, '--k')\n",
      "plt.scatter(p5.xi, p5.yi_original) \n",
      "\n",
      "plt.title(u'Representaci\u00f3n de datos (comprobaci\u00f3n gr\u00e1fica)')\n",
      "plt.ylabel('ln(y)')\n",
      "plt.xlabel('x')\n",
      "\n",
      "plt.legend( (u'Estimaci\u00f3n','Datos reales'))"
     ],
     "language": "python",
     "metadata": {},
     "outputs": [
      {
       "metadata": {},
       "output_type": "pyout",
       "prompt_number": 284,
       "text": [
        "<matplotlib.legend.Legend at 0x18766e80>"
       ]
      },
      {
       "metadata": {},
       "output_type": "display_data",
       "png": "[encoded data removed]",
       "text": [
        "<matplotlib.figure.Figure at 0x188a41d0>"
       ]
      }
     ],
     "prompt_number": 284
    }
   ],
   "metadata": {}
  }
 ]
}