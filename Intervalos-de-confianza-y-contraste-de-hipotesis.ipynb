{
 "metadata": {
  "name": ""
 },
 "nbformat": 3,
 "nbformat_minor": 0,
 "worksheets": [
  {
   "cells": [
    {
     "cell_type": "raw",
     "metadata": {},
     "source": [
      "Los siguientes ejercicios son una prueba conceptual de la resoluci\u00f3n de algunos ejercicios de la asignatura de estad\u00edstica para ingenieros del M\u00e1ster de Ingener\u00eda Agua y terreno de la UA. Ponen a prueba las capacidades est\u00e1disticas acutales de librer\u00edas en Python."
     ]
    },
    {
     "cell_type": "heading",
     "level": 1,
     "metadata": {},
     "source": [
      "Intervalos de confianza"
     ]
    },
    {
     "cell_type": "heading",
     "level": 2,
     "metadata": {},
     "source": [
      "1. De una poblaci\u00f3n de varillas de hierro se ha extra\u00eddo una muestra de 64\n",
      "varillas y calculado la media de su resistencia a la rotura por tracci\u00f3n, obteni\u00e9ndose\n",
      "$x =1012 \\space kgf / cm^2$. Se sabe, por experiencia con este tipo de varillas, que $\\sigma$ = 25.\n",
      "Hallar, con los datos de esta muestra, unos l\u00edmites de confianza de m al nivel\n",
      "0.95."
     ]
    },
    {
     "cell_type": "markdown",
     "metadata": {},
     "source": [
      "$n=64$,  $ \\bar{x} =1012 \\space kgf / cm^2$, $ \\sigma = 25$, $\\alpha = 0.05$\n"
     ]
    },
    {
     "cell_type": "code",
     "collapsed": false,
     "input": [
      "%matplotlib inline"
     ],
     "language": "python",
     "metadata": {},
     "outputs": [],
     "prompt_number": 2
    },
    {
     "cell_type": "code",
     "collapsed": false,
     "input": [
      "# Importamos las librer\u00edas que vamos a utilizar\n",
      "\n",
      "import numpy as np\n",
      "import scipy.stats as ss\n",
      "import matplotlib.pyplot as plt\n",
      "\n",
      "#Creamos una clase vac\u00eda para acumular los resultados\n",
      "class p1:\n",
      "    pass\n",
      "\n",
      "p1.mean = 1012\n",
      "p1.n = 64\n",
      "p1.se = 25\n",
      "p1.confidence = 0.95\n",
      "p1.alfa = 1-p1.confidence\n",
      "\n",
      "\n",
      "p1.h = ss.norm.ppf( 1 - p1.alfa/2 ) * p1.se/ np.sqrt(p1.n)\n",
      "\n",
      "# Imprimimos los resultados\n",
      "\n",
      "print(\"IE = [\" + str(round(p1.mean-p1.h,2)) + \", \" + str(round(p1.mean+p1.h,2)) + \"]\")\n",
      "\n",
      "#Resultado para el intervalo asumido es:"
     ],
     "language": "python",
     "metadata": {},
     "outputs": [
      {
       "output_type": "stream",
       "stream": "stdout",
       "text": [
        "IE = [1005.88, 1018.12]\n"
       ]
      }
     ],
     "prompt_number": 109
    },
    {
     "cell_type": "heading",
     "level": 2,
     "metadata": {},
     "source": [
      "2. Las medidas de los di\u00e1metros de una muestra aleatoria de 10 bolas de rodamientos producidas por una m\u00e1quina en una semana dieron de media 0.824 cm. Se conoce que la desviaci\u00f3n t\u00edpica de los diametros es 0.042. Hallar los l\u00edmites de confianza al 95% para el diametro de las bolas."
     ]
    },
    {
     "cell_type": "markdown",
     "metadata": {},
     "source": [
      "$n=10$,  $ \\bar{x} =0.824 \\space cm$, $ \\sigma = 0.042$, $\\alpha = 0.05$\n"
     ]
    },
    {
     "cell_type": "code",
     "collapsed": false,
     "input": [
      "class p2:\n",
      "    pass\n",
      "\n",
      "p2.mean = 0.824\n",
      "p2.n = 10\n",
      "p2.se = 0.042\n",
      "p2.confidence = 0.95\n",
      "p2.alfa = 1-p2.confidence\n",
      "\n",
      "p2.h = ss.t._ppf( (1- (p2.alfa)/2), p2.n-1) * p2.se/np.sqrt(p2.n-1)\n",
      "\n",
      "\n",
      "\n",
      "# Imprimimos los resultados\n",
      "\n",
      "print(\"IE = [\" + str(round(p2.mean-p2.h,3)) + \", \" + str(round(p2.mean-p2.h,3)) + \"]\")\n",
      "\n",
      "#Resultado para el intervalo asumido es:"
     ],
     "language": "python",
     "metadata": {},
     "outputs": [
      {
       "output_type": "stream",
       "stream": "stdout",
       "text": [
        "IE = [0.792, 0.856]\n"
       ]
      }
     ],
     "prompt_number": 75
    },
    {
     "cell_type": "heading",
     "level": 1,
     "metadata": {},
     "source": [
      "Contraste de hip\u00f3tesis"
     ]
    },
    {
     "cell_type": "heading",
     "level": 2,
     "metadata": {},
     "source": [
      "Un fabricante de sistemas rociadores utilizados para protecci\u00f3n contra incendios en edificios de oficinas afirma que la temperatura promedio real de activaci\u00f3n del sistema es de 130\u00baF. Se prueba una muestra de 9 sistemas produci\u00e9ndose una temperatura promedio muestral de activaci\u00f3n de 131.08\u00baF. Si la distribuci\u00f3n de los tiempos de activaci\u00f3n es normal con desviaci\u00f3n t\u00edpica de 1.5\u00baF. \u00bfContradicen los datos la afirmaci\u00f3n del fabricante, al nivel de significaci\u00f3n $\\alpha = 0.01$?"
     ]
    },
    {
     "cell_type": "markdown",
     "metadata": {},
     "source": [
      "$$H_0: \\, \\mu=130 \u00baF$$\n",
      "$$H_1: \\, \\mu \\neq 130 \u00baF $$"
     ]
    },
    {
     "cell_type": "markdown",
     "metadata": {},
     "source": [
      "$$n=9$$\n",
      "$$ \\bar{x} = 131.08 \\space \u00baF $$\n",
      "Distribuci\u00f3n normal\n",
      "$$ \\sigma = 1.5 \u00baF$$"
     ]
    },
    {
     "cell_type": "code",
     "collapsed": false,
     "input": [
      "class p3:\n",
      "    pass\n",
      "\n",
      "p3.mean = 130\n",
      "p3.n = 9\n",
      "p3.se = 1.5\n",
      "p3.alfa = 0.01\n",
      "\n",
      "p3.h = ss.norm.ppf(1-p3.alfa/2 ) * p3.se/ np.sqrt(p3.n)\n",
      "\n",
      "# Imprimimos los resultados\n",
      "\n",
      "p3.RA = np.array([p3.mean-p3.h,p3.mean+p3.h])\n",
      "\n",
      "print(\"RA =\" + str(p3.IE))\n",
      "\n",
      "#Resultado para el intervalo asumido es:"
     ],
     "language": "python",
     "metadata": {},
     "outputs": [
      {
       "output_type": "stream",
       "stream": "stdout",
       "text": [
        "IE =[ 128.71208535  131.28791465]\n"
       ]
      }
     ],
     "prompt_number": 102
    },
    {
     "cell_type": "markdown",
     "metadata": {},
     "source": [
      "Dado que el valor $ \\bar{x} = 131.08 \\space \u00baF $ se encuentra dentro del RA, $H_0$ no se rechaza."
     ]
    }
   ],
   "metadata": {}
  }
 ]
}