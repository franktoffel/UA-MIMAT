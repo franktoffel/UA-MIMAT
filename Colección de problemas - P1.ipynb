{
 "metadata": {
  "name": ""
 },
 "nbformat": 3,
 "nbformat_minor": 0,
 "worksheets": [
  {
   "cells": [
    {
     "cell_type": "raw",
     "metadata": {},
     "source": [
      "Problemas obtenidos de http://thales.cica.es/rd/Recursos/rd97/Problemas/40-2-p-estadistica.html\n",
      "Master de Ing. de Materiales, Agua y Terreno. UA\n",
      "Francisco J. Navarro Brull"
     ]
    },
    {
     "cell_type": "heading",
     "level": 1,
     "metadata": {},
     "source": [
      "Ejercicio 1: (Medidas de centralizaci\u00f3n y dispersi\u00f3n)"
     ]
    },
    {
     "cell_type": "heading",
     "level": 3,
     "metadata": {},
     "source": [
      "En un centro hospitalario de la provincia de Sevilla se ha tratado, con un nuevo medicamento llamado SINDOLORCABEZON, durante 5 d\u00edas a un grupo de pacientes, todos ellos padecen de jaqueca cr\u00f3nica (se despiertan todos los d\u00edas con dolor de cabeza). Se realiza un estudio sobre el n\u00ba de d\u00edas que un paciente sufre mejor\u00eda con el anterior medicamento obteniendo la tabla:"
     ]
    },
    {
     "cell_type": "markdown",
     "metadata": {},
     "source": [
      "<center>\n",
      "<table cellspacing=\"1\" cellpadding=\"4\" width=\"259\" border=\"1\">\n",
      "  <tbody>\n",
      "  <tr>\n",
      "    <td align=\"middle\">\n",
      "      <p align=\"center\"><strong>Valores<br>x</strong><sub><strong>i</strong></sub></p></td>\n",
      "    <td align=\"middle\">\n",
      "      <p align=\"center\"><strong>Frecuencias<br>n</strong><sub><strong>i</strong></sub></p></td></tr>\n",
      "  <tr>\n",
      "    <td>\n",
      "      <p align=\"center\">0</p></td>\n",
      "    <td>\n",
      "      <p align=\"right\">100</p></td></tr>\n",
      "  <tr>\n",
      "    <td>\n",
      "      <p align=\"center\">1</p></td>\n",
      "    <td>\n",
      "      <p align=\"right\">250</p></td></tr>\n",
      "  <tr>\n",
      "    <td>\n",
      "      <p align=\"center\">2</p></td>\n",
      "    <td>\n",
      "      <p align=\"right\">300</p></td></tr>\n",
      "  <tr>\n",
      "    <td>\n",
      "      <p align=\"center\">3</p></td>\n",
      "    <td>\n",
      "      <p align=\"right\">500</p></td></tr>\n",
      "  <tr>\n",
      "    <td>\n",
      "      <p align=\"center\">4</p></td>\n",
      "    <td>\n",
      "      <p align=\"right\">450</p></td></tr>\n",
      "  <tr>\n",
      "    <td>\n",
      "      <p align=\"center\">5</p></td>\n",
      "    <td>\n",
      "      <p align=\"right\">2000</p></td></tr></tbody></table></center>"
     ]
    },
    {
     "cell_type": "heading",
     "level": 3,
     "metadata": {},
     "source": [
      "Realizando el gr\u00e1fico adecuado y hallando los promedios (Media aritm\u00e9tica, Media arm\u00f3nica, Media geom\u00e9trica, Moda, y Mediana), indicar cu\u00e1l ser\u00eda el que mejor representar\u00eda los datos, contesta razonadamente y con el mayor detalle posible."
     ]
    },
    {
     "cell_type": "code",
     "collapsed": false,
     "input": [
      "#Importaci\u00f3n de librer\u00edas para resolver los problemas.\n",
      "\n",
      "%pylab inline \n",
      "import pandas as pd\n",
      "import numpy as np\n",
      "import matplotlib.pyplot as plt\n",
      "from scipy import stats\n",
      "from __future__ import division"
     ],
     "language": "python",
     "metadata": {},
     "outputs": [
      {
       "output_type": "stream",
       "stream": "stdout",
       "text": [
        "Populating the interactive namespace from numpy and matplotlib\n"
       ]
      }
     ],
     "prompt_number": 325
    },
    {
     "cell_type": "code",
     "collapsed": false,
     "input": [
      "xi = np.array([0,1,2,3,4,5])\n",
      "fi = np.array([100,250,300,500,450,2000])\n",
      "f_acum = np.cumsum(fi)\n"
     ],
     "language": "python",
     "metadata": {},
     "outputs": [],
     "prompt_number": 219
    },
    {
     "cell_type": "markdown",
     "metadata": {},
     "source": [
      "Para generar el conjunto de datos utilizamos un bucle `for` creando en primer lugar un array vac\u00edo (mejora de velocidad)"
     ]
    },
    {
     "cell_type": "code",
     "collapsed": false,
     "input": [
      "data = np.empty([fi.sum(),1])\n",
      "\n",
      "for i in range(len(xi)):\n",
      "    if i<1:\n",
      "        data[0:f_acum[i]] = xi[i]\n",
      "    else:\n",
      "        data[f_acum[i-1]:f_acum[i]] = xi[i]\n",
      "\n",
      "data"
     ],
     "language": "python",
     "metadata": {},
     "outputs": [
      {
       "metadata": {},
       "output_type": "pyout",
       "prompt_number": 220,
       "text": [
        "array([[ 0.],\n",
        "       [ 0.],\n",
        "       [ 0.],\n",
        "       ..., \n",
        "       [ 5.],\n",
        "       [ 5.],\n",
        "       [ 5.]])"
       ]
      }
     ],
     "prompt_number": 220
    },
    {
     "cell_type": "code",
     "collapsed": false,
     "input": [
      "# Para trabajar con pandas creamos el dataframe\n",
      "df = pd.DataFrame(data)"
     ],
     "language": "python",
     "metadata": {},
     "outputs": [],
     "prompt_number": 221
    },
    {
     "cell_type": "code",
     "collapsed": false,
     "input": [
      "df"
     ],
     "language": "python",
     "metadata": {},
     "outputs": [
      {
       "html": [
        "<pre>\n",
        "&lt;class 'pandas.core.frame.DataFrame'&gt;\n",
        "Int64Index: 3600 entries, 0 to 3599\n",
        "Data columns (total 1 columns):\n",
        "0    3600  non-null values\n",
        "dtypes: float64(1)\n",
        "</pre>"
       ],
       "metadata": {},
       "output_type": "pyout",
       "prompt_number": 222,
       "text": [
        "<class 'pandas.core.frame.DataFrame'>\n",
        "Int64Index: 3600 entries, 0 to 3599\n",
        "Data columns (total 1 columns):\n",
        "0    3600  non-null values\n",
        "dtypes: float64(1)"
       ]
      }
     ],
     "prompt_number": 222
    },
    {
     "cell_type": "code",
     "collapsed": false,
     "input": [
      "df.mean() #media de la columna 1"
     ],
     "language": "python",
     "metadata": {},
     "outputs": [
      {
       "metadata": {},
       "output_type": "pyout",
       "prompt_number": 223,
       "text": [
        "0    3.930556\n",
        "dtype: float64"
       ]
      }
     ],
     "prompt_number": 223
    },
    {
     "cell_type": "code",
     "collapsed": false,
     "input": [
      "df.describe()"
     ],
     "language": "python",
     "metadata": {},
     "outputs": [
      {
       "html": [
        "<div style=\"max-height:1000px;max-width:1500px;overflow:auto;\">\n",
        "<table border=\"1\" class=\"dataframe\">\n",
        "  <thead>\n",
        "    <tr style=\"text-align: right;\">\n",
        "      <th></th>\n",
        "      <th>0</th>\n",
        "    </tr>\n",
        "  </thead>\n",
        "  <tbody>\n",
        "    <tr>\n",
        "      <th>count</th>\n",
        "      <td> 3600.000000</td>\n",
        "    </tr>\n",
        "    <tr>\n",
        "      <th>mean</th>\n",
        "      <td>    3.930556</td>\n",
        "    </tr>\n",
        "    <tr>\n",
        "      <th>std</th>\n",
        "      <td>    1.446714</td>\n",
        "    </tr>\n",
        "    <tr>\n",
        "      <th>min</th>\n",
        "      <td>    0.000000</td>\n",
        "    </tr>\n",
        "    <tr>\n",
        "      <th>25%</th>\n",
        "      <td>    3.000000</td>\n",
        "    </tr>\n",
        "    <tr>\n",
        "      <th>50%</th>\n",
        "      <td>    5.000000</td>\n",
        "    </tr>\n",
        "    <tr>\n",
        "      <th>75%</th>\n",
        "      <td>    5.000000</td>\n",
        "    </tr>\n",
        "    <tr>\n",
        "      <th>max</th>\n",
        "      <td>    5.000000</td>\n",
        "    </tr>\n",
        "  </tbody>\n",
        "</table>\n",
        "</div>"
       ],
       "metadata": {},
       "output_type": "pyout",
       "prompt_number": 224,
       "text": [
        "                 0\n",
        "count  3600.000000\n",
        "mean      3.930556\n",
        "std       1.446714\n",
        "min       0.000000\n",
        "25%       3.000000\n",
        "50%       5.000000\n",
        "75%       5.000000\n",
        "max       5.000000"
       ]
      }
     ],
     "prompt_number": 224
    },
    {
     "cell_type": "markdown",
     "metadata": {},
     "source": [
      "Pandas nos da bastantes datos estad\u00edsticos pero si necesitamos conocer m\u00e1s, usamos el modulo de SciPy (stats)"
     ]
    },
    {
     "cell_type": "markdown",
     "metadata": {},
     "source": [
      "m_geometrica = stats.gmean(data)\n",
      "print(\"Media geom\u00e9trica = \"+ str(m_geometrica))"
     ]
    },
    {
     "cell_type": "markdown",
     "metadata": {},
     "source": [
      "La media arm\u00f3nica  no se puede determinar en las distribuciones con algunos valores iguales a cero, veamos que ocurre si intentamos obtenerla:"
     ]
    },
    {
     "cell_type": "markdown",
     "metadata": {},
     "source": [
      "m_armonica = stats.hmean(data)\n",
      "print('Media arm\u00f3nica = '+ str(m_armonica))"
     ]
    },
    {
     "cell_type": "markdown",
     "metadata": {},
     "source": [
      "Efectivamente, obtenemos un ValureError indicando lo anterior.\n",
      "Para obtener la moda, hacemos uso de las herramientas de estad\u00edstica de SciPy, previamente se calcu\u00f3 con la funci\u00f3n describe de `pandas` (el valor de la mediana corresponde con el que indica el 50%):"
     ]
    },
    {
     "cell_type": "code",
     "collapsed": false,
     "input": [
      "moda = stats.mode(data)\n",
      "print('Moda = '+ str(moda[0]))"
     ],
     "language": "python",
     "metadata": {},
     "outputs": [
      {
       "output_type": "stream",
       "stream": "stdout",
       "text": [
        "Moda = [[ 5.]]\n"
       ]
      }
     ],
     "prompt_number": 253
    },
    {
     "cell_type": "markdown",
     "metadata": {},
     "source": [
      "Como se observa, existen diferencias singificativas entre los valores de las medias obtenidos, para tener una mejor visualizaci\u00f3n de los datos se representa un diagrama de barras."
     ]
    },
    {
     "cell_type": "code",
     "collapsed": false,
     "input": [
      "plt.show()\n",
      "plt.bar(xi, fi)\n",
      "plt.title('Diagrama de barras')\n",
      "plt.ylim(0,2500)\n",
      "plt.xlabel(u'd\u00edas de mejora '+'$x_i$')\n",
      "plt.ylabel('Frecuencias '+'$f_i$')\n",
      "plt.xticks(xi+0.4,xi)"
     ],
     "language": "python",
     "metadata": {},
     "outputs": [
      {
       "metadata": {},
       "output_type": "pyout",
       "prompt_number": 318,
       "text": [
        "([<matplotlib.axis.XTick at 0x1bd2b5f8>,\n",
        "  <matplotlib.axis.XTick at 0x1bffab70>,\n",
        "  <matplotlib.axis.XTick at 0x1c20fc18>,\n",
        "  <matplotlib.axis.XTick at 0x1c211128>,\n",
        "  <matplotlib.axis.XTick at 0x1c211780>,\n",
        "  <matplotlib.axis.XTick at 0x1c211dd8>],\n",
        " <a list of 6 Text xticklabel objects>)"
       ]
      },
      {
       "metadata": {},
       "output_type": "display_data",
       "png": "[encoded data removed]",
       "text": [
        "<matplotlib.figure.Figure at 0x1af6d630>"
       ]
      }
     ],
     "prompt_number": 318
    },
    {
     "cell_type": "markdown",
     "metadata": {},
     "source": [
      "Como se observa en el gr\u00e1fico, el valor predominante corresponde al de 5 d\u00edas de mejora. No obstante, el resto de resultados desplaza el valor de la media a uno menor. S\u00f3lo con la media y sin conocer los datos, pensar\u00edamos que la mayor\u00eda de d\u00edas de mejora fue de 4 d\u00edas cuando en realidad era de 5. Por tanto, el valor m\u00e1s representativo es el de la mediana ya que es una medida estad\u00edsitca m\u00e1s robusta."
     ]
    },
    {
     "cell_type": "heading",
     "level": 3,
     "metadata": {},
     "source": [
      "Calcula tambi\u00e9n el porcentaje de pacientes que sienten mejor\u00eda con el medicamento en todos los d\u00edas del tratamiento."
     ]
    },
    {
     "cell_type": "code",
     "collapsed": false,
     "input": [
      "porc_pacientes_exito = fi[5]/fi.sum()*100\n",
      "\n",
      "print('Resultado '+str(round(porc_pacientes_exito,2))+'%')\n"
     ],
     "language": "python",
     "metadata": {},
     "outputs": [
      {
       "output_type": "stream",
       "stream": "stdout",
       "text": [
        "Resultado 55.56%\n"
       ]
      }
     ],
     "prompt_number": 333
    },
    {
     "cell_type": "heading",
     "level": 3,
     "metadata": {},
     "source": [
      "\u00bfPor qu\u00e9 no calculamos el coeficiente de variaci\u00f3n para ver la representatividad de la media? \u00bfHabr\u00eda que hallarlo?."
     ]
    },
    {
     "cell_type": "markdown",
     "metadata": {},
     "source": [
      "El coeficiente de variaci\u00f3n se calcula cuando se desea comparar las dispersiones entre dos o m\u00e1s distribuciones. En este caso s\u00f3lo tenemos una por lo que carece de sentido hallarlo."
     ]
    },
    {
     "cell_type": "heading",
     "level": 3,
     "metadata": {},
     "source": [
      "Calcula el $D_3$. \u00bfQu\u00e9 significado tiene?"
     ]
    },
    {
     "cell_type": "markdown",
     "metadata": {},
     "source": [
      "El decil 3 (Percentil 30%) es uno de los 9 valores (Deciles) que divide los datos en 10 partes iguales. As\u00ed:"
     ]
    },
    {
     "cell_type": "code",
     "collapsed": false,
     "input": [
      "D_3 = np.sum(fi)*0.3+1/2\n",
      "print(data[D_3])"
     ],
     "language": "python",
     "metadata": {},
     "outputs": [
      {
       "output_type": "stream",
       "stream": "stdout",
       "text": [
        "[ 3.]\n"
       ]
      }
     ],
     "prompt_number": 352
    },
    {
     "cell_type": "markdown",
     "metadata": {},
     "source": [
      "SciPy tambi\u00e9n incluye una funci\u00f3n para obtener el percentil dado:"
     ]
    },
    {
     "cell_type": "code",
     "collapsed": false,
     "input": [
      "stats.scoreatpercentile(data, 30)\n"
     ],
     "language": "python",
     "metadata": {},
     "outputs": [
      {
       "metadata": {},
       "output_type": "pyout",
       "prompt_number": 346,
       "text": [
        "3.0"
       ]
      }
     ],
     "prompt_number": 346
    },
    {
     "cell_type": "heading",
     "level": 3,
     "metadata": {},
     "source": [
      "A aquellos pacientes que sienten mejor\u00eda todos los d\u00edas del tratamiento se les realiza un estudio sobre el tiempo de reacci\u00f3n del medicamento (en minutos), encontr\u00e1ndose recogido los datos en la siguiente tabla:"
     ]
    },
    {
     "cell_type": "markdown",
     "metadata": {},
     "source": [
      "<center>\n",
      "<table cellspacing=\"1\" cellpadding=\"4\" border=\"1\">\n",
      "  <tbody>\n",
      "  <tr>\n",
      "    <td>\n",
      "      <p align=\"center\"><b>Tiempo de reacci\u00f3n</b></p></td>\n",
      "    <td>\n",
      "      <p align=\"right\"><b>N\u00ba de pacientes</b></p></td></tr>\n",
      "  <tr>\n",
      "    <td>\n",
      "      <p align=\"center\">0-10</p></td>\n",
      "    <td>\n",
      "      <p align=\"right\">300</p></td></tr>\n",
      "  <tr>\n",
      "    <td>\n",
      "      <p align=\"center\">10-20</p></td>\n",
      "    <td>\n",
      "      <p align=\"right\">500</p></td></tr>\n",
      "  <tr>\n",
      "    <td>\n",
      "      <p align=\"center\">20-30</p></td>\n",
      "    <td>\n",
      "      <p align=\"right\">400</p></td></tr>\n",
      "  <tr>\n",
      "    <td>\n",
      "      <p align=\"center\">30-40</p></td>\n",
      "    <td>\n",
      "      <p align=\"right\">500</p></td></tr>\n",
      "  <tr>\n",
      "    <td>\n",
      "      <p align=\"center\">40-60</p></td>\n",
      "    <td>\n",
      "      <p align=\"right\">300</p></td></tr></tbody></table></center>"
     ]
    },
    {
     "cell_type": "code",
     "collapsed": false,
     "input": [
      "t_inf = np.array([0, 10, 20, 30, 40])\n",
      "t_sup = np.array([10, 20, 30, 40, 60])\n",
      "n_pacientes = np.array([300, 500, 400, 500, 300])\n",
      "freq_pacientes = n_pacientes"
     ],
     "language": "python",
     "metadata": {},
     "outputs": [],
     "prompt_number": 393
    },
    {
     "cell_type": "markdown",
     "metadata": {},
     "source": [
      "Calculamos las marca de clase:"
     ]
    },
    {
     "cell_type": "code",
     "collapsed": false,
     "input": [
      "x_i = (t_sup+t_inf)/2\n",
      "x_i"
     ],
     "language": "python",
     "metadata": {},
     "outputs": [
      {
       "metadata": {},
       "output_type": "pyout",
       "prompt_number": 394,
       "text": [
        "array([  5.,  15.,  25.,  35.,  50.])"
       ]
      }
     ],
     "prompt_number": 394
    },
    {
     "cell_type": "markdown",
     "metadata": {},
     "source": [
      "Y la longitud del intervalo de clase"
     ]
    },
    {
     "cell_type": "code",
     "collapsed": false,
     "input": [
      "intervalo = t_sup-t_inf\n",
      "intervalo"
     ],
     "language": "python",
     "metadata": {},
     "outputs": [
      {
       "metadata": {},
       "output_type": "pyout",
       "prompt_number": 395,
       "text": [
        "array([10, 10, 10, 10, 20])"
       ]
      }
     ],
     "prompt_number": 395
    },
    {
     "cell_type": "markdown",
     "metadata": {},
     "source": [
      "Para obtener el $n$"
     ]
    },
    {
     "cell_type": "code",
     "collapsed": false,
     "input": [
      "n = np.sum(freq_pacientes)\n",
      "n"
     ],
     "language": "python",
     "metadata": {},
     "outputs": [
      {
       "metadata": {},
       "output_type": "pyout",
       "prompt_number": 396,
       "text": [
        "2000"
       ]
      }
     ],
     "prompt_number": 396
    },
    {
     "cell_type": "markdown",
     "metadata": {},
     "source": [
      "Calculamos la frecuencia acumulada de pacientes"
     ]
    },
    {
     "cell_type": "code",
     "collapsed": false,
     "input": [
      "f_pacientes_acum = np.cumsum(n_pacientes)\n",
      "f_pacientes_acum"
     ],
     "language": "python",
     "metadata": {},
     "outputs": [
      {
       "metadata": {},
       "output_type": "pyout",
       "prompt_number": 397,
       "text": [
        "array([ 300,  800, 1200, 1700, 2000])"
       ]
      }
     ],
     "prompt_number": 397
    },
    {
     "cell_type": "markdown",
     "metadata": {},
     "source": [
      "Y su frecuencia relativa junto con la frecuencia relativa acumulada"
     ]
    },
    {
     "cell_type": "code",
     "collapsed": false,
     "input": [
      "freq_rel = freq_pacientes/np.sum(freq_pacientes)\n",
      "freq_rel\n",
      "# np.sum(freq_rel) ## Comprobaci\u00f3n"
     ],
     "language": "python",
     "metadata": {},
     "outputs": [
      {
       "metadata": {},
       "output_type": "pyout",
       "prompt_number": 398,
       "text": [
        "array([ 0.15,  0.25,  0.2 ,  0.25,  0.15])"
       ]
      }
     ],
     "prompt_number": 398
    },
    {
     "cell_type": "code",
     "collapsed": false,
     "input": [
      "freq_acum_rel = np.cumsum(freq_rel)\n",
      "freq_acum_rel"
     ],
     "language": "python",
     "metadata": {},
     "outputs": [
      {
       "metadata": {},
       "output_type": "pyout",
       "prompt_number": 428,
       "text": [
        "array([ 0.15,  0.4 ,  0.6 ,  0.85,  1.  ])"
       ]
      }
     ],
     "prompt_number": 428
    },
    {
     "cell_type": "heading",
     "level": 3,
     "metadata": {},
     "source": [
      "Escribir las f\u00f3rmulas de las diferentes medias e indicar cu\u00e1l de las tres te parece m\u00e1s adecuada para aplicar en este ejercicio (Razonadamente)."
     ]
    },
    {
     "cell_type": "markdown",
     "metadata": {},
     "source": [
      "El c\u00e1lculo de las medias se har\u00e1 mediante el uso de las f\u00f3rmulas.\n",
      "\n",
      "Media aritm\u00e9tica:"
     ]
    },
    {
     "cell_type": "code",
     "collapsed": false,
     "input": [
      "media_aritmetica = np.sum(freq_pacientes*x_i)/n\n",
      "media_aritmetica"
     ],
     "language": "python",
     "metadata": {},
     "outputs": [
      {
       "metadata": {},
       "output_type": "pyout",
       "prompt_number": 400,
       "text": [
        "25.75"
       ]
      }
     ],
     "prompt_number": 400
    },
    {
     "cell_type": "markdown",
     "metadata": {},
     "source": [
      "Media geom\u00e9trica"
     ]
    },
    {
     "cell_type": "code",
     "collapsed": false,
     "input": [
      "media_geometrica = (np.prod(x_i**freq_pacientes))**(1/n)\n",
      "media_geometrica"
     ],
     "language": "python",
     "metadata": {},
     "outputs": [
      {
       "metadata": {},
       "output_type": "pyout",
       "prompt_number": 401,
       "text": [
        "inf"
       ]
      }
     ],
     "prompt_number": 401
    },
    {
     "cell_type": "markdown",
     "metadata": {},
     "source": [
      "Media cuadr\u00e1tica"
     ]
    },
    {
     "cell_type": "code",
     "collapsed": false,
     "input": [
      "media_cuadratica = np.sqrt((np.sum(freq_pacientes*x_i))/n)\n",
      "media_cuadratica"
     ],
     "language": "python",
     "metadata": {},
     "outputs": [
      {
       "metadata": {},
       "output_type": "pyout",
       "prompt_number": 402,
       "text": [
        "5.0744457825461096"
       ]
      }
     ],
     "prompt_number": 402
    },
    {
     "cell_type": "markdown",
     "metadata": {},
     "source": [
      "Media arm\u00f3nica\n"
     ]
    },
    {
     "cell_type": "code",
     "collapsed": false,
     "input": [
      "media_armonica = np.sum(freq_pacientes)/np.sum(freq_pacientes/x_i)\n",
      "media_armonica"
     ],
     "language": "python",
     "metadata": {},
     "outputs": [
      {
       "metadata": {},
       "output_type": "pyout",
       "prompt_number": 403,
       "text": [
        "15.429831006612782"
       ]
      }
     ],
     "prompt_number": 403
    },
    {
     "cell_type": "markdown",
     "metadata": {},
     "source": [
      "Estos mismos resultados se pueden obtener directamente si creamos un data_frame"
     ]
    },
    {
     "cell_type": "code",
     "collapsed": false,
     "input": [
      "data2 = np.zeros([freq_pacientes.sum(),1])\n",
      "\n",
      "for j in range(len(x_i)):\n",
      "    if j<1:\n",
      "        data2[0:f_pacientes_acum[j]] = x_i[j]\n",
      "    else:\n",
      "        data2[f_pacientes_acum[j-1]:f_pacientes_acum[j]] = x_i[j]\n",
      "\n",
      "data2"
     ],
     "language": "python",
     "metadata": {},
     "outputs": [
      {
       "metadata": {},
       "output_type": "pyout",
       "prompt_number": 412,
       "text": [
        "array([[  5.],\n",
        "       [  5.],\n",
        "       [  5.],\n",
        "       ..., \n",
        "       [ 50.],\n",
        "       [ 50.],\n",
        "       [ 50.]])"
       ]
      }
     ],
     "prompt_number": 412
    },
    {
     "cell_type": "code",
     "collapsed": false,
     "input": [
      "df2 = pd.DataFrame(data2)\n",
      "df2.describe()"
     ],
     "language": "python",
     "metadata": {},
     "outputs": [
      {
       "html": [
        "<div style=\"max-height:1000px;max-width:1500px;overflow:auto;\">\n",
        "<table border=\"1\" class=\"dataframe\">\n",
        "  <thead>\n",
        "    <tr style=\"text-align: right;\">\n",
        "      <th></th>\n",
        "      <th>0</th>\n",
        "    </tr>\n",
        "  </thead>\n",
        "  <tbody>\n",
        "    <tr>\n",
        "      <th>count</th>\n",
        "      <td> 2000.00000</td>\n",
        "    </tr>\n",
        "    <tr>\n",
        "      <th>mean</th>\n",
        "      <td>   25.75000</td>\n",
        "    </tr>\n",
        "    <tr>\n",
        "      <th>std</th>\n",
        "      <td>   14.25795</td>\n",
        "    </tr>\n",
        "    <tr>\n",
        "      <th>min</th>\n",
        "      <td>    5.00000</td>\n",
        "    </tr>\n",
        "    <tr>\n",
        "      <th>25%</th>\n",
        "      <td>   15.00000</td>\n",
        "    </tr>\n",
        "    <tr>\n",
        "      <th>50%</th>\n",
        "      <td>   25.00000</td>\n",
        "    </tr>\n",
        "    <tr>\n",
        "      <th>75%</th>\n",
        "      <td>   35.00000</td>\n",
        "    </tr>\n",
        "    <tr>\n",
        "      <th>max</th>\n",
        "      <td>   50.00000</td>\n",
        "    </tr>\n",
        "  </tbody>\n",
        "</table>\n",
        "</div>"
       ],
       "metadata": {},
       "output_type": "pyout",
       "prompt_number": 432,
       "text": [
        "                0\n",
        "count  2000.00000\n",
        "mean     25.75000\n",
        "std      14.25795\n",
        "min       5.00000\n",
        "25%      15.00000\n",
        "50%      25.00000\n",
        "75%      35.00000\n",
        "max      50.00000"
       ]
      }
     ],
     "prompt_number": 432
    },
    {
     "cell_type": "code",
     "collapsed": false,
     "input": [
      "stats.hmean(data2) #media armonica de SciPy"
     ],
     "language": "python",
     "metadata": {},
     "outputs": [
      {
       "metadata": {},
       "output_type": "pyout",
       "prompt_number": 416,
       "text": [
        "array([ 15.42983101])"
       ]
      }
     ],
     "prompt_number": 416
    },
    {
     "cell_type": "code",
     "collapsed": false,
     "input": [
      "stats.gmean(data2) #media geometrica de SciPy"
     ],
     "language": "python",
     "metadata": {},
     "outputs": [
      {
       "metadata": {},
       "output_type": "pyout",
       "prompt_number": 465,
       "text": [
        "array([ 20.86021734])"
       ]
      }
     ],
     "prompt_number": 465
    },
    {
     "cell_type": "code",
     "collapsed": false,
     "input": [
      "plt.hist(data2, bins=(0,10,20,30,40,60))\n",
      "plt.title('Histograma')\n",
      "plt.ylim(0,600)\n",
      "plt.xlabel(u'Tiempo de reacci\u00f3n '+'$x_i$')\n",
      "plt.ylabel(u'n\u00ba de pacientes '+'$f_i$')\n"
     ],
     "language": "python",
     "metadata": {},
     "outputs": [
      {
       "metadata": {},
       "output_type": "pyout",
       "prompt_number": 463,
       "text": [
        "<matplotlib.text.Text at 0x222aa7f0>"
       ]
      },
      {
       "metadata": {},
       "output_type": "display_data",
       "png": "[encoded data removed]",
       "text": [
        "<matplotlib.figure.Figure at 0x21ae7cc0>"
       ]
      }
     ],
     "prompt_number": 463
    },
    {
     "cell_type": "markdown",
     "metadata": {},
     "source": [
      "Dada la distribuci\u00f3n de los datos, el uso de la media aritm\u00e9tica en este caso no supone mucho error y de hecho coincide con la mediana. La media arm\u00f3nica se desplaza a la izquierda debido a su sensibilidad con valores peque\u00f1os al conjunto. La media geom\u00e9trica en este caso puede ser tambi\u00e9n \u00fatil. Pese a todo ello, hay que descatar que las medidas de tendencia central previamente nombradas, proporcionan s\u00f3lo informaci\u00f3n parcial y se requieren medidas de dispersi\u00f3n para determinar su calidad. Por ejemplo, la desviaci\u00f3n est\u00e1ndar es elevada $\\sigma = 14.26$ respecto al valor de la media, lo que indica que la dispersi\u00f3n de la muestra es elevada.\n",
      "La construcci\u00f3n geom\u00e9trica para hallar las medias aritm\u00e9tica (A), geom\u00e9trica (G), arm\u00f3nica (H) y cuadr\u00e1tica (Q) de dos n\u00fameros $a$ y $b$. Este diagrama ayuda a comprender la relaci\u00f3n entre las mismas."
     ]
    },
    {
     "cell_type": "code",
     "collapsed": false,
     "input": [
      "from IPython.display import Image\n",
      "Image(url='http://upload.wikimedia.org/wikipedia/commons/thumb/f/f7/MathematicalMeans.svg/500px-MathematicalMeans.svg.png')"
     ],
     "language": "python",
     "metadata": {},
     "outputs": [
      {
       "html": [
        "<img src=\"http://upload.wikimedia.org/wikipedia/commons/thumb/f/f7/MathematicalMeans.svg/500px-MathematicalMeans.svg.png\"/>"
       ],
       "metadata": {},
       "output_type": "pyout",
       "prompt_number": 426,
       "text": [
        "<IPython.core.display.Image at 0x1af72320>"
       ]
      }
     ],
     "prompt_number": 426
    },
    {
     "cell_type": "heading",
     "level": 3,
     "metadata": {},
     "source": [
      "A todos los pacientes que tardan en reaccionar m\u00e1s de 35\u2019 se le aplica el medicamento complementario PAQUENODUELA para acelerar los efectos de SINDOLORCABEZON. Hallar el n\u00famero de pacientes a los que se le aplica este segundo medicamento."
     ]
    },
    {
     "cell_type": "markdown",
     "metadata": {},
     "source": [
      "Dado que los valores en tiempo de reacci\u00f3n se dan en intervalos y que hasta ahora se han considerado marcas en el valor medio, se coniderar\u00e1 que la mitad del N\u00ba de pacientes del intervalo 30-40' est\u00e1 por encima de 35'.\n",
      "As\u00ed, el n\u00famero:"
     ]
    },
    {
     "cell_type": "code",
     "collapsed": false,
     "input": [
      "n_pacientes_medicamento2 = n_pacientes[3]/2+n_pacientes[4]\n",
      "n_pacientes_medicamento2"
     ],
     "language": "python",
     "metadata": {},
     "outputs": [
      {
       "metadata": {},
       "output_type": "pyout",
       "prompt_number": 467,
       "text": [
        "550.0"
       ]
      }
     ],
     "prompt_number": 467
    },
    {
     "cell_type": "heading",
     "level": 3,
     "metadata": {},
     "source": [
      "Estudiar la representatividad del tiempo medio de reacci\u00f3n. \u00bfEs representativo? \u00bfPor qu\u00e9?"
     ]
    },
    {
     "cell_type": "markdown",
     "metadata": {},
     "source": [
      "Como ya se coment\u00f3, la distribuci\u00f3n de tiempo (ver histograma) es plana por lo que una medida central no ser\u00e1 representativa. El valor elevado de la desviaci\u00f3n est\u00e1ndar lo indica a su vez."
     ]
    },
    {
     "cell_type": "markdown",
     "metadata": {},
     "source": [
      "Para comprender mejor la representatividad de los valores centrales, se puede observar el siguiente gr\u00e1fico que representa dos distribuciones. La centrada tiene valores pr\u00f3xmias de media, mediana y moda as\u00ed como un valor bajo de desv. est\u00e1ndar. Sin embargo, la distribuci\u00f3n m\u00e1s alargada (l\u00ednea discont\u00ednua) representa claras diferencias entre sus valores centrales y como consecuencia una desv. est\u00e1ndar elevada."
     ]
    },
    {
     "cell_type": "code",
     "collapsed": false,
     "input": [
      "Image(url='http://upload.wikimedia.org/wikipedia/commons/thumb/d/de/Comparison_mean_median_mode.svg/500px-Comparison_mean_median_mode.svg.png')"
     ],
     "language": "python",
     "metadata": {},
     "outputs": [
      {
       "html": [
        "<img src=\"http://upload.wikimedia.org/wikipedia/commons/thumb/d/de/Comparison_mean_median_mode.svg/500px-Comparison_mean_median_mode.svg.png\"/>"
       ],
       "metadata": {},
       "output_type": "pyout",
       "prompt_number": 469,
       "text": [
        "<IPython.core.display.Image at 0x219fbc50>"
       ]
      }
     ],
     "prompt_number": 469
    },
    {
     "cell_type": "heading",
     "level": 3,
     "metadata": {},
     "source": [
      "El Gobierno est\u00e1 pensando en introducir un medicamento con las caracter\u00edsticas de SINDOLORCABEZON. Existen en el mercado junto con este dos productos m\u00e1s PALACABEZA y SINJAQUECAHOY. El tiempo medio de reacci\u00f3n de cada uno de ellos es respectivamente 25 y 30 minutos, con una varianza de 200 y 300 minutos2. Explica detalladamente que criterio de selecci\u00f3n estad\u00edstico podr\u00eda aplicar el Gobierno. Seg\u00fan el criterio anterior que medicamento ser\u00eda el que pasar\u00eda a engrosar la lista de medicamentos de la Seguridad Social."
     ]
    },
    {
     "cell_type": "markdown",
     "metadata": {},
     "source": [
      "Para poder comparar dispersiones entre las distribuciones de los tres medicamentos se debe de calcular el coeficiente de variaci\u00f3n de Pearson."
     ]
    },
    {
     "cell_type": "code",
     "collapsed": false,
     "input": [
      "# Medicamento 1: Sindolorcabezon\n",
      "media_med1 = np.mean(data2)\n",
      "std_med1 = np.std(data2)\n",
      "CV_med1 = std_med1/media_med1*100\n",
      "print('SINDOLORCABEZON: media: '+str(media_med1)+', CV: '+str(round(CV_med1,2)))\n",
      "\n",
      "# Medicamento 2: Palacabeza\n",
      "media_med2 = 25\n",
      "std_med2 = np.sqrt(200)\n",
      "CV_med2 = std_med2/media_med2*100\n",
      "print('PALACABEZA: media: '+str(media_med2)+', CV: '+str(round(CV_med2,2)))\n",
      "\n",
      "# Medicamento 3: Sinjaquecahoy\n",
      "media_med3 = 30\n",
      "std_med3 = np.sqrt(300)\n",
      "CV_med3 = std_med3/media_med3*100\n",
      "print('SINJAQUECAHOY: media: '+str(media_med3)+', CV: '+str(round(CV_med3,2)))\n",
      "\n"
     ],
     "language": "python",
     "metadata": {},
     "outputs": [
      {
       "output_type": "stream",
       "stream": "stdout",
       "text": [
        "SINDOLORCABEZON: media: 25.75, CV: 55.36\n",
        "PALACABEZA: media: 25, CV: 56.57\n",
        "SINJAQUECAHOY: media: 30, CV: 57.74\n"
       ]
      }
     ],
     "prompt_number": 476
    },
    {
     "cell_type": "markdown",
     "metadata": {},
     "source": [
      "De los resultados se observa que SINDOLORCABEZON y PALACABEZA obtienen resultados similares. Pese a que a primera vista PALACABEZA tenga un mejor tiempo las dispersi\u00f3n es elevada. Por lo que estadisticamente y con los datos facilitados ser\u00eda d\u00edficil hacer una selecci\u00f3n apropiada. En cualquier caso y dado los tiempos que corren, la recomendaci\u00f3n ser\u00eda el que suponga menor coste de los dos a la Seguridad Social."
     ]
    }
   ],
   "metadata": {}
  }
 ]
}