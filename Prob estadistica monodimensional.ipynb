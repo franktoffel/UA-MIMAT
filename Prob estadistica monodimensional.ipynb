{
 "metadata": {
  "name": ""
 },
 "nbformat": 3,
 "nbformat_minor": 0,
 "worksheets": [
  {
   "cells": [
    {
     "cell_type": "raw",
     "metadata": {},
     "source": [
      "Master de Ing. de Materiales, Agua y Terreno. UA\n",
      "Francisco J. Navarro Brull"
     ]
    },
    {
     "cell_type": "heading",
     "level": 1,
     "metadata": {},
     "source": [
      "ESTAD\u00cdSTICA MONODIMENSIONAL"
     ]
    },
    {
     "cell_type": "code",
     "collapsed": false,
     "input": [
      "#Importaci\u00f3n de librer\u00edas para resolver los problemas.\n",
      "\n",
      "%pylab inline\n",
      "import pandas as pd\n",
      "import numpy as np\n",
      "import matplotlib.pyplot as plt\n",
      "from scipy import stats\n",
      "from __future__ import division"
     ],
     "language": "python",
     "metadata": {},
     "outputs": [
      {
       "output_type": "stream",
       "stream": "stdout",
       "text": [
        "Populating the interactive namespace from numpy and matplotlib\n"
       ]
      }
     ],
     "prompt_number": 54
    },
    {
     "cell_type": "heading",
     "level": 2,
     "metadata": {},
     "source": [
      "Ejercicio 1."
     ]
    },
    {
     "cell_type": "heading",
     "level": 3,
     "metadata": {},
     "source": [
      "Se han clasificado 50 consultorias por el n\u00famero de sus empleados, resultando la siguiente distribuci\u00f3n:\n",
      "\n",
      "N\u00ba de empleados,\t N\u00ba de consultorias;\n",
      "1,\t13;\n",
      "2,\t10;\n",
      "3,\t15;\n",
      "4,\t7;\n",
      "5,\t5;\n"
     ]
    },
    {
     "cell_type": "heading",
     "level": 3,
     "metadata": {},
     "source": [
      "\n",
      "Se pide:\n",
      "\ta) Distribuci\u00f3n de frecuencias absolutas y relativas, absolutas acumuladas descendentes y ascendentes, relativas acumuladas descendentes y ascendentes.\n"
     ]
    },
    {
     "cell_type": "markdown",
     "metadata": {},
     "source": [
      "En primer lugar se introducen los datos de forma compacta tal y como los da el problema"
     ]
    },
    {
     "cell_type": "code",
     "collapsed": false,
     "input": [
      "xi_p1 = np.array([1, 2, 3, 4, 5])\n",
      "xi_p1"
     ],
     "language": "python",
     "metadata": {},
     "outputs": [
      {
       "metadata": {},
       "output_type": "pyout",
       "prompt_number": 3,
       "text": [
        "array([1, 2, 3, 4, 5])"
       ]
      }
     ],
     "prompt_number": 3
    },
    {
     "cell_type": "code",
     "collapsed": false,
     "input": [
      "fi_p1 = np.array([13, 10, 15, 7, 5])\n",
      "fi_p1"
     ],
     "language": "python",
     "metadata": {},
     "outputs": [
      {
       "metadata": {},
       "output_type": "pyout",
       "prompt_number": 4,
       "text": [
        "array([13, 10, 15,  7,  5])"
       ]
      }
     ],
     "prompt_number": 4
    },
    {
     "cell_type": "markdown",
     "metadata": {},
     "source": [
      "Ya tenemos los vectores con los datos del problema. Para calcular las distrubciones que se nos piden:"
     ]
    },
    {
     "cell_type": "code",
     "collapsed": false,
     "input": [
      "# Frecuencia acumulada (ascendente)\n",
      "Fi_p1 = np.cumsum(fi_p1)\n",
      "Fi_p1\n"
     ],
     "language": "python",
     "metadata": {},
     "outputs": [
      {
       "metadata": {},
       "output_type": "pyout",
       "prompt_number": 5,
       "text": [
        "array([13, 23, 38, 45, 50])"
       ]
      }
     ],
     "prompt_number": 5
    },
    {
     "cell_type": "code",
     "collapsed": false,
     "input": [
      "# Frecuencia acumulada descendente\n",
      "Fid_p1 = np.cumsum(fi_p1[::-1])[::-1] \n",
      "Fid_p1"
     ],
     "language": "python",
     "metadata": {},
     "outputs": [
      {
       "metadata": {},
       "output_type": "pyout",
       "prompt_number": 6,
       "text": [
        "array([50, 37, 27, 12,  5])"
       ]
      }
     ],
     "prompt_number": 6
    },
    {
     "cell_type": "code",
     "collapsed": false,
     "input": [
      "# N\n",
      "N_p1 = np.sum(fi_p1)\n",
      "N_p1"
     ],
     "language": "python",
     "metadata": {},
     "outputs": [
      {
       "metadata": {},
       "output_type": "pyout",
       "prompt_number": 7,
       "text": [
        "50"
       ]
      }
     ],
     "prompt_number": 7
    },
    {
     "cell_type": "code",
     "collapsed": false,
     "input": [
      "# Frecuencia relativa \n",
      "hi_p1 = fi_p1/N_p1\n",
      "hi_p1"
     ],
     "language": "python",
     "metadata": {},
     "outputs": [
      {
       "metadata": {},
       "output_type": "pyout",
       "prompt_number": 8,
       "text": [
        "array([ 0.26,  0.2 ,  0.3 ,  0.14,  0.1 ])"
       ]
      }
     ],
     "prompt_number": 8
    },
    {
     "cell_type": "code",
     "collapsed": false,
     "input": [
      "# Frecuencia acumulada relativa (ascendente)\n",
      "Hi_p1 = np.cumsum(hi_p1)\n",
      "Hi_p1"
     ],
     "language": "python",
     "metadata": {},
     "outputs": [
      {
       "metadata": {},
       "output_type": "pyout",
       "prompt_number": 9,
       "text": [
        "array([ 0.26,  0.46,  0.76,  0.9 ,  1.  ])"
       ]
      }
     ],
     "prompt_number": 9
    },
    {
     "cell_type": "code",
     "collapsed": false,
     "input": [
      "# Frecuencia acumulada relativa descendente\n",
      "Hid_p1 = np.cumsum(hi_p1[::-1])[::-1] \n",
      "Hid_p1"
     ],
     "language": "python",
     "metadata": {},
     "outputs": [
      {
       "metadata": {},
       "output_type": "pyout",
       "prompt_number": 10,
       "text": [
        "array([ 1.  ,  0.74,  0.54,  0.24,  0.1 ])"
       ]
      }
     ],
     "prompt_number": 10
    },
    {
     "cell_type": "markdown",
     "metadata": {},
     "source": [
      "La forma m\u00e1s familiar de agrupar esta informaci\u00f3n es una tabla, para ello utilizaremos pandas. Esta biblioteca nos permitir\u00eda escribir los resultados en una hoja de excel si as\u00ed lo desearamos."
     ]
    },
    {
     "cell_type": "code",
     "collapsed": false,
     "input": [
      "# Creamos un diccionario conteniendo todas las series\n",
      "p1 = {'xi' : pd.Series(xi_p1),\n",
      "      'fi' : pd.Series(fi_p1),\n",
      "      'Fi' : pd.Series(Fi_p1),\n",
      "      'Fid' : pd.Series(Fid_p1),\n",
      "      'hi' : pd.Series(hi_p1),\n",
      "      'Hi' : pd.Series(Hi_p1),\n",
      "      'Hid' : pd.Series(Hid_p1),\n",
      "      }\n",
      "\n",
      "# Generamos el DataFrame\n",
      "df_p1 = pd.DataFrame(p1)\n",
      "\n",
      "# Reordenamos para modificar el orden\n",
      "df_p1 = df_p1.reindex_axis(['xi','fi','Fi','Fid','hi','Hi','Hid'], axis=1)\n",
      "\n",
      "df_p1"
     ],
     "language": "python",
     "metadata": {},
     "outputs": [
      {
       "html": [
        "<div style=\"max-height:1000px;max-width:1500px;overflow:auto;\">\n",
        "<table border=\"1\" class=\"dataframe\">\n",
        "  <thead>\n",
        "    <tr style=\"text-align: right;\">\n",
        "      <th></th>\n",
        "      <th>xi</th>\n",
        "      <th>fi</th>\n",
        "      <th>Fi</th>\n",
        "      <th>Fid</th>\n",
        "      <th>hi</th>\n",
        "      <th>Hi</th>\n",
        "      <th>Hid</th>\n",
        "    </tr>\n",
        "  </thead>\n",
        "  <tbody>\n",
        "    <tr>\n",
        "      <th>0</th>\n",
        "      <td> 1</td>\n",
        "      <td> 13</td>\n",
        "      <td> 13</td>\n",
        "      <td> 50</td>\n",
        "      <td> 0.26</td>\n",
        "      <td> 0.26</td>\n",
        "      <td> 1.00</td>\n",
        "    </tr>\n",
        "    <tr>\n",
        "      <th>1</th>\n",
        "      <td> 2</td>\n",
        "      <td> 10</td>\n",
        "      <td> 23</td>\n",
        "      <td> 37</td>\n",
        "      <td> 0.20</td>\n",
        "      <td> 0.46</td>\n",
        "      <td> 0.74</td>\n",
        "    </tr>\n",
        "    <tr>\n",
        "      <th>2</th>\n",
        "      <td> 3</td>\n",
        "      <td> 15</td>\n",
        "      <td> 38</td>\n",
        "      <td> 27</td>\n",
        "      <td> 0.30</td>\n",
        "      <td> 0.76</td>\n",
        "      <td> 0.54</td>\n",
        "    </tr>\n",
        "    <tr>\n",
        "      <th>3</th>\n",
        "      <td> 4</td>\n",
        "      <td>  7</td>\n",
        "      <td> 45</td>\n",
        "      <td> 12</td>\n",
        "      <td> 0.14</td>\n",
        "      <td> 0.90</td>\n",
        "      <td> 0.24</td>\n",
        "    </tr>\n",
        "    <tr>\n",
        "      <th>4</th>\n",
        "      <td> 5</td>\n",
        "      <td>  5</td>\n",
        "      <td> 50</td>\n",
        "      <td>  5</td>\n",
        "      <td> 0.10</td>\n",
        "      <td> 1.00</td>\n",
        "      <td> 0.10</td>\n",
        "    </tr>\n",
        "  </tbody>\n",
        "</table>\n",
        "</div>"
       ],
       "metadata": {},
       "output_type": "pyout",
       "prompt_number": 11,
       "text": [
        "   xi  fi  Fi  Fid    hi    Hi   Hid\n",
        "0   1  13  13   50  0.26  0.26  1.00\n",
        "1   2  10  23   37  0.20  0.46  0.74\n",
        "2   3  15  38   27  0.30  0.76  0.54\n",
        "3   4   7  45   12  0.14  0.90  0.24\n",
        "4   5   5  50    5  0.10  1.00  0.10"
       ]
      }
     ],
     "prompt_number": 11
    },
    {
     "cell_type": "heading",
     "level": 3,
     "metadata": {},
     "source": [
      "b) Porcentaje de consultor\u00edas."
     ]
    },
    {
     "cell_type": "code",
     "collapsed": false,
     "input": [
      "# El valor es equivalente a la frecuencia relativa en %\n",
      "\n",
      "porcentaje_p1 = fi_p1/N_p1*100\n",
      "porcentaje_p1\n",
      "\n",
      "for i in range(len(porcentaje_p1)):\n",
      "    if i == 0:\n",
      "        print('Cosultor\u00eda con ' + str(xi_p1[i]) + ' empleado: ' + str(round(porcentaje_p1[i],2)) + '%')\n",
      "    else:\n",
      "        print('Cosultor\u00eda con ' + str(xi_p1[i]) + ' empleados: ' + str(round(porcentaje_p1[i],2)) + '%')\n"
     ],
     "language": "python",
     "metadata": {},
     "outputs": [
      {
       "output_type": "stream",
       "stream": "stdout",
       "text": [
        "Cosultor\u00eda con 1 empleado: 26.0%\n",
        "Cosultor\u00eda con 2 empleados: 20.0%\n",
        "Cosultor\u00eda con 3 empleados: 30.0%\n",
        "Cosultor\u00eda con 4 empleados: 14.0%\n",
        "Cosultor\u00eda con 5 empleados: 10.0%\n"
       ]
      }
     ],
     "prompt_number": 12
    },
    {
     "cell_type": "heading",
     "level": 2,
     "metadata": {},
     "source": [
      "Problema 2:"
     ]
    },
    {
     "cell_type": "heading",
     "level": 3,
     "metadata": {},
     "source": [
      "El n\u00famero de alumnos matriculados en los grados de Ingenier\u00eda Civil, Ingenier\u00eda de la Edificaci\u00f3n, Ingenier\u00eda de Caminos y Arquitectura, en la E.P.S. de la U.A. en el curso 2010-2011 son:"
     ]
    },
    {
     "cell_type": "raw",
     "metadata": {},
     "source": [
      "Grado,\tN\u00ba de alumnos;\n",
      "Ingenier\u00eda Civil,\t240;\n",
      "Ingenier\u00eda de la Edificaci\u00f3n,\t184;\n",
      "Ingenier\u00eda de Caminos,\t93;\n",
      "Arquitectura,\t120;\n"
     ]
    },
    {
     "cell_type": "heading",
     "level": 3,
     "metadata": {},
     "source": [
      "Construir un diagrama de barras y un sectograma indicando porcentaje."
     ]
    },
    {
     "cell_type": "code",
     "collapsed": false,
     "input": [
      "xi_p2 = np.array([1,2,3,4])\n",
      "fi_p2 =  np.array([240,184,93,120])"
     ],
     "language": "python",
     "metadata": {},
     "outputs": [],
     "prompt_number": 13
    },
    {
     "cell_type": "code",
     "collapsed": false,
     "input": [
      "etiquetas_p2 = 'I.Civil', 'I.Ed', 'I.Caminos', 'Arquitectura'\n",
      "\n",
      "plt.show()\n",
      "plt.bar(xi_p2, fi_p2, align='center', alpha=0.4)\n",
      "plt.title('Curso 2010-2011')\n",
      "plt.ylim(0,250)\n",
      "plt.xlabel(u'carreras')\n",
      "plt.ylabel(u'n\u00ba de matriculados')\n",
      "plt.xticks(xi_p2, etiquetas_p2)"
     ],
     "language": "python",
     "metadata": {},
     "outputs": [
      {
       "metadata": {},
       "output_type": "pyout",
       "prompt_number": 14,
       "text": [
        "([<matplotlib.axis.XTick at 0x119eb710>,\n",
        "  <matplotlib.axis.XTick at 0x119f9e10>,\n",
        "  <matplotlib.axis.XTick at 0x11a12ef0>,\n",
        "  <matplotlib.axis.XTick at 0x11a16400>],\n",
        " <a list of 4 Text xticklabel objects>)"
       ]
      },
      {
       "metadata": {},
       "output_type": "display_data",
       "png": "[encoded data removed]",
       "text": [
        "<matplotlib.figure.Figure at 0x66b6668>"
       ]
      }
     ],
     "prompt_number": 14
    },
    {
     "cell_type": "markdown",
     "metadata": {},
     "source": [
      "Para realizar el sectograma"
     ]
    },
    {
     "cell_type": "code",
     "collapsed": false,
     "input": [
      "# Los sectores se ordenaran en sentido de las agujas de reloj.\n",
      "etiquetas_p2 = 'I.Civil', 'I.Ed', 'I.Caminos', 'Arquitectura'\n",
      "porcentaje_p2 = fi_p2/np.sum(fi_p2)\n",
      "colores = ['yellowgreen', 'gold', 'lightskyblue', 'lightcoral']\n",
      "explode = (0, 0, 0, 0) # Dar valor en decimales si se quiere destacar sector\n",
      "\n",
      "plt.pie(porcentaje_p2, explode=explode, labels=etiquetas_p2, colors=colores,\n",
      "        autopct='%1.1f%%', shadow=True, startangle=90)\n",
      "\n",
      "# Fija el radio para que sea un c\u00edrculo.\n",
      "plt.axis('equal')\n",
      "\n",
      "plt.title(u'N\u00ba de alumnos matriculados - Curso 10-11.')\n",
      "\n"
     ],
     "language": "python",
     "metadata": {},
     "outputs": [
      {
       "metadata": {},
       "output_type": "pyout",
       "prompt_number": 15,
       "text": [
        "<matplotlib.text.Text at 0x11c2da58>"
       ]
      },
      {
       "metadata": {},
       "output_type": "display_data",
       "png": "[encoded data removed]",
       "text": [
        "<matplotlib.figure.Figure at 0x119f9710>"
       ]
      }
     ],
     "prompt_number": 15
    },
    {
     "cell_type": "markdown",
     "metadata": {},
     "source": [
      "Nota: Matplotlib es una librer\u00eda muy extensa que permite un alto grado de personificaci\u00f3n. Para generar otras figuras [Ver galer\u00eda online](http://matplotlib.org/gallery.html)"
     ]
    },
    {
     "cell_type": "heading",
     "level": 2,
     "metadata": {},
     "source": [
      "Problema 3"
     ]
    },
    {
     "cell_type": "heading",
     "level": 3,
     "metadata": {},
     "source": [
      "Dada la distribuci\u00f3n de frecuencias:"
     ]
    },
    {
     "cell_type": "raw",
     "metadata": {},
     "source": [
      "Intervalos de clase,\tfi;\n",
      "                0-2,\t4;\n",
      "                2-4,\t6;\n",
      "                4-5,\t4;\n",
      "                5-7,\t12;\n",
      "                7-10,\t9;"
     ]
    },
    {
     "cell_type": "heading",
     "level": 3,
     "metadata": {},
     "source": [
      "Histograma y pol\u00edgono de frecuencias. Pol\u00edgono acumulativo de frecuencias. Calcular, utilizando el  pol\u00edgono acumulativo de frecuencias, el valor de la variable que a partir del cual se supera el 30% de la distribuci\u00f3n."
     ]
    },
    {
     "cell_type": "markdown",
     "metadata": {},
     "source": [
      "Antes de resolver vamos a generar una funci\u00f3n que cree la tabla generada en el problema 1. As\u00ed evitaremos reescribir c\u00f3digo para realizar la misma operaci\u00f3n"
     ]
    },
    {
     "cell_type": "code",
     "collapsed": false,
     "input": [
      "# Creamos una clase vac\u00eda que no ser\u00e1 \u00fatil para \"acumular\" los resultados dentro de una variable\n",
      "\n",
      "class problema(object):\n",
      "    pass\n",
      "\n",
      "# Creamos la funci\u00f3n para generar la tabla de frecuencias. \n",
      "\n",
      "# Nota: Estas funciones se pueden a\u00f1adir dentro de la clase para tener m\u00e9todos y una programaci\u00f3n orientada a objetos\n",
      "# m\u00e1s eficiente y sencilla de mantener. Por el momento se obviar\u00e1 dicha posibilidad manteni\u00e9ndose una programaci\u00f3n \n",
      "# de tipo funcional.\n",
      "\n",
      "def tabla_frec(Linf,Lsup,fi):  # Funci\u00f3n que crea una tabla de frecuencias a partir de datos\n",
      "    \"\"\"Genera tabla de frecuencias a partir de los intervalos de clase y frecuencias dadas\"\"\" \n",
      "    xi = (Linf+Lsup)/2 # Marca de clase\n",
      "    c = Lsup-Linf # Tama\u00f1o de clase\n",
      "        \n",
      "    Fi = np.cumsum(fi) # Freq acumulada (ascendente)\n",
      "        \n",
      "    N = np.sum(fi) #N\u00famero total de muestras\n",
      "        \n",
      "    hi = fi/N # Freq relativa\n",
      "        \n",
      "    Hi = np.cumsum(hi) # Freq relativa acumulada (ascedente)\n",
      "        \n",
      "    # Preparaci\u00f3n de datos para el dataframe\n",
      "    \n",
      "    pdatos = {'xi' : pd.Series(xi),\n",
      "             'fi' : pd.Series(fi),\n",
      "             'Fi' : pd.Series(Fi),\n",
      "             'hi' : pd.Series(hi),\n",
      "             'Hi' : pd.Series(Hi),\n",
      "             }\n",
      "    \n",
      "    df = pd.DataFrame(pdatos) # Creaci\u00f3n del dataframe\n",
      "        \n",
      "    \n",
      "    df = df.reindex_axis(['xi','fi','Fi','hi','Hi'], axis=1) #reorgnizaci\u00f3n de columnas\n",
      "    \n",
      "    return df\n",
      "    \n",
      "    "
     ],
     "language": "python",
     "metadata": {},
     "outputs": [],
     "prompt_number": 115
    },
    {
     "cell_type": "markdown",
     "metadata": {},
     "source": [
      "Una vez creada introducimos los datos del problema y la llamamos para generar la tabla automaticamente"
     ]
    },
    {
     "cell_type": "code",
     "collapsed": false,
     "input": [
      "p3 = problema()\n",
      "\n",
      "p3.Linf = np.array([0,2,4,5,7])\n",
      "p3.Lsup = np.array([2,4,5,7,10])\n",
      "p3.fi = np.array([4,6,4,12,9])\n",
      "\n",
      "p3.df = tabla_frec(p3.Linf,p3.Lsup,p3.fi)\n",
      "p3.df"
     ],
     "language": "python",
     "metadata": {},
     "outputs": [
      {
       "html": [
        "<div style=\"max-height:1000px;max-width:1500px;overflow:auto;\">\n",
        "<table border=\"1\" class=\"dataframe\">\n",
        "  <thead>\n",
        "    <tr style=\"text-align: right;\">\n",
        "      <th></th>\n",
        "      <th>xi</th>\n",
        "      <th>fi</th>\n",
        "      <th>Fi</th>\n",
        "      <th>hi</th>\n",
        "      <th>Hi</th>\n",
        "    </tr>\n",
        "  </thead>\n",
        "  <tbody>\n",
        "    <tr>\n",
        "      <th>0</th>\n",
        "      <td> 1.0</td>\n",
        "      <td>  4</td>\n",
        "      <td>  4</td>\n",
        "      <td> 0.114286</td>\n",
        "      <td> 0.114286</td>\n",
        "    </tr>\n",
        "    <tr>\n",
        "      <th>1</th>\n",
        "      <td> 3.0</td>\n",
        "      <td>  6</td>\n",
        "      <td> 10</td>\n",
        "      <td> 0.171429</td>\n",
        "      <td> 0.285714</td>\n",
        "    </tr>\n",
        "    <tr>\n",
        "      <th>2</th>\n",
        "      <td> 4.5</td>\n",
        "      <td>  4</td>\n",
        "      <td> 14</td>\n",
        "      <td> 0.114286</td>\n",
        "      <td> 0.400000</td>\n",
        "    </tr>\n",
        "    <tr>\n",
        "      <th>3</th>\n",
        "      <td> 6.0</td>\n",
        "      <td> 12</td>\n",
        "      <td> 26</td>\n",
        "      <td> 0.342857</td>\n",
        "      <td> 0.742857</td>\n",
        "    </tr>\n",
        "    <tr>\n",
        "      <th>4</th>\n",
        "      <td> 8.5</td>\n",
        "      <td>  9</td>\n",
        "      <td> 35</td>\n",
        "      <td> 0.257143</td>\n",
        "      <td> 1.000000</td>\n",
        "    </tr>\n",
        "  </tbody>\n",
        "</table>\n",
        "</div>"
       ],
       "metadata": {},
       "output_type": "pyout",
       "prompt_number": 17,
       "text": [
        "    xi  fi  Fi        hi        Hi\n",
        "0  1.0   4   4  0.114286  0.114286\n",
        "1  3.0   6  10  0.171429  0.285714\n",
        "2  4.5   4  14  0.114286  0.400000\n",
        "3  6.0  12  26  0.342857  0.742857\n",
        "4  8.5   9  35  0.257143  1.000000"
       ]
      }
     ],
     "prompt_number": 17
    },
    {
     "cell_type": "markdown",
     "metadata": {},
     "source": [
      "Por otro lado, se genera la tabla de datos reales (sin agrupar) mediante la siguiente funci\u00f3n."
     ]
    },
    {
     "cell_type": "code",
     "collapsed": false,
     "input": [
      "def gendatos(xi,fi):\n",
      "    \"Crea arrays con todos los datos en nomenclatura compacta\"\n",
      "\n",
      "    data = np.empty([fi.sum(),1]) \n",
      "    \n",
      "    f_acum = np.cumsum(fi)\n",
      "    \n",
      "    for i in range(len(xi)):\n",
      "        if i<1:\n",
      "            data[0:f_acum[i]] = xi[i]\n",
      "        else:\n",
      "            data[f_acum[i-1]:f_acum[i]] = xi[i]\n",
      "\n",
      "    return data"
     ],
     "language": "python",
     "metadata": {},
     "outputs": [],
     "prompt_number": 18
    },
    {
     "cell_type": "markdown",
     "metadata": {},
     "source": [
      "Una vez generada las tablas, la representaci\u00f3n de las gr\u00e1ficas son triviales."
     ]
    },
    {
     "cell_type": "code",
     "collapsed": false,
     "input": [
      "p3.data = gendatos(p3.df['xi'],p3.fi)\n",
      "\n",
      "bins = (0,2,4,5,7,10)\n",
      "\n",
      "plt.hist(p3.data, bins, alpha=0.4)\n",
      "plt.title(u'Histograma y p\u00f3ligono de frecuencias')\n",
      "plt.ylim(0,15)\n",
      "plt.xlabel(u'Intervalos de clase')\n",
      "plt.ylabel(u'fi')\n",
      "plt.xticks(bins)\n",
      "plt.plot(p3.df['xi'],p3.fi)\n"
     ],
     "language": "python",
     "metadata": {},
     "outputs": [
      {
       "metadata": {},
       "output_type": "pyout",
       "prompt_number": 19,
       "text": [
        "[<matplotlib.lines.Line2D at 0x11ded710>]"
       ]
      },
      {
       "metadata": {},
       "output_type": "display_data",
       "png": "[encoded data removed]",
       "text": [
        "<matplotlib.figure.Figure at 0x118f1ba8>"
       ]
      }
     ],
     "prompt_number": 19
    },
    {
     "cell_type": "code",
     "collapsed": false,
     "input": [
      "\n",
      "plt.title(u'Pol\u00edgono acumulativo de frecuencias')\n",
      "\n",
      "bins = (0,2,4,5,7,10)\n",
      "\n",
      "plt.hist(p3.data, bins, alpha=0.4, cumulative=True,)\n",
      "\n",
      "plt.xlabel(u'Marca de clase')\n",
      "plt.ylabel(u'fi')\n",
      "plt.xticks(p3.Lsup)\n",
      "# plt.yticks(p3.df['Fi'])\n",
      "plt.plot(p3.Lsup,p3.df['Fi'])\n",
      "\n"
     ],
     "language": "python",
     "metadata": {},
     "outputs": [
      {
       "metadata": {},
       "output_type": "pyout",
       "prompt_number": 20,
       "text": [
        "[<matplotlib.lines.Line2D at 0x11a1b518>]"
       ]
      },
      {
       "metadata": {},
       "output_type": "display_data",
       "png": "[encoded data removed]",
       "text": [
        "<matplotlib.figure.Figure at 0x11a1bc50>"
       ]
      }
     ],
     "prompt_number": 20
    },
    {
     "cell_type": "heading",
     "level": 3,
     "metadata": {},
     "source": [
      "Calcular, utilizando el  pol\u00edgono acumulativo de frecuencias, el valor de la variable que a partir del cual se supera el 30% de la distribuci\u00f3n."
     ]
    },
    {
     "cell_type": "code",
     "collapsed": false,
     "input": [
      "plt.title(u'Pol\u00edgono acumulativo de frecuencias')\n",
      "\n",
      "bins = (0,2,4,5,7,10)\n",
      "\n",
      "plt.hist(p3.data, bins, alpha=0.4, cumulative=True,)\n",
      "\n",
      "plt.xlabel(u'Marca de clase')\n",
      "plt.ylabel(u'fi')\n",
      "plt.xticks(p3.Lsup)\n",
      "# plt.yticks(p3.df['Fi'])\n",
      "plt.plot(p3.Lsup,p3.df['Fi'])"
     ],
     "language": "python",
     "metadata": {},
     "outputs": [
      {
       "metadata": {},
       "output_type": "pyout",
       "prompt_number": 21,
       "text": [
        "[<matplotlib.lines.Line2D at 0x120b8ef0>]"
       ]
      },
      {
       "metadata": {},
       "output_type": "display_data",
       "png": "[encoded data removed]",
       "text": [
        "<matplotlib.figure.Figure at 0x11dd3d30>"
       ]
      }
     ],
     "prompt_number": 21
    },
    {
     "cell_type": "code",
     "collapsed": false,
     "input": [
      "p3.df"
     ],
     "language": "python",
     "metadata": {},
     "outputs": [
      {
       "html": [
        "<div style=\"max-height:1000px;max-width:1500px;overflow:auto;\">\n",
        "<table border=\"1\" class=\"dataframe\">\n",
        "  <thead>\n",
        "    <tr style=\"text-align: right;\">\n",
        "      <th></th>\n",
        "      <th>xi</th>\n",
        "      <th>fi</th>\n",
        "      <th>Fi</th>\n",
        "      <th>hi</th>\n",
        "      <th>Hi</th>\n",
        "    </tr>\n",
        "  </thead>\n",
        "  <tbody>\n",
        "    <tr>\n",
        "      <th>0</th>\n",
        "      <td> 1.0</td>\n",
        "      <td>  4</td>\n",
        "      <td>  4</td>\n",
        "      <td> 0.114286</td>\n",
        "      <td> 0.114286</td>\n",
        "    </tr>\n",
        "    <tr>\n",
        "      <th>1</th>\n",
        "      <td> 3.0</td>\n",
        "      <td>  6</td>\n",
        "      <td> 10</td>\n",
        "      <td> 0.171429</td>\n",
        "      <td> 0.285714</td>\n",
        "    </tr>\n",
        "    <tr>\n",
        "      <th>2</th>\n",
        "      <td> 4.5</td>\n",
        "      <td>  4</td>\n",
        "      <td> 14</td>\n",
        "      <td> 0.114286</td>\n",
        "      <td> 0.400000</td>\n",
        "    </tr>\n",
        "    <tr>\n",
        "      <th>3</th>\n",
        "      <td> 6.0</td>\n",
        "      <td> 12</td>\n",
        "      <td> 26</td>\n",
        "      <td> 0.342857</td>\n",
        "      <td> 0.742857</td>\n",
        "    </tr>\n",
        "    <tr>\n",
        "      <th>4</th>\n",
        "      <td> 8.5</td>\n",
        "      <td>  9</td>\n",
        "      <td> 35</td>\n",
        "      <td> 0.257143</td>\n",
        "      <td> 1.000000</td>\n",
        "    </tr>\n",
        "  </tbody>\n",
        "</table>\n",
        "</div>"
       ],
       "metadata": {},
       "output_type": "pyout",
       "prompt_number": 22,
       "text": [
        "    xi  fi  Fi        hi        Hi\n",
        "0  1.0   4   4  0.114286  0.114286\n",
        "1  3.0   6  10  0.171429  0.285714\n",
        "2  4.5   4  14  0.114286  0.400000\n",
        "3  6.0  12  26  0.342857  0.742857\n",
        "4  8.5   9  35  0.257143  1.000000"
       ]
      }
     ],
     "prompt_number": 22
    },
    {
     "cell_type": "code",
     "collapsed": false,
     "input": [
      "# Mediante el teorema de tales se llega a la siguiente relacion\n",
      "# valor_p = Linf_p + (c_p*((percentil/100)*n-Fi_prev_p))/fi_p\n",
      "\n",
      "percentil = 30\n",
      "\n",
      "# Se busca la posici\u00f3n del intervalo con el Linf que contiene al percentil\n",
      "i_p = np.argmax(p3.df['Hi'] > (percentil/100))\n",
      "\n",
      "Linf_p = p3.Linf[i_p] # Limite inferior del intervalo que contiene al Percentil\n",
      "Lsup_p = p3.Lsup[i_p] # Limite superior del intervalo que contiene al Percentil\n",
      "\n",
      "c_p = Lsup_p-Linf_p # Tama\u00f1o dle intervalo de clase\n",
      "\n",
      "fi_p = p3.fi[i] # Frecuencia en la clase que contiene al Percentil\n",
      "\n",
      "# Fi = p3.df['Fi'] # Tabla de valores de Fi\n",
      "# Fi_prev_p = Fi[i_p-1] # Frec acumulada en la clase anterior k-esima\n",
      "\n",
      "Fi_prev_p = p3.df['Fi'][i_p-1] # Equivalente a las dos l\u00edneas anteriores\n",
      "\n",
      "n = np.sum(p3.fi)\n",
      "\n",
      "valor_p = Linf_p + (c_p*((percentil/100)*n-Fi_prev_p))/fi_p\n",
      "\n",
      "valor_p\n"
     ],
     "language": "python",
     "metadata": {},
     "outputs": [
      {
       "metadata": {},
       "output_type": "pyout",
       "prompt_number": 23,
       "text": [
        "4.0555555555555554"
       ]
      }
     ],
     "prompt_number": 23
    },
    {
     "cell_type": "heading",
     "level": 4,
     "metadata": {},
     "source": [
      "Problema 4"
     ]
    },
    {
     "cell_type": "heading",
     "level": 2,
     "metadata": {},
     "source": [
      "Completar los datos que faltan en la distribuci\u00f3n:"
     ]
    },
    {
     "cell_type": "raw",
     "metadata": {},
     "source": [
      "xi,\tfi,\tFi,\thi,\tHi;\n",
      "1,\t3,\t-,\t0.083,\t-;\n",
      "2,\t4,\t-,\t-,\t-;\n",
      "3,\t-,\t12,\t0.139,\t-;\n",
      "4,\t6,\t-,\t-,\t-;\n",
      "5,\t8,\t26,\t-,\t-;\n",
      "6,\t-,\t34,\t0.222,\t-;\n",
      "7,\t2,\t-,\t-,\t-;\n"
     ]
    },
    {
     "cell_type": "markdown",
     "metadata": {},
     "source": [
      "El valor que falta de fi se puede sacar de la resta del acumulado Fi menos el valor de la suma anterior, as\u00ed:"
     ]
    },
    {
     "cell_type": "code",
     "collapsed": false,
     "input": [
      "p4 = problema()\n",
      "p4.xi = np.array([1,2,3,4,5,6,7])\n",
      "p4.fi = np.array([3,4,(12-(3+4)),6,8,(34-26),2])      \n",
      "p4.fi"
     ],
     "language": "python",
     "metadata": {},
     "outputs": [
      {
       "metadata": {},
       "output_type": "pyout",
       "prompt_number": 24,
       "text": [
        "array([3, 4, 5, 6, 8, 8, 2])"
       ]
      }
     ],
     "prompt_number": 24
    },
    {
     "cell_type": "code",
     "collapsed": false,
     "input": [
      "# Creamos la funci\u00f3n para generar la tabla de frecuencias directa\n",
      "# (a partir de datos sin agrupar en intervalos)\n",
      "\n",
      "def tabla_frec_d(xi,fi):  # Crea una tabla de frecuencias a partir de datos\n",
      "    \"\"\"Genera tabla de frecuencias a paritr de los intervalos de calase y frecuencias dadas\"\"\"\n",
      "#     if not xi:     \n",
      "#         xi = (Linf+Lsup)/2 # Marca de clase\n",
      "#         c = Lsup-Linf # Tama\u00f1o de clase     \n",
      "        \n",
      "    Fi = np.cumsum(fi) # Freq acumulada (ascendente)\n",
      "        \n",
      "    N = np.sum(fi) #N\u00famero total de muestras\n",
      "        \n",
      "    hi = fi/N # Freq relativa\n",
      "        \n",
      "    Hi = np.cumsum(hi) # Freq relativa acumulada (ascedente)\n",
      "        \n",
      "    # Preparaci\u00f3n de datos para el dataframe\n",
      "    pdatos = {'xi' : pd.Series(xi),\n",
      "             'fi' : pd.Series(fi),\n",
      "             'Fi' : pd.Series(Fi),\n",
      "             'hi' : pd.Series(hi),\n",
      "             'Hi' : pd.Series(Hi),\n",
      "             }\n",
      "    \n",
      "    df = pd.DataFrame(pdatos) # Creaci\u00f3n del dataframe\n",
      "        \n",
      "    \n",
      "    df = df.reindex_axis(['xi','fi','Fi','hi','Hi'], axis=1) # reorgnizaci\u00f3n de columnas\n",
      "    \n",
      "    return df\n",
      "    \n",
      "    "
     ],
     "language": "python",
     "metadata": {},
     "outputs": [],
     "prompt_number": 25
    },
    {
     "cell_type": "code",
     "collapsed": false,
     "input": [
      "p4.df = tabla_frec_d(p4.xi,p4.fi)\n",
      "p4.df"
     ],
     "language": "python",
     "metadata": {},
     "outputs": [
      {
       "html": [
        "<div style=\"max-height:1000px;max-width:1500px;overflow:auto;\">\n",
        "<table border=\"1\" class=\"dataframe\">\n",
        "  <thead>\n",
        "    <tr style=\"text-align: right;\">\n",
        "      <th></th>\n",
        "      <th>xi</th>\n",
        "      <th>fi</th>\n",
        "      <th>Fi</th>\n",
        "      <th>hi</th>\n",
        "      <th>Hi</th>\n",
        "    </tr>\n",
        "  </thead>\n",
        "  <tbody>\n",
        "    <tr>\n",
        "      <th>0</th>\n",
        "      <td> 1</td>\n",
        "      <td> 3</td>\n",
        "      <td>  3</td>\n",
        "      <td> 0.083333</td>\n",
        "      <td> 0.083333</td>\n",
        "    </tr>\n",
        "    <tr>\n",
        "      <th>1</th>\n",
        "      <td> 2</td>\n",
        "      <td> 4</td>\n",
        "      <td>  7</td>\n",
        "      <td> 0.111111</td>\n",
        "      <td> 0.194444</td>\n",
        "    </tr>\n",
        "    <tr>\n",
        "      <th>2</th>\n",
        "      <td> 3</td>\n",
        "      <td> 5</td>\n",
        "      <td> 12</td>\n",
        "      <td> 0.138889</td>\n",
        "      <td> 0.333333</td>\n",
        "    </tr>\n",
        "    <tr>\n",
        "      <th>3</th>\n",
        "      <td> 4</td>\n",
        "      <td> 6</td>\n",
        "      <td> 18</td>\n",
        "      <td> 0.166667</td>\n",
        "      <td> 0.500000</td>\n",
        "    </tr>\n",
        "    <tr>\n",
        "      <th>4</th>\n",
        "      <td> 5</td>\n",
        "      <td> 8</td>\n",
        "      <td> 26</td>\n",
        "      <td> 0.222222</td>\n",
        "      <td> 0.722222</td>\n",
        "    </tr>\n",
        "    <tr>\n",
        "      <th>5</th>\n",
        "      <td> 6</td>\n",
        "      <td> 8</td>\n",
        "      <td> 34</td>\n",
        "      <td> 0.222222</td>\n",
        "      <td> 0.944444</td>\n",
        "    </tr>\n",
        "    <tr>\n",
        "      <th>6</th>\n",
        "      <td> 7</td>\n",
        "      <td> 2</td>\n",
        "      <td> 36</td>\n",
        "      <td> 0.055556</td>\n",
        "      <td> 1.000000</td>\n",
        "    </tr>\n",
        "  </tbody>\n",
        "</table>\n",
        "</div>"
       ],
       "metadata": {},
       "output_type": "pyout",
       "prompt_number": 26,
       "text": [
        "   xi  fi  Fi        hi        Hi\n",
        "0   1   3   3  0.083333  0.083333\n",
        "1   2   4   7  0.111111  0.194444\n",
        "2   3   5  12  0.138889  0.333333\n",
        "3   4   6  18  0.166667  0.500000\n",
        "4   5   8  26  0.222222  0.722222\n",
        "5   6   8  34  0.222222  0.944444\n",
        "6   7   2  36  0.055556  1.000000"
       ]
      }
     ],
     "prompt_number": 26
    },
    {
     "cell_type": "heading",
     "level": 2,
     "metadata": {},
     "source": [
      "Problema 5"
     ]
    },
    {
     "cell_type": "heading",
     "level": 3,
     "metadata": {},
     "source": [
      "En la biblioteca de la E.P.S., se han tomado 100 libros y se ha anotado el n\u00famero de obras rese\u00f1adas en la bibliograf\u00eda de cada uno de ellos, resultando la siguiente tabla:"
     ]
    },
    {
     "cell_type": "raw",
     "metadata": {},
     "source": [
      "Intervalos de clase\t  N\u00ba de rese\u00f1as bibliogr\u00e1ficas\n",
      "0-10\t8\n",
      "10-20\t12\n",
      "20-30\t10\n",
      "30-40\t14\n",
      "40-50\t21\n",
      "50-60\t16\n",
      "60-70\t10\n",
      "70-80\t5\n",
      "80-90\t3\n",
      "90-100\t1\n"
     ]
    },
    {
     "cell_type": "heading",
     "level": 3,
     "metadata": {},
     "source": [
      "Calcular la media aritm\u00e9tica. La mediana y la moda, mediante procedimientos gr\u00e1ficos y anal\u00edticos."
     ]
    },
    {
     "cell_type": "code",
     "collapsed": false,
     "input": [
      "p5 = problema()\n",
      "\n",
      "p5.Linf = np.array([0,10,20,30,40,50,60,70,80,90])\n",
      "p5.Lsup = np.array([10,20,30,40,50,60,70,80,90,100])\n",
      "p5.fi = np.array([8,12,10,14,51,16,10,5,3,1])\n",
      "\n",
      "p5.xi = (p5.Lsup+p5.Linf)/2\n",
      "\n",
      "p5.media_a = np.sum((p5.xi*p5.fi)/np.sum(p5.fi))\n",
      "\n",
      "print('Media aritm\u00e9tica: '+str(round(p5.media_a,2)))"
     ],
     "language": "python",
     "metadata": {},
     "outputs": [
      {
       "output_type": "stream",
       "stream": "stdout",
       "text": [
        "Media aritm\u00e9tica: 42.38\n"
       ]
      }
     ],
     "prompt_number": 27
    },
    {
     "cell_type": "markdown",
     "metadata": {},
     "source": [
      "La mediana corresponde al percentil 50, en el problema 3 se describio la f\u00f3rmula obtenida aplicando el teorema de tales. Por practicidad crearemos una funci\u00f3n para automatizar la obtenci\u00f3n de los percentiles."
     ]
    },
    {
     "cell_type": "code",
     "collapsed": false,
     "input": [
      "# Mediante el teorema de tales se llega a la siguiente relacion\n",
      "# valor_p = Linf_p + (c_p*((percentil/100)*n-Fi_prev_p))/fi_p\n",
      "\n",
      "def PercentilAg(percentil, Linf, Lsup, fi):\n",
      "    \"\"\"Obtenci\u00f3n del percentil para datos agrupados\"\"\"\n",
      "    \n",
      "    df = tabla_frec(Linf, Lsup, fi) #Generaci\u00f3n de la tabla\n",
      "    \n",
      "    # Se busca la posici\u00f3n del intervalo con el Linf que contiene al percentil\n",
      "    i_p = np.argmax(df['Hi']>percentil/100)\n",
      "    \n",
      "    Linf_p = Linf[i_p] # Limite inferior del intervalo que contiene al Percentil\n",
      "    Lsup_p = Lsup[i_p] # Limite superior del intervalo que contiene al Percentil\n",
      "    \n",
      "    c_p = Lsup_p-Linf_p # Tama\u00f1o del intervalo de clase\n",
      "    \n",
      "    fi_p = fi[i_p] # Frecuencia en la clase que contiene al Percentil\n",
      "    \n",
      "    # Fi = p3.df['Fi'] # Tabla de valores de Fi\n",
      "    # Fi_prev_p = Fi[i_p-1] # Frec acumulada en la clase anterior k-esima\n",
      "    \n",
      "    Fi_prev_p = df['Fi'][i_p-1] # Equivalente a las dos l\u00edneas anteriores\n",
      "    \n",
      "    n = np.sum(fi)\n",
      "    \n",
      "    valor_p = Linf_p + (c_p*((percentil/100)*n-Fi_prev_p))/fi_p\n",
      "    \n",
      "    \n",
      "    return valor_p"
     ],
     "language": "python",
     "metadata": {},
     "outputs": [],
     "prompt_number": 28
    },
    {
     "cell_type": "code",
     "collapsed": false,
     "input": [
      "p5.df = tabla_frec(p5.Linf,p5.Lsup,p5.fi)\n",
      "p5.df"
     ],
     "language": "python",
     "metadata": {},
     "outputs": [
      {
       "html": [
        "<div style=\"max-height:1000px;max-width:1500px;overflow:auto;\">\n",
        "<table border=\"1\" class=\"dataframe\">\n",
        "  <thead>\n",
        "    <tr style=\"text-align: right;\">\n",
        "      <th></th>\n",
        "      <th>xi</th>\n",
        "      <th>fi</th>\n",
        "      <th>Fi</th>\n",
        "      <th>hi</th>\n",
        "      <th>Hi</th>\n",
        "    </tr>\n",
        "  </thead>\n",
        "  <tbody>\n",
        "    <tr>\n",
        "      <th>0</th>\n",
        "      <td>  5</td>\n",
        "      <td>  8</td>\n",
        "      <td>   8</td>\n",
        "      <td> 0.061538</td>\n",
        "      <td> 0.061538</td>\n",
        "    </tr>\n",
        "    <tr>\n",
        "      <th>1</th>\n",
        "      <td> 15</td>\n",
        "      <td> 12</td>\n",
        "      <td>  20</td>\n",
        "      <td> 0.092308</td>\n",
        "      <td> 0.153846</td>\n",
        "    </tr>\n",
        "    <tr>\n",
        "      <th>2</th>\n",
        "      <td> 25</td>\n",
        "      <td> 10</td>\n",
        "      <td>  30</td>\n",
        "      <td> 0.076923</td>\n",
        "      <td> 0.230769</td>\n",
        "    </tr>\n",
        "    <tr>\n",
        "      <th>3</th>\n",
        "      <td> 35</td>\n",
        "      <td> 14</td>\n",
        "      <td>  44</td>\n",
        "      <td> 0.107692</td>\n",
        "      <td> 0.338462</td>\n",
        "    </tr>\n",
        "    <tr>\n",
        "      <th>4</th>\n",
        "      <td> 45</td>\n",
        "      <td> 51</td>\n",
        "      <td>  95</td>\n",
        "      <td> 0.392308</td>\n",
        "      <td> 0.730769</td>\n",
        "    </tr>\n",
        "    <tr>\n",
        "      <th>5</th>\n",
        "      <td> 55</td>\n",
        "      <td> 16</td>\n",
        "      <td> 111</td>\n",
        "      <td> 0.123077</td>\n",
        "      <td> 0.853846</td>\n",
        "    </tr>\n",
        "    <tr>\n",
        "      <th>6</th>\n",
        "      <td> 65</td>\n",
        "      <td> 10</td>\n",
        "      <td> 121</td>\n",
        "      <td> 0.076923</td>\n",
        "      <td> 0.930769</td>\n",
        "    </tr>\n",
        "    <tr>\n",
        "      <th>7</th>\n",
        "      <td> 75</td>\n",
        "      <td>  5</td>\n",
        "      <td> 126</td>\n",
        "      <td> 0.038462</td>\n",
        "      <td> 0.969231</td>\n",
        "    </tr>\n",
        "    <tr>\n",
        "      <th>8</th>\n",
        "      <td> 85</td>\n",
        "      <td>  3</td>\n",
        "      <td> 129</td>\n",
        "      <td> 0.023077</td>\n",
        "      <td> 0.992308</td>\n",
        "    </tr>\n",
        "    <tr>\n",
        "      <th>9</th>\n",
        "      <td> 95</td>\n",
        "      <td>  1</td>\n",
        "      <td> 130</td>\n",
        "      <td> 0.007692</td>\n",
        "      <td> 1.000000</td>\n",
        "    </tr>\n",
        "  </tbody>\n",
        "</table>\n",
        "</div>"
       ],
       "metadata": {},
       "output_type": "pyout",
       "prompt_number": 29,
       "text": [
        "   xi  fi   Fi        hi        Hi\n",
        "0   5   8    8  0.061538  0.061538\n",
        "1  15  12   20  0.092308  0.153846\n",
        "2  25  10   30  0.076923  0.230769\n",
        "3  35  14   44  0.107692  0.338462\n",
        "4  45  51   95  0.392308  0.730769\n",
        "5  55  16  111  0.123077  0.853846\n",
        "6  65  10  121  0.076923  0.930769\n",
        "7  75   5  126  0.038462  0.969231\n",
        "8  85   3  129  0.023077  0.992308\n",
        "9  95   1  130  0.007692  1.000000"
       ]
      }
     ],
     "prompt_number": 29
    },
    {
     "cell_type": "code",
     "collapsed": false,
     "input": [
      "# Mediana = P_50\n",
      "percentil = 50\n",
      "\n",
      "valor_p50 = PercentilAg(percentil,p5.Linf,p5.Lsup,p5.fi)\n",
      "\n",
      "print('Mediana: '+str(round(valor_p50,2)))"
     ],
     "language": "python",
     "metadata": {},
     "outputs": [
      {
       "output_type": "stream",
       "stream": "stdout",
       "text": [
        "Mediana: 44.12\n"
       ]
      }
     ],
     "prompt_number": 30
    },
    {
     "cell_type": "code",
     "collapsed": false,
     "input": [
      "p5.data = gendatos(p5.df['xi'],p5.fi)\n",
      "\n",
      "bins = (0, 10, 20, 30, 40, 50, 60, 70, 80, 90, 100)\n",
      "\n",
      "plt.hist(p5.data, bins, alpha=0.4, cumulative=True,)\n",
      "plt.title(u'Pol\u00edgono acumulativo de frecuencias')\n",
      "plt.xlabel(u'Marca de clase')\n",
      "plt.ylabel(u'fi')\n",
      "plt.xticks(p5.Lsup)\n",
      "# plt.yticks(p3.df['Fi'])\n",
      "plt.plot(p5.Lsup,p5.df['Fi'])\n",
      "\n",
      "x_graf = valor_p50\n",
      "y_graf = np.sum(p5.fi)*percentil/100\n",
      "\n",
      "# L\u00ednea horizontal\n",
      "plt.hlines(y=y_graf, xmin=0, xmax=x_graf, color='red', zorder=1)\n",
      "\n",
      "# L\u00ednea vertical\n",
      "plt.vlines(x=x_graf, ymin=0, ymax=y_graf, color='red', zorder=2)\n"
     ],
     "language": "python",
     "metadata": {},
     "outputs": [
      {
       "metadata": {},
       "output_type": "pyout",
       "prompt_number": 31,
       "text": [
        "<matplotlib.collections.LineCollection at 0x12586278>"
       ]
      },
      {
       "metadata": {},
       "output_type": "display_data",
       "png": "[encoded data removed]",
       "text": [
        "<matplotlib.figure.Figure at 0x120e3da0>"
       ]
      }
     ],
     "prompt_number": 31
    },
    {
     "cell_type": "markdown",
     "metadata": {},
     "source": [
      "De forma similar para el c\u00e1lculo de la moda se puede obtener la siguiente expresi\u00f3n que describiremos en una funci\u00f3n para utilizarla en adelante de forma sencilla."
     ]
    },
    {
     "cell_type": "code",
     "collapsed": false,
     "input": [
      "def moda(Linf, Lsup, fi):\n",
      "    \"\"\"Obtenci\u00f3n de la moda para datos agrupados\"\"\"\n",
      "    \n",
      "    # Se busca la posici\u00f3n del intervalo contiene la frecuencia mayor\n",
      "    i_m = np.argmax(fi)\n",
      "    \n",
      "    Linf_m = Linf[i_m] # Limite inferior del intervalo que contiene la moda\n",
      "    Lsup_m = Lsup[i_m] # Limite superior del intervalo que contiene la moda\n",
      "    \n",
      "    c_m = Lsup_m-Linf_m # Tama\u00f1o dle intervalo de clase\n",
      "    \n",
      "    fi_m = fi[i_m] # Frecuencia en la clase que contiene al Percentil\n",
      "    fi_m_prev = fi[i_m-1] # Frecuencia en la clase que contiene al Percentil\n",
      "    fi_m_post = fi[i_m+1] # Frecuencia en la clase que contiene al Percentil\n",
      "    \n",
      "    d_1 = fi_m - fi_m_prev\n",
      "    d_2 = fi_m - fi_m_post\n",
      "    \n",
      "    # Expresi\u00f3n gr\u00e1fica\n",
      "    valor_m = Linf_m + (c_m*(d_1/(d_1+d_2)))\n",
      "    \n",
      "    return valor_m"
     ],
     "language": "python",
     "metadata": {},
     "outputs": [],
     "prompt_number": 32
    },
    {
     "cell_type": "code",
     "collapsed": false,
     "input": [
      "p5.moda = moda(p5.Linf,p5.Lsup,p5.fi)\n",
      "\n",
      "print('Moda: '+str(round(p5.moda,2)))"
     ],
     "language": "python",
     "metadata": {},
     "outputs": [
      {
       "output_type": "stream",
       "stream": "stdout",
       "text": [
        "Moda: 45.14\n"
       ]
      }
     ],
     "prompt_number": 33
    },
    {
     "cell_type": "markdown",
     "metadata": {},
     "source": [
      "N\u00f3tese que, debido al procedimiento gr\u00e1fico, el valor esta desplazado ligeramente a la derecha y no recae en el valor de clase mayor (45)."
     ]
    },
    {
     "cell_type": "code",
     "collapsed": false,
     "input": [
      "p5.data = gendatos(p5.df['xi'],p5.fi)\n",
      "\n",
      "bins = (0, 10, 20, 30, 40, 50, 60, 70, 80, 90, 100)\n",
      "\n",
      "plt.hist(p5.data, bins, alpha=0.4)\n",
      "plt.title(u'Moda (rojo)')\n",
      "\n",
      "plt.xlabel(u'Intervalos de clase')\n",
      "plt.ylabel(u'fi')\n",
      "plt.xticks(bins)\n",
      "plt.plot(p5.df['xi'],p5.fi)\n",
      "\n",
      "x_graf = p5.moda\n",
      "y_graf = np.max(p5.fi)\n",
      "\n",
      "# L\u00ednea vertical\n",
      "plt.vlines(x=x_graf, ymin=0, ymax=y_graf, color='red', zorder=2)"
     ],
     "language": "python",
     "metadata": {},
     "outputs": [
      {
       "metadata": {},
       "output_type": "pyout",
       "prompt_number": 34,
       "text": [
        "<matplotlib.collections.LineCollection at 0x1235c7f0>"
       ]
      },
      {
       "metadata": {},
       "output_type": "display_data",
       "png": "[encoded data removed]",
       "text": [
        "<matplotlib.figure.Figure at 0x1258a5f8>"
       ]
      }
     ],
     "prompt_number": 34
    },
    {
     "cell_type": "heading",
     "level": 2,
     "metadata": {},
     "source": [
      "Problema 6"
     ]
    },
    {
     "cell_type": "heading",
     "level": 3,
     "metadata": {},
     "source": [
      "La tabla adjunta nos da el peso en gr. de cemento utilizado en 90 muestras de hormig\u00f3n"
     ]
    },
    {
     "cell_type": "raw",
     "metadata": {},
     "source": [
      "I.C.   N\u00ba de muestras\n",
      "40-50\t7\n",
      "50-60\t12\n",
      "60-65\t18\n",
      "65-70\t22\n",
      "70-75\t13\n",
      "75-80\t10\n",
      "80-90\t5\n",
      "90-100\t3"
     ]
    },
    {
     "cell_type": "heading",
     "level": 3,
     "metadata": {},
     "source": [
      "a) Calcular los percentiles 18, 22, 64 y 81, por procedimientos anal\u00edticos."
     ]
    },
    {
     "cell_type": "code",
     "collapsed": false,
     "input": [
      "p6 = problema()\n",
      "\n",
      "p6.Linf = np.array([40,50,60,65,70,75,80,90])\n",
      "p6.Lsup = np.array([50,60,65,70,75,80,90,100])\n",
      "p6.fi = np.array([7,12,18,22,13,10,5,3])\n",
      "\n",
      "p6.df = tabla_frec(p6.Linf,p6.Lsup,p6.fi)\n",
      "p6.df"
     ],
     "language": "python",
     "metadata": {},
     "outputs": [
      {
       "html": [
        "<div style=\"max-height:1000px;max-width:1500px;overflow:auto;\">\n",
        "<table border=\"1\" class=\"dataframe\">\n",
        "  <thead>\n",
        "    <tr style=\"text-align: right;\">\n",
        "      <th></th>\n",
        "      <th>xi</th>\n",
        "      <th>fi</th>\n",
        "      <th>Fi</th>\n",
        "      <th>hi</th>\n",
        "      <th>Hi</th>\n",
        "    </tr>\n",
        "  </thead>\n",
        "  <tbody>\n",
        "    <tr>\n",
        "      <th>0</th>\n",
        "      <td> 45.0</td>\n",
        "      <td>  7</td>\n",
        "      <td>  7</td>\n",
        "      <td> 0.077778</td>\n",
        "      <td> 0.077778</td>\n",
        "    </tr>\n",
        "    <tr>\n",
        "      <th>1</th>\n",
        "      <td> 55.0</td>\n",
        "      <td> 12</td>\n",
        "      <td> 19</td>\n",
        "      <td> 0.133333</td>\n",
        "      <td> 0.211111</td>\n",
        "    </tr>\n",
        "    <tr>\n",
        "      <th>2</th>\n",
        "      <td> 62.5</td>\n",
        "      <td> 18</td>\n",
        "      <td> 37</td>\n",
        "      <td> 0.200000</td>\n",
        "      <td> 0.411111</td>\n",
        "    </tr>\n",
        "    <tr>\n",
        "      <th>3</th>\n",
        "      <td> 67.5</td>\n",
        "      <td> 22</td>\n",
        "      <td> 59</td>\n",
        "      <td> 0.244444</td>\n",
        "      <td> 0.655556</td>\n",
        "    </tr>\n",
        "    <tr>\n",
        "      <th>4</th>\n",
        "      <td> 72.5</td>\n",
        "      <td> 13</td>\n",
        "      <td> 72</td>\n",
        "      <td> 0.144444</td>\n",
        "      <td> 0.800000</td>\n",
        "    </tr>\n",
        "    <tr>\n",
        "      <th>5</th>\n",
        "      <td> 77.5</td>\n",
        "      <td> 10</td>\n",
        "      <td> 82</td>\n",
        "      <td> 0.111111</td>\n",
        "      <td> 0.911111</td>\n",
        "    </tr>\n",
        "    <tr>\n",
        "      <th>6</th>\n",
        "      <td> 85.0</td>\n",
        "      <td>  5</td>\n",
        "      <td> 87</td>\n",
        "      <td> 0.055556</td>\n",
        "      <td> 0.966667</td>\n",
        "    </tr>\n",
        "    <tr>\n",
        "      <th>7</th>\n",
        "      <td> 95.0</td>\n",
        "      <td>  3</td>\n",
        "      <td> 90</td>\n",
        "      <td> 0.033333</td>\n",
        "      <td> 1.000000</td>\n",
        "    </tr>\n",
        "  </tbody>\n",
        "</table>\n",
        "</div>"
       ],
       "metadata": {},
       "output_type": "pyout",
       "prompt_number": 35,
       "text": [
        "     xi  fi  Fi        hi        Hi\n",
        "0  45.0   7   7  0.077778  0.077778\n",
        "1  55.0  12  19  0.133333  0.211111\n",
        "2  62.5  18  37  0.200000  0.411111\n",
        "3  67.5  22  59  0.244444  0.655556\n",
        "4  72.5  13  72  0.144444  0.800000\n",
        "5  77.5  10  82  0.111111  0.911111\n",
        "6  85.0   5  87  0.055556  0.966667\n",
        "7  95.0   3  90  0.033333  1.000000"
       ]
      }
     ],
     "prompt_number": 35
    },
    {
     "cell_type": "code",
     "collapsed": false,
     "input": [
      "percentil = 18\n",
      "\n",
      "valor_p18 = PercentilAg(percentil,p6.Linf,p6.Lsup,p6.fi)\n",
      "\n",
      "print('Percentil 18: '+str(round(valor_p18,2)))"
     ],
     "language": "python",
     "metadata": {},
     "outputs": [
      {
       "output_type": "stream",
       "stream": "stdout",
       "text": [
        "Percentil 18: 57.67\n"
       ]
      }
     ],
     "prompt_number": 36
    },
    {
     "cell_type": "code",
     "collapsed": false,
     "input": [
      "percentil = 22\n",
      "\n",
      "valor_p22 = PercentilAg(percentil,p6.Linf,p6.Lsup,p6.fi)\n",
      "\n",
      "print('Percentil 22: '+str(round(valor_p22,2)))"
     ],
     "language": "python",
     "metadata": {},
     "outputs": [
      {
       "output_type": "stream",
       "stream": "stdout",
       "text": [
        "Percentil 22: 60.22\n"
       ]
      }
     ],
     "prompt_number": 37
    },
    {
     "cell_type": "code",
     "collapsed": false,
     "input": [
      "percentil = 64\n",
      "\n",
      "valor_p64 = PercentilAg(percentil,p6.Linf,p6.Lsup,p6.fi)\n",
      "\n",
      "print('Percentil 64: '+str(round(valor_p64,2)))"
     ],
     "language": "python",
     "metadata": {},
     "outputs": [
      {
       "output_type": "stream",
       "stream": "stdout",
       "text": [
        "Percentil 64: 69.68\n"
       ]
      }
     ],
     "prompt_number": 38
    },
    {
     "cell_type": "code",
     "collapsed": false,
     "input": [
      "percentil = 81\n",
      "\n",
      "valor_p81 = PercentilAg(percentil,p6.Linf,p6.Lsup,p6.fi)\n",
      "\n",
      "print('Percentil 81: '+str(round(valor_p81,2)))"
     ],
     "language": "python",
     "metadata": {},
     "outputs": [
      {
       "output_type": "stream",
       "stream": "stdout",
       "text": [
        "Percentil 81: 75.45\n"
       ]
      }
     ],
     "prompt_number": 39
    },
    {
     "cell_type": "heading",
     "level": 3,
     "metadata": {},
     "source": [
      "b) Calcular los deciles 3,6 y 9, por procedimientos anal\u00edticos."
     ]
    },
    {
     "cell_type": "code",
     "collapsed": false,
     "input": [
      "percentil = 30\n",
      "\n",
      "valor_d3 = PercentilAg(percentil,p6.Linf,p6.Lsup,p6.fi)\n",
      "\n",
      "print('Decil 3: '+str(round(valor_d3,2)))"
     ],
     "language": "python",
     "metadata": {},
     "outputs": [
      {
       "output_type": "stream",
       "stream": "stdout",
       "text": [
        "Decil 3: 62.22\n"
       ]
      }
     ],
     "prompt_number": 40
    },
    {
     "cell_type": "code",
     "collapsed": false,
     "input": [
      "percentil = 60\n",
      "\n",
      "valor_d6 = PercentilAg(percentil,p6.Linf,p6.Lsup,p6.fi)\n",
      "\n",
      "print('Decil 6: '+str(round(valor_d6,2)))"
     ],
     "language": "python",
     "metadata": {},
     "outputs": [
      {
       "output_type": "stream",
       "stream": "stdout",
       "text": [
        "Decil 6: 68.86\n"
       ]
      }
     ],
     "prompt_number": 41
    },
    {
     "cell_type": "code",
     "collapsed": false,
     "input": [
      "percentil = 90\n",
      "\n",
      "valor_d9 = PercentilAg(percentil,p6.Linf,p6.Lsup,p6.fi)\n",
      "\n",
      "print('Decil 9: '+str(round(valor_d9,2)))"
     ],
     "language": "python",
     "metadata": {},
     "outputs": [
      {
       "output_type": "stream",
       "stream": "stdout",
       "text": [
        "Decil 9: 79.5\n"
       ]
      }
     ],
     "prompt_number": 42
    },
    {
     "cell_type": "code",
     "collapsed": false,
     "input": [
      "p6.data = gendatos(p6.df['xi'],p6.fi)\n",
      "\n",
      "bins = (40,50,60,65,70,75,80,90,100)\n",
      "\n",
      "plt.hist(p6.data, bins, alpha=0.4, cumulative=True,)\n",
      "plt.title(u'Pol\u00edgono acumulativo de frecuencias')\n",
      "plt.xlabel(u'Marca de clase')\n",
      "plt.ylabel(u'fi')\n",
      "plt.xticks(p6.Lsup)\n",
      "\n",
      "plt.plot(p6.Lsup,p6.df['Fi'])\n"
     ],
     "language": "python",
     "metadata": {},
     "outputs": [
      {
       "metadata": {},
       "output_type": "pyout",
       "prompt_number": 43,
       "text": [
        "[<matplotlib.lines.Line2D at 0x130b9c18>]"
       ]
      },
      {
       "metadata": {},
       "output_type": "display_data",
       "png": "[encoded data removed]",
       "text": [
        "<matplotlib.figure.Figure at 0x120e8550>"
       ]
      }
     ],
     "prompt_number": 43
    },
    {
     "cell_type": "code",
     "collapsed": false,
     "input": [
      "plt.plot(p6.df['xi'], p6.df['Hi']*100, alpha=0.4)\n",
      "plt.title('Frecuencia acumulada')\n",
      "\n",
      "plt.xlabel(u'peso (g)')\n",
      "plt.ylabel(u'Hi (%)')\n",
      "plt.ylim(0,100)\n",
      "\n",
      "# L\u00ednea horizontal\n",
      "# plt.hlines(y=18, xmin=40, xmax=valor_p18, color='red', zorder=1)\n",
      "\n",
      "# L\u00ednea vertical\n",
      "# plt.vlines(x=valor_p18, ymin=0, ymax=18, color='red', zorder=2)\n"
     ],
     "language": "python",
     "metadata": {},
     "outputs": [
      {
       "metadata": {},
       "output_type": "pyout",
       "prompt_number": 44,
       "text": [
        "(0, 100)"
       ]
      },
      {
       "metadata": {},
       "output_type": "display_data",
       "png": "[encoded data removed]",
       "text": [
        "<matplotlib.figure.Figure at 0x11c529e8>"
       ]
      }
     ],
     "prompt_number": 44
    },
    {
     "cell_type": "heading",
     "level": 2,
     "metadata": {},
     "source": [
      "c) Si se considera un peso excesivo de cemento  cuando se supera el percentil 85 \u00bfQu\u00e9 peso m\u00ednimo de cemento ha de tener las muestras?"
     ]
    },
    {
     "cell_type": "markdown",
     "metadata": {},
     "source": [
      "Considerando que la pregunta se refiere al peso m\u00e1ximo en lugar de m\u00ednimo ya que se nos facilita el un l\u00edmite de peso que se no se debe superar."
     ]
    },
    {
     "cell_type": "code",
     "collapsed": false,
     "input": [
      "percentil = 85\n",
      "valor_p_cemento_max = PercentilAg(percentil,p6.Linf,p6.Lsup,p6.fi)\n",
      "print('El peso m\u00e1ximo de cemento de las muestra debe ser de '+str(round(valor_p_cemento_max,2))+ ' g.')"
     ],
     "language": "python",
     "metadata": {},
     "outputs": [
      {
       "output_type": "stream",
       "stream": "stdout",
       "text": [
        "El peso m\u00e1ximo de cemento de las muestra debe ser de 77.25 g.\n"
       ]
      }
     ],
     "prompt_number": 45
    },
    {
     "cell_type": "heading",
     "level": 2,
     "metadata": {},
     "source": [
      "e) Calcular gr\u00e1ficamente, P22, D6, Q3"
     ]
    },
    {
     "cell_type": "code",
     "collapsed": false,
     "input": [
      "p22 = 22\n",
      "valor_p22 = PercentilAg(p22,p6.Linf,p6.Lsup,p6.fi)\n",
      "\n",
      "d6 = 60\n",
      "valor_d6 = PercentilAg(d6,p6.Linf,p6.Lsup,p6.fi)\n",
      "\n",
      "q3 = 75\n",
      "valor_q3 = PercentilAg(q3,p6.Linf,p6.Lsup,p6.fi)\n",
      "\n",
      "p6.data = gendatos(p6.df['xi'],p6.fi)\n",
      "\n",
      "bins = (40,50,60,65,70,75,80,90,100)\n",
      "\n",
      "plt.hist(p6.data, bins, alpha=0.4, cumulative=True,)\n",
      "plt.title(u'Resoluci\u00f3n gr\u00e1fica - P22= ' + str(round(valor_p22,2)))\n",
      "plt.xlabel(u'Marca de clase')\n",
      "plt.ylabel(u'fi')\n",
      "plt.xticks(p6.Lsup)\n",
      "\n",
      "plt.plot(p6.Lsup,p6.df['Fi'])\n",
      "\n",
      "x_graf = valor_p22\n",
      "y_graf = np.sum(p6.fi)*p22/100\n",
      "\n",
      "# L\u00ednea horizontal\n",
      "plt.hlines(y=y_graf, xmin=40, xmax=x_graf, color='red', zorder=1)\n",
      "\n",
      "# L\u00ednea vertical\n",
      "plt.vlines(x=x_graf, ymin=0, ymax=y_graf, color='red', zorder=2)"
     ],
     "language": "python",
     "metadata": {},
     "outputs": [
      {
       "metadata": {},
       "output_type": "pyout",
       "prompt_number": 50,
       "text": [
        "<matplotlib.collections.LineCollection at 0x13a1cf60>"
       ]
      },
      {
       "metadata": {},
       "output_type": "display_data",
       "png": "[encoded data removed]",
       "text": [
        "<matplotlib.figure.Figure at 0x120dbfd0>"
       ]
      }
     ],
     "prompt_number": 50
    },
    {
     "cell_type": "code",
     "collapsed": false,
     "input": [
      "d6 = 60\n",
      "valor_d6 = PercentilAg(d6,p6.Linf,p6.Lsup,p6.fi)\n",
      "\n",
      "p6.data = gendatos(p6.df['xi'],p6.fi)\n",
      "\n",
      "bins = (40,50,60,65,70,75,80,90,100)\n",
      "\n",
      "plt.hist(p6.data, bins, alpha=0.4, cumulative=True,)\n",
      "plt.title(u'Resoluci\u00f3n gr\u00e1fica - D6= ' + str(round(valor_d6,2)))\n",
      "plt.xlabel(u'Marca de clase')\n",
      "plt.ylabel(u'fi')\n",
      "plt.xticks(p6.Lsup)\n",
      "\n",
      "plt.plot(p6.Lsup,p6.df['Fi'])\n",
      "\n",
      "x_graf = valor_d6\n",
      "y_graf = np.sum(p6.fi)*d6/100\n",
      "\n",
      "# L\u00ednea horizontal\n",
      "plt.hlines(y=y_graf, xmin=40, xmax=x_graf, color='red', zorder=1)\n",
      "\n",
      "# L\u00ednea vertical\n",
      "plt.vlines(x=x_graf, ymin=0, ymax=y_graf, color='red', zorder=2)"
     ],
     "language": "python",
     "metadata": {},
     "outputs": [
      {
       "metadata": {},
       "output_type": "pyout",
       "prompt_number": 62,
       "text": [
        "<matplotlib.collections.LineCollection at 0x142fd4a8>"
       ]
      },
      {
       "metadata": {},
       "output_type": "display_data",
       "png": "[encoded data removed]",
       "text": [
        "<matplotlib.figure.Figure at 0x1408f160>"
       ]
      }
     ],
     "prompt_number": 62
    },
    {
     "cell_type": "code",
     "collapsed": false,
     "input": [
      "q3 = 75\n",
      "valor_q3 = PercentilAg(q3,p6.Linf,p6.Lsup,p6.fi)\n",
      "\n",
      "p6.data = gendatos(p6.df['xi'],p6.fi)\n",
      "\n",
      "bins = (40,50,60,65,70,75,80,90,100)\n",
      "\n",
      "plt.hist(p6.data, bins, alpha=0.4, cumulative=True,)\n",
      "plt.title(u'Resoluci\u00f3n gr\u00e1fica - Q3= ' + str(round(valor_q3,2)))\n",
      "plt.xlabel(u'Marca de clase')\n",
      "plt.ylabel(u'fi')\n",
      "plt.xticks(p6.Lsup)\n",
      "\n",
      "plt.plot(p6.Lsup,p6.df['Fi'])\n",
      "\n",
      "x_graf = valor_q3\n",
      "y_graf = np.sum(p6.fi)*q3/100\n",
      "\n",
      "# L\u00ednea horizontal\n",
      "plt.hlines(y=y_graf, xmin=40, xmax=x_graf, color='red', zorder=1)\n",
      "\n",
      "# L\u00ednea vertical\n",
      "plt.vlines(x=x_graf, ymin=0, ymax=y_graf, color='red', zorder=2)"
     ],
     "language": "python",
     "metadata": {},
     "outputs": [
      {
       "metadata": {},
       "output_type": "pyout",
       "prompt_number": 53,
       "text": [
        "<matplotlib.collections.LineCollection at 0x14087b00>"
       ]
      },
      {
       "metadata": {},
       "output_type": "display_data",
       "png": "[encoded data removed]",
       "text": [
        "<matplotlib.figure.Figure at 0x13a2b6a0>"
       ]
      }
     ],
     "prompt_number": 53
    },
    {
     "cell_type": "heading",
     "level": 2,
     "metadata": {},
     "source": [
      "Problema 7"
     ]
    },
    {
     "cell_type": "heading",
     "level": 2,
     "metadata": {},
     "source": [
      "Cierto profesor de matem\u00e1ticas de la U. A. a la hora de la puntuaci\u00f3n final de sus alumnos, califica seg\u00fan el criterio:"
     ]
    },
    {
     "cell_type": "raw",
     "metadata": {},
     "source": [
      "Suspensos\t40%\n",
      "Aprobados\t30%\n",
      "Notables\t15%\n",
      "Sobresalientes\t10%\n",
      "Matr\u00edculas de honor\t5%\n"
     ]
    },
    {
     "cell_type": "heading",
     "level": 2,
     "metadata": {},
     "source": [
      "Si las puntuaciones obtenidas por los alumnos en el examen final son:"
     ]
    },
    {
     "cell_type": "raw",
     "metadata": {},
     "source": [
      "Notas\t   N\u00ba de alumnos\n",
      "0-1\t           35\n",
      "1-2\t           74\n",
      "2-3\t           56\n",
      "3-4\t           81\n",
      "4-5\t           94\n",
      "5-6\t           70\n",
      "6-7\t           41\n",
      "7-8\t           28\n",
      "8-9\t           16\n",
      "9-10\t        4\n"
     ]
    },
    {
     "cell_type": "heading",
     "level": 2,
     "metadata": {},
     "source": [
      "Calcular los intervalos de nota para cada una de las puntuaciones."
     ]
    },
    {
     "cell_type": "code",
     "collapsed": false,
     "input": [
      "p7 = problema()\n",
      "\n",
      "p7.Linf = np.array([0,1,2,3,4,5,6,7,8,9])\n",
      "p7.Lsup = np.array([1,2,3,4,5,6,7,8,9,10])\n",
      "p7.fi = np.array([35,74,56,81,94,70,41,28,16,4])\n",
      "\n",
      "p7.df = tabla_frec(p7.Linf,p7.Lsup,p7.fi)\n",
      "p7.df"
     ],
     "language": "python",
     "metadata": {},
     "outputs": [
      {
       "html": [
        "<div style=\"max-height:1000px;max-width:1500px;overflow:auto;\">\n",
        "<table border=\"1\" class=\"dataframe\">\n",
        "  <thead>\n",
        "    <tr style=\"text-align: right;\">\n",
        "      <th></th>\n",
        "      <th>xi</th>\n",
        "      <th>fi</th>\n",
        "      <th>Fi</th>\n",
        "      <th>hi</th>\n",
        "      <th>Hi</th>\n",
        "    </tr>\n",
        "  </thead>\n",
        "  <tbody>\n",
        "    <tr>\n",
        "      <th>0</th>\n",
        "      <td> 0.5</td>\n",
        "      <td> 35</td>\n",
        "      <td>  35</td>\n",
        "      <td> 0.070140</td>\n",
        "      <td> 0.070140</td>\n",
        "    </tr>\n",
        "    <tr>\n",
        "      <th>1</th>\n",
        "      <td> 1.5</td>\n",
        "      <td> 74</td>\n",
        "      <td> 109</td>\n",
        "      <td> 0.148297</td>\n",
        "      <td> 0.218437</td>\n",
        "    </tr>\n",
        "    <tr>\n",
        "      <th>2</th>\n",
        "      <td> 2.5</td>\n",
        "      <td> 56</td>\n",
        "      <td> 165</td>\n",
        "      <td> 0.112224</td>\n",
        "      <td> 0.330661</td>\n",
        "    </tr>\n",
        "    <tr>\n",
        "      <th>3</th>\n",
        "      <td> 3.5</td>\n",
        "      <td> 81</td>\n",
        "      <td> 246</td>\n",
        "      <td> 0.162325</td>\n",
        "      <td> 0.492986</td>\n",
        "    </tr>\n",
        "    <tr>\n",
        "      <th>4</th>\n",
        "      <td> 4.5</td>\n",
        "      <td> 94</td>\n",
        "      <td> 340</td>\n",
        "      <td> 0.188377</td>\n",
        "      <td> 0.681363</td>\n",
        "    </tr>\n",
        "    <tr>\n",
        "      <th>5</th>\n",
        "      <td> 5.5</td>\n",
        "      <td> 70</td>\n",
        "      <td> 410</td>\n",
        "      <td> 0.140281</td>\n",
        "      <td> 0.821643</td>\n",
        "    </tr>\n",
        "    <tr>\n",
        "      <th>6</th>\n",
        "      <td> 6.5</td>\n",
        "      <td> 41</td>\n",
        "      <td> 451</td>\n",
        "      <td> 0.082164</td>\n",
        "      <td> 0.903808</td>\n",
        "    </tr>\n",
        "    <tr>\n",
        "      <th>7</th>\n",
        "      <td> 7.5</td>\n",
        "      <td> 28</td>\n",
        "      <td> 479</td>\n",
        "      <td> 0.056112</td>\n",
        "      <td> 0.959920</td>\n",
        "    </tr>\n",
        "    <tr>\n",
        "      <th>8</th>\n",
        "      <td> 8.5</td>\n",
        "      <td> 16</td>\n",
        "      <td> 495</td>\n",
        "      <td> 0.032064</td>\n",
        "      <td> 0.991984</td>\n",
        "    </tr>\n",
        "    <tr>\n",
        "      <th>9</th>\n",
        "      <td> 9.5</td>\n",
        "      <td>  4</td>\n",
        "      <td> 499</td>\n",
        "      <td> 0.008016</td>\n",
        "      <td> 1.000000</td>\n",
        "    </tr>\n",
        "  </tbody>\n",
        "</table>\n",
        "</div>"
       ],
       "metadata": {},
       "output_type": "pyout",
       "prompt_number": 69,
       "text": [
        "    xi  fi   Fi        hi        Hi\n",
        "0  0.5  35   35  0.070140  0.070140\n",
        "1  1.5  74  109  0.148297  0.218437\n",
        "2  2.5  56  165  0.112224  0.330661\n",
        "3  3.5  81  246  0.162325  0.492986\n",
        "4  4.5  94  340  0.188377  0.681363\n",
        "5  5.5  70  410  0.140281  0.821643\n",
        "6  6.5  41  451  0.082164  0.903808\n",
        "7  7.5  28  479  0.056112  0.959920\n",
        "8  8.5  16  495  0.032064  0.991984\n",
        "9  9.5   4  499  0.008016  1.000000"
       ]
      }
     ],
     "prompt_number": 69
    },
    {
     "cell_type": "markdown",
     "metadata": {},
     "source": [
      "Para calcular los intervalos de nota se har\u00e1 uso de los percentiles ya que el criterio del profesor ha sido otorgar asingaturas por porcentajes acumulados."
     ]
    },
    {
     "cell_type": "code",
     "collapsed": false,
     "input": [
      "p_suspensos = 40\n",
      "nota_suspensos = PercentilAg(p_suspensos,p7.Linf,p7.Lsup,p7.fi)\n",
      "\n",
      "p_aprobados = 40+30\n",
      "nota_aprobados = PercentilAg(p_aprobados,p7.Linf,p7.Lsup,p7.fi)\n",
      "\n",
      "p_notables = 40+30+15\n",
      "nota_notables = PercentilAg(p_notables,p7.Linf,p7.Lsup,p7.fi)\n",
      "\n",
      "p_sobresalientes = 40+30+15+10\n",
      "nota_sobresalientes = PercentilAg(p_sobresalientes,p7.Linf,p7.Lsup,p7.fi)\n",
      "\n",
      "p_mh = 40+30+15+10+4.99\n",
      "nota_mh = PercentilAg(p_mh,p7.Linf,p7.Lsup,p7.fi)\n",
      "\n",
      "print('El intervalo de nota ser\u00eda:')\n",
      "print('Suspensos: 0-'+str(round(nota_suspensos,2)))\n",
      "print('Aprobados: '+str(round(nota_suspensos,2))+'-'+str(round(nota_aprobados,2)))\n",
      "print('Notables: '+str(round(nota_aprobados,2))+'-'+str(round(nota_notables,2)))\n",
      "print('Sobresalientes: '+str(round(nota_notables,2))+'-'+str(round(nota_sobresalientes,2)))\n",
      "print('MH: '+str(round(nota_sobresalientes,2))+'-'+str(round(nota_mh,1)))"
     ],
     "language": "python",
     "metadata": {},
     "outputs": [
      {
       "output_type": "stream",
       "stream": "stdout",
       "text": [
        "El intervalo de nota ser\u00eda:\n",
        "Suspensos: 0-3.43\n",
        "Aprobados: 3.43-5.13\n",
        "Notables: 5.13-6.35\n",
        "Sobresalientes: 6.35-7.82\n",
        "MH: 7.82-10.0\n"
       ]
      }
     ],
     "prompt_number": 81
    },
    {
     "cell_type": "heading",
     "level": 1,
     "metadata": {},
     "source": [
      "Problema 8"
     ]
    },
    {
     "cell_type": "heading",
     "level": 2,
     "metadata": {},
     "source": [
      "La tabla siguiente muestra los salarios-hora de 65 empleados de una compa\u00f1\u00eda."
     ]
    },
    {
     "cell_type": "raw",
     "metadata": {},
     "source": [
      "Salarios - hora\t    N\u00ba de empleados\n",
      "            50-60\t4\n",
      "            60-70\t10\n",
      "            70-80\t16\n",
      "            80-90\t14\n",
      "           90-100\t10\n",
      "          100-110  \t5\n",
      "          110-120\t2"
     ]
    },
    {
     "cell_type": "code",
     "collapsed": false,
     "input": [
      "p8 = problema()\n",
      "\n",
      "p8.Linf = np.array([50,60,70,80,90,100,110])\n",
      "p8.Lsup = np.array([60,70,80,90,100,110,120])\n",
      "p8.fi = np.array([4,10,16,14,10,5,2])\n",
      "\n",
      "p8.xi = (p8.Lsup+p8.Linf)/2\n",
      "\n",
      "p8.N = np.sum(p8.fi)\n",
      "\n",
      "p8.df = tabla_frec(p8.Linf,p8.Lsup,p8.fi)\n",
      "\n",
      "p8.df\n"
     ],
     "language": "python",
     "metadata": {},
     "outputs": [
      {
       "html": [
        "<div style=\"max-height:1000px;max-width:1500px;overflow:auto;\">\n",
        "<table border=\"1\" class=\"dataframe\">\n",
        "  <thead>\n",
        "    <tr style=\"text-align: right;\">\n",
        "      <th></th>\n",
        "      <th>xi</th>\n",
        "      <th>fi</th>\n",
        "      <th>Fi</th>\n",
        "      <th>hi</th>\n",
        "      <th>Hi</th>\n",
        "    </tr>\n",
        "  </thead>\n",
        "  <tbody>\n",
        "    <tr>\n",
        "      <th>0</th>\n",
        "      <td>  55</td>\n",
        "      <td>  4</td>\n",
        "      <td>  4</td>\n",
        "      <td> 0.065574</td>\n",
        "      <td> 0.065574</td>\n",
        "    </tr>\n",
        "    <tr>\n",
        "      <th>1</th>\n",
        "      <td>  65</td>\n",
        "      <td> 10</td>\n",
        "      <td> 14</td>\n",
        "      <td> 0.163934</td>\n",
        "      <td> 0.229508</td>\n",
        "    </tr>\n",
        "    <tr>\n",
        "      <th>2</th>\n",
        "      <td>  75</td>\n",
        "      <td> 16</td>\n",
        "      <td> 30</td>\n",
        "      <td> 0.262295</td>\n",
        "      <td> 0.491803</td>\n",
        "    </tr>\n",
        "    <tr>\n",
        "      <th>3</th>\n",
        "      <td>  85</td>\n",
        "      <td> 14</td>\n",
        "      <td> 44</td>\n",
        "      <td> 0.229508</td>\n",
        "      <td> 0.721311</td>\n",
        "    </tr>\n",
        "    <tr>\n",
        "      <th>4</th>\n",
        "      <td>  95</td>\n",
        "      <td> 10</td>\n",
        "      <td> 54</td>\n",
        "      <td> 0.163934</td>\n",
        "      <td> 0.885246</td>\n",
        "    </tr>\n",
        "    <tr>\n",
        "      <th>5</th>\n",
        "      <td> 105</td>\n",
        "      <td>  5</td>\n",
        "      <td> 59</td>\n",
        "      <td> 0.081967</td>\n",
        "      <td> 0.967213</td>\n",
        "    </tr>\n",
        "    <tr>\n",
        "      <th>6</th>\n",
        "      <td> 115</td>\n",
        "      <td>  2</td>\n",
        "      <td> 61</td>\n",
        "      <td> 0.032787</td>\n",
        "      <td> 1.000000</td>\n",
        "    </tr>\n",
        "  </tbody>\n",
        "</table>\n",
        "</div>"
       ],
       "metadata": {},
       "output_type": "pyout",
       "prompt_number": 125,
       "text": [
        "    xi  fi  Fi        hi        Hi\n",
        "0   55   4   4  0.065574  0.065574\n",
        "1   65  10  14  0.163934  0.229508\n",
        "2   75  16  30  0.262295  0.491803\n",
        "3   85  14  44  0.229508  0.721311\n",
        "4   95  10  54  0.163934  0.885246\n",
        "5  105   5  59  0.081967  0.967213\n",
        "6  115   2  61  0.032787  1.000000"
       ]
      }
     ],
     "prompt_number": 125
    },
    {
     "cell_type": "markdown",
     "metadata": {},
     "source": [
      "Mediante pandas podemos obtener directamente los valores estad\u00edsticas principales que podremos comparar con nuestras soluciones a las preguntas que se contestar\u00e1n y resoler\u00e1n mediante programaci\u00f3n\n"
     ]
    },
    {
     "cell_type": "code",
     "collapsed": false,
     "input": [
      "# Primero generamos la tabla de datos con todos los valores mediante la funci\u00f3n creada previamente\n",
      "\n",
      "p8.datos = gendatos(p8.df['xi'],p8.fi)\n",
      "\n",
      "# Creamos el conjunto de datos como series para pandas.\n",
      "p8.datos_df = pd.DataFrame(p8.datos)\n",
      "\n",
      "# Obtenemos los datos estad\u00edsticos principales de la serie\n",
      "p8.datos_df.describe()\n"
     ],
     "language": "python",
     "metadata": {},
     "outputs": [
      {
       "html": [
        "<div style=\"max-height:1000px;max-width:1500px;overflow:auto;\">\n",
        "<table border=\"1\" class=\"dataframe\">\n",
        "  <thead>\n",
        "    <tr style=\"text-align: right;\">\n",
        "      <th></th>\n",
        "      <th>0</th>\n",
        "    </tr>\n",
        "  </thead>\n",
        "  <tbody>\n",
        "    <tr>\n",
        "      <th>count</th>\n",
        "      <td>  61.000000</td>\n",
        "    </tr>\n",
        "    <tr>\n",
        "      <th>mean</th>\n",
        "      <td>  81.393443</td>\n",
        "    </tr>\n",
        "    <tr>\n",
        "      <th>std</th>\n",
        "      <td>  14.836081</td>\n",
        "    </tr>\n",
        "    <tr>\n",
        "      <th>min</th>\n",
        "      <td>  55.000000</td>\n",
        "    </tr>\n",
        "    <tr>\n",
        "      <th>25%</th>\n",
        "      <td>  75.000000</td>\n",
        "    </tr>\n",
        "    <tr>\n",
        "      <th>50%</th>\n",
        "      <td>  85.000000</td>\n",
        "    </tr>\n",
        "    <tr>\n",
        "      <th>75%</th>\n",
        "      <td>  95.000000</td>\n",
        "    </tr>\n",
        "    <tr>\n",
        "      <th>max</th>\n",
        "      <td> 115.000000</td>\n",
        "    </tr>\n",
        "  </tbody>\n",
        "</table>\n",
        "</div>"
       ],
       "metadata": {},
       "output_type": "pyout",
       "prompt_number": 148,
       "text": [
        "                0\n",
        "count   61.000000\n",
        "mean    81.393443\n",
        "std     14.836081\n",
        "min     55.000000\n",
        "25%     75.000000\n",
        "50%     85.000000\n",
        "75%     95.000000\n",
        "max    115.000000"
       ]
      }
     ],
     "prompt_number": 148
    },
    {
     "cell_type": "heading",
     "level": 2,
     "metadata": {},
     "source": [
      "Calcular:\n",
      "\ta) Varianza y desviaci\u00f3n t\u00edpica.\n"
     ]
    },
    {
     "cell_type": "code",
     "collapsed": false,
     "input": [
      "# Media aritm\u00e9tica\n",
      "p8.media = np.sum((p8.xi*p8.fi)/p8.N)\n",
      "\n",
      "p8.varianza = np.sum(p8.fi*(p8.xi-p8.media)**2)/(p8.N)\n",
      "print('Varianza: '+str(round(p8.varianza,2)))\n",
      "\n",
      "p8.desv_est = (p8.varianza)**0.5\n",
      "print(u'Desviaci\u00f3n est\u00e1ndar: '+ str(round(p8.desv_est,2)))\n",
      "\n",
      "p8.media"
     ],
     "language": "python",
     "metadata": {},
     "outputs": [
      {
       "output_type": "stream",
       "stream": "stdout",
       "text": [
        "Varianza: 216.5\n",
        "Desviaci\u00f3n est\u00e1ndar: 14.71\n"
       ]
      },
      {
       "metadata": {},
       "output_type": "pyout",
       "prompt_number": 149,
       "text": [
        "81.393442622950815"
       ]
      }
     ],
     "prompt_number": 149
    },
    {
     "cell_type": "heading",
     "level": 2,
     "metadata": {},
     "source": [
      "b) Coeficiente de variaci\u00f3n."
     ]
    },
    {
     "cell_type": "code",
     "collapsed": false,
     "input": [
      "# Coeficiente de variaci\u00f3n de Pearson\n",
      "\n",
      "# Si la media > 0\n",
      "p8.CV = p8.desv_est/p8.media*100\n",
      "\n",
      "print(u'Coeficiente de variaci\u00f3n de Pearson: '+ str(round(p8.CV,2))+'%')"
     ],
     "language": "python",
     "metadata": {},
     "outputs": [
      {
       "output_type": "stream",
       "stream": "stdout",
       "text": [
        "Coeficiente de variaci\u00f3n de Pearson: 8.53%\n"
       ]
      }
     ],
     "prompt_number": 99
    },
    {
     "cell_type": "heading",
     "level": 2,
     "metadata": {},
     "source": [
      "c) Desviaci\u00f3n media, con coeficiente la media."
     ]
    },
    {
     "cell_type": "code",
     "collapsed": false,
     "input": [
      "p8.DM = np.sum(p8.fi*np.absolute(p8.xi-p8.media))/(p8.N)\n",
      "print(u'Desviaci\u00f3n media: '+ str(round(p8.DM,2))+'%')"
     ],
     "language": "python",
     "metadata": {},
     "outputs": [
      {
       "output_type": "stream",
       "stream": "stdout",
       "text": [
        "Desviaci\u00f3n media: 12.19%\n"
       ]
      }
     ],
     "prompt_number": 150
    },
    {
     "cell_type": "heading",
     "level": 2,
     "metadata": {},
     "source": [
      "\td) Desviaci\u00f3n media, con coeficiente la mediana."
     ]
    },
    {
     "cell_type": "code",
     "collapsed": false,
     "input": [
      "p8.mediana = PercentilAg(50,p8.Linf,p8.Lsup,p8.fi)\n",
      "\n",
      "p8.DM_r = np.sum(p8.fi*np.absolute(p8.xi-p8.mediana))/(p8.N)\n",
      "print(u'Desviaci\u00f3n media (robusta): '+ str(round(p8.DM_r,2))+'%')"
     ],
     "language": "python",
     "metadata": {},
     "outputs": [
      {
       "output_type": "stream",
       "stream": "stdout",
       "text": [
        "Desviaci\u00f3n media (robusta): 12.21%\n"
       ]
      }
     ],
     "prompt_number": 151
    },
    {
     "cell_type": "heading",
     "level": 2,
     "metadata": {},
     "source": [
      "\te) Coeficiente de variaci\u00f3n media con promedio la media."
     ]
    },
    {
     "cell_type": "code",
     "collapsed": false,
     "input": [
      "# Si la media > 0\n",
      "p8.CV_DM = p8.DM/p8.media*100\n",
      "\n",
      "print(u'Coeficiente de variaci\u00f3n media con promedio la media: '+ str(round(p8.CV_DM,2))+'%')"
     ],
     "language": "python",
     "metadata": {},
     "outputs": [
      {
       "output_type": "stream",
       "stream": "stdout",
       "text": [
        "Coeficiente de variaci\u00f3n media con promedio la media: 14.98%\n"
       ]
      }
     ],
     "prompt_number": 152
    },
    {
     "cell_type": "heading",
     "level": 2,
     "metadata": {},
     "source": [
      "\tf) Coeficiente de variaci\u00f3n media con promedio la mediana."
     ]
    },
    {
     "cell_type": "code",
     "collapsed": false,
     "input": [
      "# Si la mediana > 0\n",
      "p8.CV_DM_r = p8.DM/p8.mediana*100\n",
      "\n",
      "print(u'Coeficiente de variaci\u00f3n media con promedio la mediana: '+ str(round(p8.CV_DM_r,2))+'%')"
     ],
     "language": "python",
     "metadata": {},
     "outputs": [
      {
       "output_type": "stream",
       "stream": "stdout",
       "text": [
        "Coeficiente de variaci\u00f3n media con promedio la mediana: 15.17%\n"
       ]
      }
     ],
     "prompt_number": 153
    },
    {
     "cell_type": "heading",
     "level": 2,
     "metadata": {},
     "source": [
      "\tg) El recorrido intercuart\u00edlico."
     ]
    },
    {
     "cell_type": "markdown",
     "metadata": {},
     "source": [
      "En estad\u00edstica descriptiva, se le llama recorrido intercuart\u00edlico o rango intercuartil, a la diferencia entre el tercer y el primer cuartil de una distribuci\u00f3n. Es una medida de la dispersi\u00f3n estad\u00edstica.\n"
     ]
    },
    {
     "cell_type": "code",
     "collapsed": false,
     "input": [
      "p8.Q3 = PercentilAg(75,p8.Linf,p8.Lsup,p8.fi)\n",
      "p8.Q1 = PercentilAg(25,p8.Linf,p8.Lsup,p8.fi)\n",
      "\n",
      "p8.RQ = p8.Q3-p8.Q1\n",
      "p8.RQ\n",
      "\n"
     ],
     "language": "python",
     "metadata": {},
     "outputs": [
      {
       "metadata": {},
       "output_type": "pyout",
       "prompt_number": 157,
       "text": [
        "20.96875"
       ]
      }
     ],
     "prompt_number": 157
    },
    {
     "cell_type": "markdown",
     "metadata": {},
     "source": [
      "A diferencia del rango, se trata de un estad\u00edstico robusto."
     ]
    },
    {
     "cell_type": "heading",
     "level": 2,
     "metadata": {},
     "source": [
      "\th) Los coeficientes de asimetr\u00eda y apuntamiento."
     ]
    },
    {
     "cell_type": "markdown",
     "metadata": {},
     "source": [
      "Coeficiente de asimetr\u00eda de Pearson se calcula como:"
     ]
    },
    {
     "cell_type": "code",
     "collapsed": false,
     "input": [
      "p8.moda = moda(p8.Linf,p8.Lsup,p8.fi)\n",
      "\n",
      "p8.Ap = (p8.media - p8.moda)/p8.desv_est\n",
      "p8.Ap"
     ],
     "language": "python",
     "metadata": {},
     "outputs": [
      {
       "metadata": {},
       "output_type": "pyout",
       "prompt_number": 163,
       "text": [
        "0.26460855745656664"
       ]
      }
     ],
     "prompt_number": 163
    },
    {
     "cell_type": "markdown",
     "metadata": {},
     "source": [
      "Dado que $$A_p>0$$ se puede deducir que la distribuci\u00f3n de frecuencias posee una ligeraa asimetr\u00eda a la derecha"
     ]
    },
    {
     "cell_type": "markdown",
     "metadata": {},
     "source": [
      "Para calcular el apuntamiento:"
     ]
    },
    {
     "cell_type": "code",
     "collapsed": false,
     "input": [
      "p8.g2 = (np.sum(p8.fi*(p8.xi-p8.media)**4)/(p8.N))/p8.desv_est**4\n",
      "p8.g2"
     ],
     "language": "python",
     "metadata": {},
     "outputs": [
      {
       "metadata": {},
       "output_type": "pyout",
       "prompt_number": 165,
       "text": [
        "2.4968329932774469"
       ]
      }
     ],
     "prompt_number": 165
    },
    {
     "cell_type": "markdown",
     "metadata": {},
     "source": [
      "Dado que $$g_2<3$$ se puede deducir que la distribuci\u00f3n de frecuencias es menos apuntada que la distribuci\u00f3n normal."
     ]
    },
    {
     "cell_type": "markdown",
     "metadata": {},
     "source": [
      "Por \u00faltimo, aunque no se nos pida en este ejercicio, es recomendable ver la representaci\u00f3n de la distribuci\u00f3n de frecuencias gr\u00e1ficamente para comprobar que nuestros c\u00e1lculos estad\u00edsticos se corresponden con la realidad de los datos."
     ]
    },
    {
     "cell_type": "code",
     "collapsed": false,
     "input": [
      "bins = (50,60,70,80,90,100,110,120)\n",
      "\n",
      "plt.hist(p8.datos, bins, alpha=0.4)\n",
      "plt.title(u'Representaci\u00f3n gr\u00e1fica de los datos (comprobaci\u00f3n)')\n",
      "\n",
      "plt.xlabel(u'Intervalos de clase')\n",
      "plt.ylabel(u'fi')\n",
      "plt.xticks(bins)\n",
      "plt.ylim(0,20)\n",
      "plt.xlim(45,125)\n",
      "plt.plot(p8.df['xi'],p8.fi)"
     ],
     "language": "python",
     "metadata": {},
     "outputs": [
      {
       "metadata": {},
       "output_type": "pyout",
       "prompt_number": 172,
       "text": [
        "[<matplotlib.lines.Line2D at 0x155ff940>]"
       ]
      },
      {
       "metadata": {},
       "output_type": "display_data",
       "png": "[encoded data removed]",
       "text": [
        "<matplotlib.figure.Figure at 0x14bc6390>"
       ]
      }
     ],
     "prompt_number": 172
    },
    {
     "cell_type": "markdown",
     "metadata": {},
     "source": [
      "Se puede observar que los datos estad\u00edsticos de este problema se corresponden con la distribuci\u00f3n de datos arriba representada."
     ]
    }
   ],
   "metadata": {}
  }
 ]
}