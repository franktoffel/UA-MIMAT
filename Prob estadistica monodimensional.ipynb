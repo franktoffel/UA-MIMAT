{
 "metadata": {
  "name": ""
 },
 "nbformat": 3,
 "nbformat_minor": 0,
 "worksheets": [
  {
   "cells": [
    {
     "cell_type": "raw",
     "metadata": {},
     "source": [
      "Master de Ing. de Materiales, Agua y Terreno. UA\n",
      "Francisco J. Navarro Brull"
     ]
    },
    {
     "cell_type": "heading",
     "level": 1,
     "metadata": {},
     "source": [
      "ESTADISTICA MONODIMENSIONAL"
     ]
    },
    {
     "cell_type": "code",
     "collapsed": false,
     "input": [
      "#Importaci\u00f3n de librer\u00edas para resolver los problemas.\n",
      "\n",
      "%pylab inline\n",
      "import pandas as pd\n",
      "import numpy as np\n",
      "import matplotlib.pyplot as plt\n",
      "from scipy import stats\n",
      "from __future__ import division"
     ],
     "language": "python",
     "metadata": {},
     "outputs": [
      {
       "output_type": "stream",
       "stream": "stdout",
       "text": [
        "Populating the interactive namespace from numpy and matplotlib\n"
       ]
      }
     ],
     "prompt_number": 1
    },
    {
     "cell_type": "heading",
     "level": 2,
     "metadata": {},
     "source": [
      "Ejercicio 1."
     ]
    },
    {
     "cell_type": "heading",
     "level": 3,
     "metadata": {},
     "source": [
      "Se han clasificado 50 consultorias por el n\u00famero de sus empleados, resultando la siguiente distribuci\u00f3n:\n",
      "\n",
      "N\u00ba de empleados,\t N\u00ba de consultorias;\n",
      "1,\t13;\n",
      "2,\t10;\n",
      "3,\t15;\n",
      "4,\t7;\n",
      "5,\t5;\n"
     ]
    },
    {
     "cell_type": "heading",
     "level": 3,
     "metadata": {},
     "source": [
      "\n",
      "Se pide:\n",
      "\ta) Distribuci\u00f3n de frecuencias absolutas y relativas, absolutas acumuladas descendentes y ascendentes, relativas acumuladas descendentes y ascendentes.\n"
     ]
    },
    {
     "cell_type": "markdown",
     "metadata": {},
     "source": [
      "En primer lugar se introducen los datos de forma compacta tal y como los da el problema"
     ]
    },
    {
     "cell_type": "code",
     "collapsed": false,
     "input": [
      "xi_p1 = np.array([1, 2, 3, 4, 5])\n",
      "xi_p1"
     ],
     "language": "python",
     "metadata": {},
     "outputs": [
      {
       "metadata": {},
       "output_type": "pyout",
       "prompt_number": 2,
       "text": [
        "array([1, 2, 3, 4, 5])"
       ]
      }
     ],
     "prompt_number": 2
    },
    {
     "cell_type": "code",
     "collapsed": false,
     "input": [
      "fi_p1 = np.array([13, 10, 15, 7, 5])\n",
      "fi_p1"
     ],
     "language": "python",
     "metadata": {},
     "outputs": [
      {
       "metadata": {},
       "output_type": "pyout",
       "prompt_number": 3,
       "text": [
        "array([13, 10, 15,  7,  5])"
       ]
      }
     ],
     "prompt_number": 3
    },
    {
     "cell_type": "markdown",
     "metadata": {},
     "source": [
      "Ya tenemos los vectores con los datos del problema. Para calcular las distrubciones que se nos piden:"
     ]
    },
    {
     "cell_type": "code",
     "collapsed": false,
     "input": [
      "# Frecuencia acumulada (ascendente)\n",
      "Fi_p1 = np.cumsum(fi_p1)\n",
      "Fi_p1\n"
     ],
     "language": "python",
     "metadata": {},
     "outputs": [
      {
       "metadata": {},
       "output_type": "pyout",
       "prompt_number": 4,
       "text": [
        "array([13, 23, 38, 45, 50])"
       ]
      }
     ],
     "prompt_number": 4
    },
    {
     "cell_type": "code",
     "collapsed": false,
     "input": [
      "# Frecuencia acumulada descendente\n",
      "Fid_p1 = np.cumsum(fi_p1[::-1])[::-1] \n",
      "Fid_p1"
     ],
     "language": "python",
     "metadata": {},
     "outputs": [
      {
       "metadata": {},
       "output_type": "pyout",
       "prompt_number": 5,
       "text": [
        "array([50, 37, 27, 12,  5])"
       ]
      }
     ],
     "prompt_number": 5
    },
    {
     "cell_type": "code",
     "collapsed": false,
     "input": [
      "# N\n",
      "N_p1 = np.sum(fi_p1)\n",
      "N_p1"
     ],
     "language": "python",
     "metadata": {},
     "outputs": [
      {
       "metadata": {},
       "output_type": "pyout",
       "prompt_number": 6,
       "text": [
        "50"
       ]
      }
     ],
     "prompt_number": 6
    },
    {
     "cell_type": "code",
     "collapsed": false,
     "input": [
      "# Frecuencia relativa \n",
      "hi_p1 = fi_p1/N_p1\n",
      "hi_p1"
     ],
     "language": "python",
     "metadata": {},
     "outputs": [
      {
       "metadata": {},
       "output_type": "pyout",
       "prompt_number": 7,
       "text": [
        "array([ 0.26,  0.2 ,  0.3 ,  0.14,  0.1 ])"
       ]
      }
     ],
     "prompt_number": 7
    },
    {
     "cell_type": "code",
     "collapsed": false,
     "input": [
      "# Frecuencia acumulada relativa (ascendente)\n",
      "Hi_p1 = np.cumsum(hi_p1)\n",
      "Hi_p1"
     ],
     "language": "python",
     "metadata": {},
     "outputs": [
      {
       "metadata": {},
       "output_type": "pyout",
       "prompt_number": 8,
       "text": [
        "array([ 0.26,  0.46,  0.76,  0.9 ,  1.  ])"
       ]
      }
     ],
     "prompt_number": 8
    },
    {
     "cell_type": "code",
     "collapsed": false,
     "input": [
      "# Frecuencia acumulada relativa descendente\n",
      "Hid_p1 = np.cumsum(hi_p1[::-1])[::-1] \n",
      "Hid_p1"
     ],
     "language": "python",
     "metadata": {},
     "outputs": [
      {
       "metadata": {},
       "output_type": "pyout",
       "prompt_number": 9,
       "text": [
        "array([ 1.  ,  0.74,  0.54,  0.24,  0.1 ])"
       ]
      }
     ],
     "prompt_number": 9
    },
    {
     "cell_type": "markdown",
     "metadata": {},
     "source": [
      "La forma m\u00e1s familiar de agrupar esta informaci\u00f3n es una tabla, para ello utilizaremos pandas. Esta biblioteca nos permitir\u00eda escribir los resultados en una hoja de excel si as\u00ed lo desearamos."
     ]
    },
    {
     "cell_type": "code",
     "collapsed": false,
     "input": [
      "# Creamos un diccionario conteniendo todas las series\n",
      "p1 = {'xi' : pd.Series(xi_p1),\n",
      "      'fi' : pd.Series(fi_p1),\n",
      "      'Fi' : pd.Series(Fi_p1),\n",
      "      'Fid' : pd.Series(Fid_p1),\n",
      "      'hi' : pd.Series(hi_p1),\n",
      "      'Hi' : pd.Series(Hi_p1),\n",
      "      'Hid' : pd.Series(Hid_p1),\n",
      "      }\n",
      "\n",
      "# Generamos el DataFrame\n",
      "df_p1 = pd.DataFrame(p1)\n",
      "\n",
      "# Reordenamos para modificar el orden\n",
      "df_p1 = df_p1.reindex_axis(['xi','fi','Fi','Fid','hi','Hi','Hid'], axis=1)\n",
      "\n",
      "df_p1"
     ],
     "language": "python",
     "metadata": {},
     "outputs": [
      {
       "html": [
        "<div style=\"max-height:1000px;max-width:1500px;overflow:auto;\">\n",
        "<table border=\"1\" class=\"dataframe\">\n",
        "  <thead>\n",
        "    <tr style=\"text-align: right;\">\n",
        "      <th></th>\n",
        "      <th>xi</th>\n",
        "      <th>fi</th>\n",
        "      <th>Fi</th>\n",
        "      <th>Fid</th>\n",
        "      <th>hi</th>\n",
        "      <th>Hi</th>\n",
        "      <th>Hid</th>\n",
        "    </tr>\n",
        "  </thead>\n",
        "  <tbody>\n",
        "    <tr>\n",
        "      <th>0</th>\n",
        "      <td> 1</td>\n",
        "      <td> 13</td>\n",
        "      <td> 13</td>\n",
        "      <td> 50</td>\n",
        "      <td> 0.26</td>\n",
        "      <td> 0.26</td>\n",
        "      <td> 1.00</td>\n",
        "    </tr>\n",
        "    <tr>\n",
        "      <th>1</th>\n",
        "      <td> 2</td>\n",
        "      <td> 10</td>\n",
        "      <td> 23</td>\n",
        "      <td> 37</td>\n",
        "      <td> 0.20</td>\n",
        "      <td> 0.46</td>\n",
        "      <td> 0.74</td>\n",
        "    </tr>\n",
        "    <tr>\n",
        "      <th>2</th>\n",
        "      <td> 3</td>\n",
        "      <td> 15</td>\n",
        "      <td> 38</td>\n",
        "      <td> 27</td>\n",
        "      <td> 0.30</td>\n",
        "      <td> 0.76</td>\n",
        "      <td> 0.54</td>\n",
        "    </tr>\n",
        "    <tr>\n",
        "      <th>3</th>\n",
        "      <td> 4</td>\n",
        "      <td>  7</td>\n",
        "      <td> 45</td>\n",
        "      <td> 12</td>\n",
        "      <td> 0.14</td>\n",
        "      <td> 0.90</td>\n",
        "      <td> 0.24</td>\n",
        "    </tr>\n",
        "    <tr>\n",
        "      <th>4</th>\n",
        "      <td> 5</td>\n",
        "      <td>  5</td>\n",
        "      <td> 50</td>\n",
        "      <td>  5</td>\n",
        "      <td> 0.10</td>\n",
        "      <td> 1.00</td>\n",
        "      <td> 0.10</td>\n",
        "    </tr>\n",
        "  </tbody>\n",
        "</table>\n",
        "</div>"
       ],
       "metadata": {},
       "output_type": "pyout",
       "prompt_number": 10,
       "text": [
        "   xi  fi  Fi  Fid    hi    Hi   Hid\n",
        "0   1  13  13   50  0.26  0.26  1.00\n",
        "1   2  10  23   37  0.20  0.46  0.74\n",
        "2   3  15  38   27  0.30  0.76  0.54\n",
        "3   4   7  45   12  0.14  0.90  0.24\n",
        "4   5   5  50    5  0.10  1.00  0.10"
       ]
      }
     ],
     "prompt_number": 10
    },
    {
     "cell_type": "heading",
     "level": 3,
     "metadata": {},
     "source": [
      "b) Porcentaje de consultor\u00edas."
     ]
    },
    {
     "cell_type": "code",
     "collapsed": false,
     "input": [
      "# El valor es equivalente a la frecuencia relativa en %\n",
      "\n",
      "porcentaje_p1 = fi_p1/N_p1*100\n",
      "porcentaje_p1\n",
      "\n",
      "for i in range(len(porcentaje_p1)):\n",
      "    print('Cosultor\u00eda con ' + str(xi_p1[i]) + ' empleado: ' + str(round(porcentaje_p1[i],2)) + '%')\n"
     ],
     "language": "python",
     "metadata": {},
     "outputs": [
      {
       "output_type": "stream",
       "stream": "stdout",
       "text": [
        "Cosultor\u00eda con 1 empleado: 26.0%\n",
        "Cosultor\u00eda con 2 empleado: 20.0%\n",
        "Cosultor\u00eda con 3 empleado: 30.0%\n",
        "Cosultor\u00eda con 4 empleado: 14.0%\n",
        "Cosultor\u00eda con 5 empleado: 10.0%\n"
       ]
      }
     ],
     "prompt_number": 11
    },
    {
     "cell_type": "heading",
     "level": 2,
     "metadata": {},
     "source": [
      "Problema 2:"
     ]
    },
    {
     "cell_type": "heading",
     "level": 3,
     "metadata": {},
     "source": [
      "El numero de alumnos matriculados en los grados de Ingenier\u00eda Civil, Ingenier\u00eda de la Edificaci\u00f3n, Ingenier\u00eda de Caminos y Arquitectura, en la E.P.S. de la U.A. en el curso 2010-2011 son:"
     ]
    },
    {
     "cell_type": "raw",
     "metadata": {},
     "source": [
      "Grado,\tN\u00ba de alumnos;\n",
      "Ingenier\u00eda Civil,\t240;\n",
      "Ingenier\u00eda de la Edificaci\u00f3n,\t184;\n",
      "Ingenier\u00eda de Caminos,\t93;\n",
      "Arquitectura,\t120;\n"
     ]
    },
    {
     "cell_type": "heading",
     "level": 3,
     "metadata": {},
     "source": [
      "Construir un diagrama de barras y un sectograma indicando porcentaje."
     ]
    },
    {
     "cell_type": "code",
     "collapsed": false,
     "input": [
      "xi_p2 = np.array([1,2,3,4])\n",
      "fi_p2 =  np.array([240,184,93,120])"
     ],
     "language": "python",
     "metadata": {},
     "outputs": [],
     "prompt_number": 12
    },
    {
     "cell_type": "code",
     "collapsed": false,
     "input": [
      "etiquetas_p2 = 'I.Civil', 'I.Ed', 'I.Caminos', 'Arquitectura'\n",
      "\n",
      "plt.show()\n",
      "plt.bar(xi_p2, fi_p2, align='center', alpha=0.4)\n",
      "plt.title('Curso 2010-2011')\n",
      "plt.ylim(0,250)\n",
      "plt.xlabel(u'carreras')\n",
      "plt.ylabel(u'n\u00ba de matriculados')\n",
      "plt.xticks(xi_p2, etiquetas_p2)"
     ],
     "language": "python",
     "metadata": {},
     "outputs": [
      {
       "metadata": {},
       "output_type": "pyout",
       "prompt_number": 13,
       "text": [
        "([<matplotlib.axis.XTick at 0x72ddac8>,\n",
        "  <matplotlib.axis.XTick at 0x72e2668>,\n",
        "  <matplotlib.axis.XTick at 0xc10ef28>,\n",
        "  <matplotlib.axis.XTick at 0xc113748>],\n",
        " <a list of 4 Text xticklabel objects>)"
       ]
      },
      {
       "metadata": {},
       "output_type": "display_data",
       "png": "[encoded data removed]",
       "text": [
        "<matplotlib.figure.Figure at 0x669bdd8>"
       ]
      }
     ],
     "prompt_number": 13
    },
    {
     "cell_type": "markdown",
     "metadata": {},
     "source": [
      "Para realizar el sectograma"
     ]
    },
    {
     "cell_type": "code",
     "collapsed": false,
     "input": [
      "# Los sectores se ordenaran en sentido de las agujas de reloj.\n",
      "etiquetas_p2 = 'I.Civil', 'I.Ed', 'I.Caminos', 'Arquitectura'\n",
      "porcentaje_p2 = fi_p2/np.sum(fi_p2)\n",
      "colores = ['yellowgreen', 'gold', 'lightskyblue', 'lightcoral']\n",
      "explode = (0, 0, 0, 0) # Dar valor en decimales si se quiere destacar sector\n",
      "\n",
      "plt.pie(porcentaje_p2, explode=explode, labels=etiquetas_p2, colors=colores,\n",
      "        autopct='%1.1f%%', shadow=True, startangle=90)\n",
      "\n",
      "# Fija el radio para que sea un c\u00edrculo.\n",
      "plt.axis('equal')\n",
      "\n",
      "plt.title(u'N\u00ba de alumnos matriculados - Curso 10-11.')\n",
      "\n"
     ],
     "language": "python",
     "metadata": {},
     "outputs": [
      {
       "metadata": {},
       "output_type": "pyout",
       "prompt_number": 14,
       "text": [
        "<matplotlib.text.Text at 0xc1ffdd8>"
       ]
      },
      {
       "metadata": {},
       "output_type": "display_data",
       "png": "[encoded data removed]",
       "text": [
        "<matplotlib.figure.Figure at 0xc0f94e0>"
       ]
      }
     ],
     "prompt_number": 14
    },
    {
     "cell_type": "markdown",
     "metadata": {},
     "source": [
      "Nota: Matplotlib es una librer\u00eda muy extensa que permite un alto grado de personificaci\u00f3n. Para generar otras figuras [Ver galer\u00eda online](http://matplotlib.org/gallery.html)"
     ]
    },
    {
     "cell_type": "heading",
     "level": 2,
     "metadata": {},
     "source": [
      "Problema 3"
     ]
    },
    {
     "cell_type": "heading",
     "level": 3,
     "metadata": {},
     "source": [
      "Dada la distribuci\u00f3n de frecuencias:"
     ]
    },
    {
     "cell_type": "raw",
     "metadata": {},
     "source": [
      "Intervalos de clase,\tfi;\n",
      "                0-2,\t4;\n",
      "                2-4,\t6;\n",
      "                4-5,\t4;\n",
      "                5-7,\t12;\n",
      "                7-10,\t9;"
     ]
    },
    {
     "cell_type": "heading",
     "level": 3,
     "metadata": {},
     "source": [
      "Histograma y pol\u00edgono de frecuencias. Pol\u00edgono acumulativo de frecuencias. Calcular, utilizando el  pol\u00edgono acumulativo de frecuencias, el valor de la variable que a partir del cual se supera el 30% de la distribuci\u00f3n."
     ]
    },
    {
     "cell_type": "markdown",
     "metadata": {},
     "source": [
      "Antes de resolver vamos a generar una funci\u00f3n que cree la tabla generada en el problema 1. As\u00ed evitaremos reescribir c\u00f3digo para realizar la misma operaci\u00f3n"
     ]
    },
    {
     "cell_type": "code",
     "collapsed": false,
     "input": [
      "# Creamos una clase vac\u00eda que no ser\u00e1 \u00fatil para \"acumular\" los resultados dentro de una variable\n",
      "class problema:\n",
      "    pass\n",
      "\n",
      "# Creamos la funci\u00f3n para generar la tabla de frecuencias\n",
      "\n",
      "def tabla_frec(Linf,Lsup,fi):  # Crea una tabla de frecuencias a partir de datos\n",
      "    \"\"\"Genera tabla de frecuencias a paritr de los intervalos de calase y frecuencias dadas\"\"\" \n",
      "    xi = (Linf+Lsup)/2 # Marca de clase\n",
      "    c = Lsup-Linf # Tama\u00f1o de clase\n",
      "        \n",
      "    Fi = np.cumsum(fi) # Freq acumulada (ascendente)\n",
      "        \n",
      "    N = np.sum(fi) #N\u00famero total de muestras\n",
      "        \n",
      "    hi = fi/N # Freq relativa\n",
      "        \n",
      "    Hi = np.cumsum(hi) # Freq relativa acumulada (ascedente)\n",
      "        \n",
      "    # Preparaci\u00f3n de datos para el dataframe\n",
      "    \n",
      "    pdatos = {'xi' : pd.Series(xi),\n",
      "             'fi' : pd.Series(fi),\n",
      "             'Fi' : pd.Series(Fi),\n",
      "             'hi' : pd.Series(hi),\n",
      "             'Hi' : pd.Series(Hi),\n",
      "             }\n",
      "    \n",
      "    df = pd.DataFrame(pdatos) # Creaci\u00f3n del dataframe\n",
      "        \n",
      "    \n",
      "    df = df.reindex_axis(['xi','fi','Fi','hi','Hi'], axis=1) #reorgnizaci\u00f3n de columnas\n",
      "    \n",
      "    return df\n",
      "    \n",
      "    "
     ],
     "language": "python",
     "metadata": {},
     "outputs": [],
     "prompt_number": 15
    },
    {
     "cell_type": "markdown",
     "metadata": {},
     "source": [
      "Una vez creada introducimos los datos del problema y la llamamos para generar la tabla automaticamente"
     ]
    },
    {
     "cell_type": "code",
     "collapsed": false,
     "input": [
      "p3 = problema()\n",
      "\n",
      "p3.Linf = np.array([0,2,4,5,7])\n",
      "p3.Lsup = np.array([2,4,5,7,10])\n",
      "p3.fi = np.array([4,6,4,12,9])\n",
      "\n",
      "p3.df = tabla_frec(p3.Linf,p3.Lsup,p3.fi)\n",
      "p3.df"
     ],
     "language": "python",
     "metadata": {},
     "outputs": [
      {
       "html": [
        "<div style=\"max-height:1000px;max-width:1500px;overflow:auto;\">\n",
        "<table border=\"1\" class=\"dataframe\">\n",
        "  <thead>\n",
        "    <tr style=\"text-align: right;\">\n",
        "      <th></th>\n",
        "      <th>xi</th>\n",
        "      <th>fi</th>\n",
        "      <th>Fi</th>\n",
        "      <th>hi</th>\n",
        "      <th>Hi</th>\n",
        "    </tr>\n",
        "  </thead>\n",
        "  <tbody>\n",
        "    <tr>\n",
        "      <th>0</th>\n",
        "      <td> 1.0</td>\n",
        "      <td>  4</td>\n",
        "      <td>  4</td>\n",
        "      <td> 0.114286</td>\n",
        "      <td> 0.114286</td>\n",
        "    </tr>\n",
        "    <tr>\n",
        "      <th>1</th>\n",
        "      <td> 3.0</td>\n",
        "      <td>  6</td>\n",
        "      <td> 10</td>\n",
        "      <td> 0.171429</td>\n",
        "      <td> 0.285714</td>\n",
        "    </tr>\n",
        "    <tr>\n",
        "      <th>2</th>\n",
        "      <td> 4.5</td>\n",
        "      <td>  4</td>\n",
        "      <td> 14</td>\n",
        "      <td> 0.114286</td>\n",
        "      <td> 0.400000</td>\n",
        "    </tr>\n",
        "    <tr>\n",
        "      <th>3</th>\n",
        "      <td> 6.0</td>\n",
        "      <td> 12</td>\n",
        "      <td> 26</td>\n",
        "      <td> 0.342857</td>\n",
        "      <td> 0.742857</td>\n",
        "    </tr>\n",
        "    <tr>\n",
        "      <th>4</th>\n",
        "      <td> 8.5</td>\n",
        "      <td>  9</td>\n",
        "      <td> 35</td>\n",
        "      <td> 0.257143</td>\n",
        "      <td> 1.000000</td>\n",
        "    </tr>\n",
        "  </tbody>\n",
        "</table>\n",
        "</div>"
       ],
       "metadata": {},
       "output_type": "pyout",
       "prompt_number": 24,
       "text": [
        "    xi  fi  Fi        hi        Hi\n",
        "0  1.0   4   4  0.114286  0.114286\n",
        "1  3.0   6  10  0.171429  0.285714\n",
        "2  4.5   4  14  0.114286  0.400000\n",
        "3  6.0  12  26  0.342857  0.742857\n",
        "4  8.5   9  35  0.257143  1.000000"
       ]
      }
     ],
     "prompt_number": 24
    },
    {
     "cell_type": "markdown",
     "metadata": {},
     "source": [
      "Por otro lado, se genera la tabla de datos reales (sin agrupar) mediante la siguiente funci\u00f3n."
     ]
    },
    {
     "cell_type": "code",
     "collapsed": false,
     "input": [
      "def gendatos(xi,fi):\n",
      "    \"Crea arrays con todos los datos en nomenclatura compacta\"\n",
      "\n",
      "    data = np.empty([fi.sum(),1]) \n",
      "    \n",
      "    f_acum = np.cumsum(fi)\n",
      "    \n",
      "    for i in range(len(xi)):\n",
      "        if i<1:\n",
      "            data[0:f_acum[i]] = xi[i]\n",
      "        else:\n",
      "            data[f_acum[i-1]:f_acum[i]] = xi[i]\n",
      "\n",
      "    return data"
     ],
     "language": "python",
     "metadata": {},
     "outputs": [],
     "prompt_number": 25
    },
    {
     "cell_type": "markdown",
     "metadata": {},
     "source": [
      "Una vez generada las tablas, la representaci\u00f3n de las gr\u00e1ficas son triviales."
     ]
    },
    {
     "cell_type": "code",
     "collapsed": false,
     "input": [
      "p3.data = gendatos(p3.df['xi'],p3.fi)\n",
      "\n",
      "bins = (0,2,4,5,7,10)\n",
      "\n",
      "plt.hist(p3.data, bins, alpha=0.4)\n",
      "plt.title(u'Histograma y p\u00f3ligono de frecuencias')\n",
      "plt.ylim(0,15)\n",
      "plt.xlabel(u'Intervalos de clase')\n",
      "plt.ylabel(u'fi')\n",
      "plt.xticks(bins)\n",
      "plt.plot(p3.df['xi'],p3.fi)\n"
     ],
     "language": "python",
     "metadata": {},
     "outputs": [
      {
       "metadata": {},
       "output_type": "pyout",
       "prompt_number": 26,
       "text": [
        "[<matplotlib.lines.Line2D at 0xc854fd0>]"
       ]
      },
      {
       "metadata": {},
       "output_type": "display_data",
       "png": "[encoded data removed]",
       "text": [
        "<matplotlib.figure.Figure at 0xc854f28>"
       ]
      }
     ],
     "prompt_number": 26
    },
    {
     "cell_type": "code",
     "collapsed": false,
     "input": [
      "\n",
      "plt.title(u'Pol\u00edgono acumulativo de frecuencias')\n",
      "\n",
      "bins = (0,2,4,5,7,10)\n",
      "\n",
      "plt.hist(p3.data, bins, alpha=0.4, cumulative=True,)\n",
      "\n",
      "plt.xlabel(u'Marca de clase')\n",
      "plt.ylabel(u'fi')\n",
      "plt.xticks(p3.Lsup)\n",
      "# plt.yticks(p3.df['Fi'])\n",
      "plt.plot(p3.Lsup,p3.df['Fi'])\n",
      "\n"
     ],
     "language": "python",
     "metadata": {},
     "outputs": [
      {
       "metadata": {},
       "output_type": "pyout",
       "prompt_number": 27,
       "text": [
        "[<matplotlib.lines.Line2D at 0xca4bfd0>]"
       ]
      },
      {
       "metadata": {},
       "output_type": "display_data",
       "png": "[encoded data removed]",
       "text": [
        "<matplotlib.figure.Figure at 0xca4bef0>"
       ]
      }
     ],
     "prompt_number": 27
    },
    {
     "cell_type": "heading",
     "level": 3,
     "metadata": {},
     "source": [
      "Calcular, utilizando el  pol\u00edgono acumulativo de frecuencias, el valor de la variable que a partir del cual se supera el 30% de la distribuci\u00f3n."
     ]
    },
    {
     "cell_type": "code",
     "collapsed": false,
     "input": [
      "plt.title(u'Pol\u00edgono acumulativo de frecuencias')\n",
      "\n",
      "bins = (0,2,4,5,7,10)\n",
      "\n",
      "plt.hist(p3.data, bins, alpha=0.4, cumulative=True,)\n",
      "\n",
      "plt.xlabel(u'Marca de clase')\n",
      "plt.ylabel(u'fi')\n",
      "plt.xticks(p3.Lsup)\n",
      "# plt.yticks(p3.df['Fi'])\n",
      "plt.plot(p3.Lsup,p3.df['Fi'])"
     ],
     "language": "python",
     "metadata": {},
     "outputs": [
      {
       "metadata": {},
       "output_type": "display_data",
       "png": "[encoded data removed]",
       "text": [
        "<matplotlib.figure.Figure at 0xca5b240>"
       ]
      }
     ],
     "prompt_number": 28
    },
    {
     "cell_type": "code",
     "collapsed": false,
     "input": [
      "p3.df"
     ],
     "language": "python",
     "metadata": {},
     "outputs": [
      {
       "html": [
        "<div style=\"max-height:1000px;max-width:1500px;overflow:auto;\">\n",
        "<table border=\"1\" class=\"dataframe\">\n",
        "  <thead>\n",
        "    <tr style=\"text-align: right;\">\n",
        "      <th></th>\n",
        "      <th>xi</th>\n",
        "      <th>fi</th>\n",
        "      <th>Fi</th>\n",
        "      <th>hi</th>\n",
        "      <th>Hi</th>\n",
        "    </tr>\n",
        "  </thead>\n",
        "  <tbody>\n",
        "    <tr>\n",
        "      <th>0</th>\n",
        "      <td> 1.0</td>\n",
        "      <td>  4</td>\n",
        "      <td>  4</td>\n",
        "      <td> 0.114286</td>\n",
        "      <td> 0.114286</td>\n",
        "    </tr>\n",
        "    <tr>\n",
        "      <th>1</th>\n",
        "      <td> 3.0</td>\n",
        "      <td>  6</td>\n",
        "      <td> 10</td>\n",
        "      <td> 0.171429</td>\n",
        "      <td> 0.285714</td>\n",
        "    </tr>\n",
        "    <tr>\n",
        "      <th>2</th>\n",
        "      <td> 4.5</td>\n",
        "      <td>  4</td>\n",
        "      <td> 14</td>\n",
        "      <td> 0.114286</td>\n",
        "      <td> 0.400000</td>\n",
        "    </tr>\n",
        "    <tr>\n",
        "      <th>3</th>\n",
        "      <td> 6.0</td>\n",
        "      <td> 12</td>\n",
        "      <td> 26</td>\n",
        "      <td> 0.342857</td>\n",
        "      <td> 0.742857</td>\n",
        "    </tr>\n",
        "    <tr>\n",
        "      <th>4</th>\n",
        "      <td> 8.5</td>\n",
        "      <td>  9</td>\n",
        "      <td> 35</td>\n",
        "      <td> 0.257143</td>\n",
        "      <td> 1.000000</td>\n",
        "    </tr>\n",
        "  </tbody>\n",
        "</table>\n",
        "</div>"
       ],
       "metadata": {},
       "output_type": "pyout",
       "prompt_number": 29,
       "text": [
        "    xi  fi  Fi        hi        Hi\n",
        "0  1.0   4   4  0.114286  0.114286\n",
        "1  3.0   6  10  0.171429  0.285714\n",
        "2  4.5   4  14  0.114286  0.400000\n",
        "3  6.0  12  26  0.342857  0.742857\n",
        "4  8.5   9  35  0.257143  1.000000"
       ]
      }
     ],
     "prompt_number": 29
    },
    {
     "cell_type": "code",
     "collapsed": false,
     "input": [
      "# Mediante el teorema de tales se llega a la siguiente relacion\n",
      "# valor_p = Linf_p + (c_p*((percentil/100)*n-Fi_prev_p))/fi_p\n",
      "\n",
      "percentil = 30\n",
      "\n",
      "# Se busca la posici\u00f3n del intervalo con el Linf que contiene al percentil\n",
      "i_p = np.argmax(p3.df['Hi'] > (percentil/100))\n",
      "\n",
      "Linf_p = p3.Linf[i_p] # Limite inferior del intervalo que contiene al Percentil\n",
      "Lsup_p = p3.Lsup[i_p] # Limite superior del intervalo que contiene al Percentil\n",
      "\n",
      "c_p = Lsup_p-Linf_p # Tama\u00f1o dle intervalo de clase\n",
      "\n",
      "fi_p = p3.fi[i] # Frecuencia en la clase que contiene al Percentil\n",
      "\n",
      "# Fi = p3.df['Fi'] # Tabla de valores de Fi\n",
      "# Fi_prev_p = Fi[i_p-1] # Frec acumulada en la clase anterior k-esima\n",
      "\n",
      "Fi_prev_p = p3.df['Fi'][i_p-1] # Equivalente a las dos l\u00edneas anteriores\n",
      "\n",
      "n = np.sum(p3.fi)\n",
      "\n",
      "valor_p = Linf_p + (c_p*((percentil/100)*n-Fi_prev_p))/fi_p\n",
      "\n",
      "valor_p\n"
     ],
     "language": "python",
     "metadata": {},
     "outputs": [
      {
       "metadata": {},
       "output_type": "pyout",
       "prompt_number": 35,
       "text": [
        "4.0555555555555554"
       ]
      }
     ],
     "prompt_number": 35
    },
    {
     "cell_type": "heading",
     "level": 4,
     "metadata": {},
     "source": [
      "Problema 4"
     ]
    },
    {
     "cell_type": "heading",
     "level": 2,
     "metadata": {},
     "source": [
      "Completar los datos que faltan en la distribuci\u00f3n:"
     ]
    },
    {
     "cell_type": "raw",
     "metadata": {},
     "source": [
      "xi,\tfi,\tFi,\thi,\tHi;\n",
      "1,\t3,\t-,\t0.083,\t-;\n",
      "2,\t4,\t-,\t-,\t-;\n",
      "3,\t-,\t12,\t0.139,\t-;\n",
      "4,\t6,\t-,\t-,\t-;\n",
      "5,\t8,\t26,\t-,\t-;\n",
      "6,\t-,\t34,\t0.222,\t-;\n",
      "7,\t2,\t-,\t-,\t-;\n"
     ]
    },
    {
     "cell_type": "markdown",
     "metadata": {},
     "source": [
      "El valor que falta de fi se puede sacar de la resta del acumulado Fi menos el valor de la suma anterior, as\u00ed:"
     ]
    },
    {
     "cell_type": "code",
     "collapsed": false,
     "input": [
      "p4 = problema()\n",
      "p4.xi = np.array([1,2,3,4,5,6,7])\n",
      "p4.fi = np.array([3,4,(12-(3+4)),6,8,(34-26),2])      \n",
      "p4.fi"
     ],
     "language": "python",
     "metadata": {},
     "outputs": [
      {
       "metadata": {},
       "output_type": "pyout",
       "prompt_number": 8,
       "text": [
        "array([3, 4, 5, 6, 8, 8, 2])"
       ]
      }
     ],
     "prompt_number": 8
    },
    {
     "cell_type": "code",
     "collapsed": false,
     "input": [
      "# Creamos la funci\u00f3n para generar la tabla de frecuencias directa\n",
      "# (a partir de datos sin agrupar en intervalos)\n",
      "\n",
      "def tabla_frec_d(xi,Linf,Lsup,fi):  # Crea una tabla de frecuencias a partir de datos\n",
      "    \"\"\"Genera tabla de frecuencias a paritr de los intervalos de calase y frecuencias dadas\"\"\"\n",
      "#     if not xi:     \n",
      "#         xi = (Linf+Lsup)/2 # Marca de clase\n",
      "#         c = Lsup-Linf # Tama\u00f1o de clase     \n",
      "        \n",
      "    Fi = np.cumsum(fi) # Freq acumulada (ascendente)\n",
      "        \n",
      "    N = np.sum(fi) #N\u00famero total de muestras\n",
      "        \n",
      "    hi = fi/N # Freq relativa\n",
      "        \n",
      "    Hi = np.cumsum(hi) # Freq relativa acumulada (ascedente)\n",
      "        \n",
      "    # Preparaci\u00f3n de datos para el dataframe\n",
      "    pdatos = {'xi' : pd.Series(xi),\n",
      "             'fi' : pd.Series(fi),\n",
      "             'Fi' : pd.Series(Fi),\n",
      "             'hi' : pd.Series(hi),\n",
      "             'Hi' : pd.Series(Hi),\n",
      "             }\n",
      "    \n",
      "    df = pd.DataFrame(pdatos) # Creaci\u00f3n del dataframe\n",
      "        \n",
      "    \n",
      "    df = df.reindex_axis(['xi','fi','Fi','hi','Hi'], axis=1) # reorgnizaci\u00f3n de columnas\n",
      "    \n",
      "    return df\n",
      "    \n",
      "    "
     ],
     "language": "python",
     "metadata": {},
     "outputs": [],
     "prompt_number": 10
    },
    {
     "cell_type": "code",
     "collapsed": false,
     "input": [
      "p4.df = tabla_frec_d(p4.xi,[],[],p4.fi)\n",
      "p4.df"
     ],
     "language": "python",
     "metadata": {},
     "outputs": [
      {
       "html": [
        "<div style=\"max-height:1000px;max-width:1500px;overflow:auto;\">\n",
        "<table border=\"1\" class=\"dataframe\">\n",
        "  <thead>\n",
        "    <tr style=\"text-align: right;\">\n",
        "      <th></th>\n",
        "      <th>xi</th>\n",
        "      <th>fi</th>\n",
        "      <th>Fi</th>\n",
        "      <th>hi</th>\n",
        "      <th>Hi</th>\n",
        "    </tr>\n",
        "  </thead>\n",
        "  <tbody>\n",
        "    <tr>\n",
        "      <th>0</th>\n",
        "      <td> 1</td>\n",
        "      <td> 3</td>\n",
        "      <td>  3</td>\n",
        "      <td> 0.083333</td>\n",
        "      <td> 0.083333</td>\n",
        "    </tr>\n",
        "    <tr>\n",
        "      <th>1</th>\n",
        "      <td> 2</td>\n",
        "      <td> 4</td>\n",
        "      <td>  7</td>\n",
        "      <td> 0.111111</td>\n",
        "      <td> 0.194444</td>\n",
        "    </tr>\n",
        "    <tr>\n",
        "      <th>2</th>\n",
        "      <td> 3</td>\n",
        "      <td> 5</td>\n",
        "      <td> 12</td>\n",
        "      <td> 0.138889</td>\n",
        "      <td> 0.333333</td>\n",
        "    </tr>\n",
        "    <tr>\n",
        "      <th>3</th>\n",
        "      <td> 4</td>\n",
        "      <td> 6</td>\n",
        "      <td> 18</td>\n",
        "      <td> 0.166667</td>\n",
        "      <td> 0.500000</td>\n",
        "    </tr>\n",
        "    <tr>\n",
        "      <th>4</th>\n",
        "      <td> 5</td>\n",
        "      <td> 8</td>\n",
        "      <td> 26</td>\n",
        "      <td> 0.222222</td>\n",
        "      <td> 0.722222</td>\n",
        "    </tr>\n",
        "    <tr>\n",
        "      <th>5</th>\n",
        "      <td> 6</td>\n",
        "      <td> 8</td>\n",
        "      <td> 34</td>\n",
        "      <td> 0.222222</td>\n",
        "      <td> 0.944444</td>\n",
        "    </tr>\n",
        "    <tr>\n",
        "      <th>6</th>\n",
        "      <td> 7</td>\n",
        "      <td> 2</td>\n",
        "      <td> 36</td>\n",
        "      <td> 0.055556</td>\n",
        "      <td> 1.000000</td>\n",
        "    </tr>\n",
        "  </tbody>\n",
        "</table>\n",
        "</div>"
       ],
       "metadata": {},
       "output_type": "pyout",
       "prompt_number": 11,
       "text": [
        "   xi  fi  Fi        hi        Hi\n",
        "0   1   3   3  0.083333  0.083333\n",
        "1   2   4   7  0.111111  0.194444\n",
        "2   3   5  12  0.138889  0.333333\n",
        "3   4   6  18  0.166667  0.500000\n",
        "4   5   8  26  0.222222  0.722222\n",
        "5   6   8  34  0.222222  0.944444\n",
        "6   7   2  36  0.055556  1.000000"
       ]
      }
     ],
     "prompt_number": 11
    },
    {
     "cell_type": "heading",
     "level": 2,
     "metadata": {},
     "source": [
      "Problema 5"
     ]
    },
    {
     "cell_type": "heading",
     "level": 3,
     "metadata": {},
     "source": [
      "En la biblioteca de la E.P.S., se han tomado 100 libros y se ha anotado el n\u00famero de obras rese\u00f1adas en la bibliograf\u00eda de cada uno de ellos, resultando la siguiente tabla:"
     ]
    },
    {
     "cell_type": "raw",
     "metadata": {},
     "source": [
      "Intervalos de clase\t  N\u00ba de rese\u00f1as bibliogr\u00e1ficas\n",
      "0-10\t8\n",
      "10-20\t12\n",
      "20-30\t10\n",
      "30-40\t14\n",
      "40-50\t21\n",
      "50-60\t16\n",
      "60-70\t10\n",
      "70-80\t5\n",
      "80-90\t3\n",
      "90-100\t1\n"
     ]
    },
    {
     "cell_type": "heading",
     "level": 3,
     "metadata": {},
     "source": [
      "Calcular la media aritm\u00e9tica. La mediana y la moda, mediante procedimientos gr\u00e1ficos y anal\u00edticos."
     ]
    },
    {
     "cell_type": "code",
     "collapsed": false,
     "input": [
      "p5 = problema()\n",
      "\n",
      "p5.Linf = np.array([0,10,20,30,40,50,60,70,80,90])\n",
      "p5.Lsup = np.array([10,20,30,40,50,60,70,80,90,100])\n",
      "p5.fi = np.array([8,12,10,14,51,16,10,5,3,1])\n",
      "\n",
      "p5.xi = (p5.Lsup+p5.Linf)/2\n",
      "\n",
      "p5.media_a = np.sum((p5.xi*p5.fi)/np.sum(p5.fi))\n",
      "\n",
      "print('Media aritm\u00e9tica: '+str(round(p5.media_a,2)))"
     ],
     "language": "python",
     "metadata": {},
     "outputs": [
      {
       "output_type": "stream",
       "stream": "stdout",
       "text": [
        "Media aritm\u00e9tica: 42.38\n"
       ]
      }
     ],
     "prompt_number": 59
    },
    {
     "cell_type": "markdown",
     "metadata": {},
     "source": [
      "La mediana corresponde al percentil 50, en el problema 3 se describio la f\u00f3rmula obtenida aplicando el teorema de tales. Por practicidad crearemos una funci\u00f3n para automatizar la obtenci\u00f3n de los percentiles."
     ]
    },
    {
     "cell_type": "code",
     "collapsed": false,
     "input": [
      "# Mediante el teorema de tales se llega a la siguiente relacion\n",
      "# valor_p = Linf_p + (c_p*((percentil/100)*n-Fi_prev_p))/fi_p\n",
      "\n",
      "def PercentilAg(percentil, Linf, Lsup, fi):\n",
      "    \"\"\"Obtenci\u00f3n del percentil para grupos agrupados\"\"\"\n",
      "    \n",
      "    df = tabla_frec(Linf, Lsup, fi) #Generaci\u00f3n de la tabla\n",
      "    \n",
      "    # Se busca la posici\u00f3n del intervalo con el Linf que contiene al percentil\n",
      "    i_p = np.argmax(df['Hi']>percentil/100)\n",
      "    \n",
      "    Linf_p = Linf[i_p] # Limite inferior del intervalo que contiene al Percentil\n",
      "    Lsup_p = Lsup[i_p] # Limite superior del intervalo que contiene al Percentil\n",
      "    \n",
      "    c_p = Lsup_p-Linf_p # Tama\u00f1o dle intervalo de clase\n",
      "    \n",
      "    fi_p = fi[i] # Frecuencia en la clase que contiene al Percentil\n",
      "    \n",
      "    # Fi = p3.df['Fi'] # Tabla de valores de Fi\n",
      "    # Fi_prev_p = Fi[i_p-1] # Frec acumulada en la clase anterior k-esima\n",
      "    \n",
      "    Fi_prev_p = df['Fi'][i_p-1] # Equivalente a las dos l\u00edneas anteriores\n",
      "    \n",
      "    n = np.sum(fi)\n",
      "    \n",
      "    valor_p = Linf_p + (c_p*((percentil/100)*n-Fi_prev_p))/fi_p\n",
      "    \n",
      "    return valor_p"
     ],
     "language": "python",
     "metadata": {},
     "outputs": [],
     "prompt_number": 48
    },
    {
     "cell_type": "code",
     "collapsed": false,
     "input": [
      "p5.df = tabla_frec(p5.Linf,p5.Lsup,p5.fi)\n",
      "p5.df"
     ],
     "language": "python",
     "metadata": {},
     "outputs": [
      {
       "html": [
        "<div style=\"max-height:1000px;max-width:1500px;overflow:auto;\">\n",
        "<table border=\"1\" class=\"dataframe\">\n",
        "  <thead>\n",
        "    <tr style=\"text-align: right;\">\n",
        "      <th></th>\n",
        "      <th>xi</th>\n",
        "      <th>fi</th>\n",
        "      <th>Fi</th>\n",
        "      <th>hi</th>\n",
        "      <th>Hi</th>\n",
        "    </tr>\n",
        "  </thead>\n",
        "  <tbody>\n",
        "    <tr>\n",
        "      <th>0</th>\n",
        "      <td>  5</td>\n",
        "      <td>  8</td>\n",
        "      <td>   8</td>\n",
        "      <td> 0.061538</td>\n",
        "      <td> 0.061538</td>\n",
        "    </tr>\n",
        "    <tr>\n",
        "      <th>1</th>\n",
        "      <td> 15</td>\n",
        "      <td> 12</td>\n",
        "      <td>  20</td>\n",
        "      <td> 0.092308</td>\n",
        "      <td> 0.153846</td>\n",
        "    </tr>\n",
        "    <tr>\n",
        "      <th>2</th>\n",
        "      <td> 25</td>\n",
        "      <td> 10</td>\n",
        "      <td>  30</td>\n",
        "      <td> 0.076923</td>\n",
        "      <td> 0.230769</td>\n",
        "    </tr>\n",
        "    <tr>\n",
        "      <th>3</th>\n",
        "      <td> 35</td>\n",
        "      <td> 14</td>\n",
        "      <td>  44</td>\n",
        "      <td> 0.107692</td>\n",
        "      <td> 0.338462</td>\n",
        "    </tr>\n",
        "    <tr>\n",
        "      <th>4</th>\n",
        "      <td> 45</td>\n",
        "      <td> 51</td>\n",
        "      <td>  95</td>\n",
        "      <td> 0.392308</td>\n",
        "      <td> 0.730769</td>\n",
        "    </tr>\n",
        "    <tr>\n",
        "      <th>5</th>\n",
        "      <td> 55</td>\n",
        "      <td> 16</td>\n",
        "      <td> 111</td>\n",
        "      <td> 0.123077</td>\n",
        "      <td> 0.853846</td>\n",
        "    </tr>\n",
        "    <tr>\n",
        "      <th>6</th>\n",
        "      <td> 65</td>\n",
        "      <td> 10</td>\n",
        "      <td> 121</td>\n",
        "      <td> 0.076923</td>\n",
        "      <td> 0.930769</td>\n",
        "    </tr>\n",
        "    <tr>\n",
        "      <th>7</th>\n",
        "      <td> 75</td>\n",
        "      <td>  5</td>\n",
        "      <td> 126</td>\n",
        "      <td> 0.038462</td>\n",
        "      <td> 0.969231</td>\n",
        "    </tr>\n",
        "    <tr>\n",
        "      <th>8</th>\n",
        "      <td> 85</td>\n",
        "      <td>  3</td>\n",
        "      <td> 129</td>\n",
        "      <td> 0.023077</td>\n",
        "      <td> 0.992308</td>\n",
        "    </tr>\n",
        "    <tr>\n",
        "      <th>9</th>\n",
        "      <td> 95</td>\n",
        "      <td>  1</td>\n",
        "      <td> 130</td>\n",
        "      <td> 0.007692</td>\n",
        "      <td> 1.000000</td>\n",
        "    </tr>\n",
        "  </tbody>\n",
        "</table>\n",
        "</div>"
       ],
       "metadata": {},
       "output_type": "pyout",
       "prompt_number": 62,
       "text": [
        "   xi  fi   Fi        hi        Hi\n",
        "0   5   8    8  0.061538  0.061538\n",
        "1  15  12   20  0.092308  0.153846\n",
        "2  25  10   30  0.076923  0.230769\n",
        "3  35  14   44  0.107692  0.338462\n",
        "4  45  51   95  0.392308  0.730769\n",
        "5  55  16  111  0.123077  0.853846\n",
        "6  65  10  121  0.076923  0.930769\n",
        "7  75   5  126  0.038462  0.969231\n",
        "8  85   3  129  0.023077  0.992308\n",
        "9  95   1  130  0.007692  1.000000"
       ]
      }
     ],
     "prompt_number": 62
    },
    {
     "cell_type": "code",
     "collapsed": false,
     "input": [
      "# Mediana = P_50\n",
      "percentil = 50\n",
      "\n",
      "valor_p50 = PercentilAg(percentil,p5.Linf,p5.Lsup,p5.fi)\n",
      "\n",
      "print('Mediana: '+str(round(valor_p50,2)))"
     ],
     "language": "python",
     "metadata": {},
     "outputs": [
      {
       "output_type": "stream",
       "stream": "stdout",
       "text": [
        "Mediana: 44.12\n"
       ]
      }
     ],
     "prompt_number": 60
    },
    {
     "cell_type": "code",
     "collapsed": false,
     "input": [
      "p5.data = gendatos(p5.df['xi'],p5.fi)\n",
      "\n",
      "bins = (0, 10, 20, 30, 40, 50, 60, 70, 80, 90, 100)\n",
      "\n",
      "plt.hist(p5.data, bins, alpha=0.4, cumulative=True,)\n",
      "plt.title(u'Pol\u00edgono acumulativo de frecuencias')\n",
      "plt.xlabel(u'Marca de clase')\n",
      "plt.ylabel(u'fi')\n",
      "plt.xticks(p5.Lsup)\n",
      "# plt.yticks(p3.df['Fi'])\n",
      "plt.plot(p5.Lsup,p5.df['Fi'])\n",
      "\n",
      "x_graf = valor_p50\n",
      "y_graf = np.sum(p5.fi)*percentil/100\n",
      "\n",
      "# L\u00ednea horizontal\n",
      "plt.hlines(y=y_graf, xmin=0, xmax=x_graf, color='red', zorder=1)\n",
      "\n",
      "# L\u00ednea vertical\n",
      "plt.vlines(x=x_graf, ymin=0, ymax=y_graf, color='red', zorder=2)\n"
     ],
     "language": "python",
     "metadata": {},
     "outputs": [
      {
       "metadata": {},
       "output_type": "pyout",
       "prompt_number": 69,
       "text": [
        "<matplotlib.collections.LineCollection at 0xdb951d0>"
       ]
      },
      {
       "metadata": {},
       "output_type": "display_data",
       "png": "[encoded data removed]",
       "text": [
        "<matplotlib.figure.Figure at 0xd90eb70>"
       ]
      }
     ],
     "prompt_number": 69
    },
    {
     "cell_type": "code",
     "collapsed": false,
     "input": [],
     "language": "python",
     "metadata": {},
     "outputs": []
    }
   ],
   "metadata": {}
  }
 ]
}