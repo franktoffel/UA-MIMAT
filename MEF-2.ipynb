{
 "metadata": {
  "name": ""
 },
 "nbformat": 3,
 "nbformat_minor": 0,
 "worksheets": [
  {
   "cells": [
    {
     "cell_type": "code",
     "collapsed": false,
     "input": [
      "from __future__ import division\n",
      "from sympy import *\n",
      "x, y, z, t = symbols('x y z t')\n",
      "k, m, n = symbols('k m n', integer=True)\n",
      "f, g, h = symbols('f g h', cls=Function)"
     ],
     "language": "python",
     "metadata": {},
     "outputs": [],
     "prompt_number": 126
    },
    {
     "cell_type": "code",
     "collapsed": false,
     "input": [
      "# El siguiente comando es opcional pero har\u00e1 que la soluci\u00f3n sea vea con LaTeX\n",
      "\n",
      "init_printing(use_unicode=True)"
     ],
     "language": "python",
     "metadata": {},
     "outputs": [],
     "prompt_number": 2
    },
    {
     "cell_type": "code",
     "collapsed": false,
     "input": [
      "%matplotlib inline"
     ],
     "language": "python",
     "metadata": {},
     "outputs": [],
     "prompt_number": 3
    },
    {
     "cell_type": "markdown",
     "metadata": {},
     "source": [
      "Para esta sesi\u00f3n utilizaremos los bucles `for`. En Python, los bucles se escriben de la forma siguiente:"
     ]
    },
    {
     "cell_type": "code",
     "collapsed": false,
     "input": [
      "for j in range(0, 3):\n",
      "    print j"
     ],
     "language": "python",
     "metadata": {},
     "outputs": [
      {
       "output_type": "stream",
       "stream": "stdout",
       "text": [
        "0\n",
        "1\n",
        "2\n"
       ]
      }
     ],
     "prompt_number": 4
    },
    {
     "cell_type": "markdown",
     "metadata": {},
     "source": [
      "Como se observa, los intervalos del rango son cerrados al inicio y abiertos al final. \n"
     ]
    },
    {
     "cell_type": "markdown",
     "metadata": {},
     "source": [
      "Podemos anidar bucles:"
     ]
    },
    {
     "cell_type": "code",
     "collapsed": false,
     "input": [
      "for i in range(0,3):\n",
      "    for j in range(0,3):\n",
      "        print i+j"
     ],
     "language": "python",
     "metadata": {},
     "outputs": [
      {
       "output_type": "stream",
       "stream": "stdout",
       "text": [
        "0\n",
        "1\n",
        "2\n",
        "1\n",
        "2\n",
        "3\n",
        "2\n",
        "3\n",
        "4\n"
       ]
      }
     ],
     "prompt_number": 45
    },
    {
     "cell_type": "markdown",
     "metadata": {},
     "source": [
      "Ejercicio, escribir desde i=1 hasta i=10 x=i+1"
     ]
    },
    {
     "cell_type": "markdown",
     "metadata": {},
     "source": [
      "Como recordotario, al trabajar con numpy estamos trabajando de forma simb\u00f3lica por lo que la siguiente expresi\u00f3n no se evalua."
     ]
    },
    {
     "cell_type": "code",
     "collapsed": false,
     "input": [
      "y+1"
     ],
     "language": "python",
     "metadata": {},
     "outputs": [
      {
       "latex": [
        "$$y + 1$$"
       ],
       "metadata": {},
       "output_type": "pyout",
       "png": "[encoded data removed]",
       "prompt_number": 48,
       "text": [
        "y + 1"
       ]
      }
     ],
     "prompt_number": 48
    },
    {
     "cell_type": "markdown",
     "metadata": {},
     "source": [
      "Podemos combinar la potencia de SymPy con el lenguaje Python."
     ]
    },
    {
     "cell_type": "markdown",
     "metadata": {},
     "source": [
      "Creamos primeros un vector vac\u00edo de zeros"
     ]
    },
    {
     "cell_type": "code",
     "collapsed": false,
     "input": [
      "vector = zeros(1,3)\n",
      "vector"
     ],
     "language": "python",
     "metadata": {},
     "outputs": [
      {
       "latex": [
        "$$\\left[\\begin{matrix}0 & 0 & 0\\end{matrix}\\right]$$"
       ],
       "metadata": {},
       "output_type": "pyout",
       "png": "[encoded data removed]",
       "prompt_number": 54,
       "text": [
        "[0  0  0]"
       ]
      }
     ],
     "prompt_number": 54
    },
    {
     "cell_type": "heading",
     "level": 6,
     "metadata": {},
     "source": [
      "\u00a1RECUERDA QUE EN PYTHON LA INDEXACI\u00d3N EMPIEZA DESDE 0!"
     ]
    },
    {
     "cell_type": "code",
     "collapsed": false,
     "input": [
      "for i in range(0,3):\n",
      "    vector_automatico[i] = x+i+1"
     ],
     "language": "python",
     "metadata": {},
     "outputs": [],
     "prompt_number": 50
    },
    {
     "cell_type": "code",
     "collapsed": false,
     "input": [
      "vector_automatico"
     ],
     "language": "python",
     "metadata": {},
     "outputs": [
      {
       "latex": [
        "$$\\left[\\begin{matrix}x + 1 & x + 2 & x + 3\\end{matrix}\\right]$$"
       ],
       "metadata": {},
       "output_type": "pyout",
       "png": "[encoded data removed]",
       "prompt_number": 53,
       "text": [
        "[x + 1  x + 2  x + 3]"
       ]
      }
     ],
     "prompt_number": 53
    },
    {
     "cell_type": "markdown",
     "metadata": {},
     "source": [
      "Tambi\u00e9n podemos utilizar bucles anidados para completar matrices."
     ]
    },
    {
     "cell_type": "code",
     "collapsed": false,
     "input": [
      "matriz = Matrix(3, 3, zeros(1,9))\n",
      "matriz"
     ],
     "language": "python",
     "metadata": {},
     "outputs": [
      {
       "latex": [
        "$$\\left[\\begin{matrix}0 & 0 & 0\\\\0 & 0 & 0\\\\0 & 0 & 0\\end{matrix}\\right]$$"
       ],
       "metadata": {},
       "output_type": "pyout",
       "png": "[encoded data removed]",
       "prompt_number": 55,
       "text": [
        "\u23a10  0  0\u23a4\n",
        "\u23a2       \u23a5\n",
        "\u23a20  0  0\u23a5\n",
        "\u23a2       \u23a5\n",
        "\u23a30  0  0\u23a6"
       ]
      }
     ],
     "prompt_number": 55
    },
    {
     "cell_type": "code",
     "collapsed": false,
     "input": [
      "for i in range(0,3):\n",
      "    for j in range(0,3):\n",
      "        matriz[(i,j)] = i+j+1+1\n",
      "        "
     ],
     "language": "python",
     "metadata": {},
     "outputs": [],
     "prompt_number": 56
    },
    {
     "cell_type": "code",
     "collapsed": false,
     "input": [
      "matriz"
     ],
     "language": "python",
     "metadata": {},
     "outputs": [
      {
       "latex": [
        "$$\\left[\\begin{matrix}2 & 3 & 4\\\\3 & 4 & 5\\\\4 & 5 & 6\\end{matrix}\\right]$$"
       ],
       "metadata": {},
       "output_type": "pyout",
       "png": "[encoded data removed]",
       "prompt_number": 57,
       "text": [
        "\u23a12  3  4\u23a4\n",
        "\u23a2       \u23a5\n",
        "\u23a23  4  5\u23a5\n",
        "\u23a2       \u23a5\n",
        "\u23a34  5  6\u23a6"
       ]
      }
     ],
     "prompt_number": 57
    },
    {
     "cell_type": "markdown",
     "metadata": {},
     "source": [
      "Nota: Los +1 se a\u00f1adieron dado que estamos empezando por i=0 debido a que la indexaci\u00f3n de la matriz debe empezar por 0"
     ]
    },
    {
     "cell_type": "markdown",
     "metadata": {},
     "source": [
      "Las funciones en Python se definen de la siguiente forma "
     ]
    },
    {
     "cell_type": "code",
     "collapsed": false,
     "input": [
      "def f_siguiente(N): \n",
      "    \"\"\"Suma la unidad a n\"\"\"\n",
      "    N = N+1\n",
      "    return N"
     ],
     "language": "python",
     "metadata": {},
     "outputs": [],
     "prompt_number": 78
    },
    {
     "cell_type": "code",
     "collapsed": false,
     "input": [
      "f_siguiente(10)"
     ],
     "language": "python",
     "metadata": {},
     "outputs": [
      {
       "latex": [
        "$$11$$"
       ],
       "metadata": {},
       "output_type": "pyout",
       "png": "[encoded data removed]",
       "prompt_number": 79,
       "text": [
        "11"
       ]
      }
     ],
     "prompt_number": 79
    },
    {
     "cell_type": "code",
     "collapsed": false,
     "input": [
      "f_siguiente(23)"
     ],
     "language": "python",
     "metadata": {},
     "outputs": [
      {
       "latex": [
        "$$24$$"
       ],
       "metadata": {},
       "output_type": "pyout",
       "png": "[encoded data removed]",
       "prompt_number": 68,
       "text": [
        "24"
       ]
      }
     ],
     "prompt_number": 68
    },
    {
     "cell_type": "markdown",
     "metadata": {},
     "source": [
      "Ejercicio: Definir una funcion suma que devuelva la suma de los naturales de 1 hasta n"
     ]
    },
    {
     "cell_type": "code",
     "collapsed": false,
     "input": [
      "def f_suma(N):\n",
      "    \"\"\"Sumatorio de 1 a n\"\"\"\n",
      "    sumatorio = 0\n",
      "    for i in range (0,N+1):\n",
      "        sumatorio = sumatorio+i\n",
      "    return sumatorio\n",
      "        "
     ],
     "language": "python",
     "metadata": {},
     "outputs": [],
     "prompt_number": 80
    },
    {
     "cell_type": "code",
     "collapsed": false,
     "input": [
      "f_suma(2)"
     ],
     "language": "python",
     "metadata": {},
     "outputs": [
      {
       "latex": [
        "$$3$$"
       ],
       "metadata": {},
       "output_type": "pyout",
       "png": "[encoded data removed]",
       "prompt_number": 74,
       "text": [
        "3"
       ]
      }
     ],
     "prompt_number": 74
    },
    {
     "cell_type": "code",
     "collapsed": false,
     "input": [
      "f_suma(3)"
     ],
     "language": "python",
     "metadata": {},
     "outputs": [
      {
       "latex": [
        "$$6$$"
       ],
       "metadata": {},
       "output_type": "pyout",
       "png": "[encoded data removed]",
       "prompt_number": 77,
       "text": [
        "6"
       ]
      }
     ],
     "prompt_number": 77
    },
    {
     "cell_type": "code",
     "collapsed": false,
     "input": [
      "f_suma(100)"
     ],
     "language": "python",
     "metadata": {},
     "outputs": [
      {
       "latex": [
        "$$5050$$"
       ],
       "metadata": {},
       "output_type": "pyout",
       "png": "[encoded data removed]",
       "prompt_number": 83,
       "text": [
        "5050"
       ]
      }
     ],
     "prompt_number": 83
    },
    {
     "cell_type": "markdown",
     "metadata": {},
     "source": [
      "Para integrar por elementos finitios:"
     ]
    },
    {
     "cell_type": "markdown",
     "metadata": {},
     "source": [
      "$$integral = [ 1/{2} [f(a)+f(b)]+f(x(2))+f(x(3))+...] l$$"
     ]
    },
    {
     "cell_type": "code",
     "collapsed": false,
     "input": [
      "def f_elem(f,a,b,n_elem):\n",
      "    \"\"\"Donde f es la funci\u00f3n (simb\u00f3lica)\n",
      "    a,b: intervalo\n",
      "    n: el n\u00famero de elementos\"\"\"\n",
      "    \n",
      "    # Calculamos la longitud del intervalo\n",
      "    l = (b-a)/n_elem\n",
      "    \n",
      "    # Creamos primero el array vac\u00edo\n",
      "    matriz = Matrix(1, n_elem+1, zeros(1,n_elem+1))\n",
      "    \n",
      "    # Establecemos los valores en los extremos\n",
      "    # Nota: en Python el \u00faltimo elemento se indica\n",
      "    # con el \u00edndice '-1'\n",
      "    matriz[0] = a\n",
      "    matriz[-1] = b\n",
      "    \n",
      "    for i in range(1,n_elem):\n",
      "        matriz[i] = a+i*l\n",
      "    \n",
      "    integral = 0\n",
      "    \n",
      "    # Sumamos los valores de f(x) intermedios\n",
      "    for j in range(1,n_elem-1):\n",
      "        integral = integral + f.subs(x, matriz[i])\n",
      "\n",
      "    # Sumamos los valores de inicio y fin\n",
      "    integral = integral + (1/2)*(f.subs(x, matriz[0])+f.subs(x, matriz[-1]))\n",
      "    \n",
      "    integral = integral*l\n",
      "    return integral.evalf()\n",
      "    "
     ],
     "language": "python",
     "metadata": {},
     "outputs": [],
     "prompt_number": 188
    },
    {
     "cell_type": "code",
     "collapsed": false,
     "input": [
      "n_elem = 5\n",
      "matriz = Matrix(1, n_elem+1, zeros(1,n_elem+1))\n",
      "matriz[0] = 1\n",
      "matriz[-1] = 5\n",
      "for i in range(1,n_elem):\n",
      "        matriz[i] = i\n",
      "matriz"
     ],
     "language": "python",
     "metadata": {},
     "outputs": [
      {
       "latex": [
        "$$\\left[\\begin{matrix}1 & 1 & 2 & 3 & 4 & 5\\end{matrix}\\right]$$"
       ],
       "metadata": {},
       "output_type": "pyout",
       "png": "[encoded data removed]",
       "prompt_number": 191,
       "text": [
        "[1  1  2  3  4  5]"
       ]
      }
     ],
     "prompt_number": 191
    },
    {
     "cell_type": "code",
     "collapsed": false,
     "input": [
      "f_elem(sin(x),0,1,10)"
     ],
     "language": "python",
     "metadata": {},
     "outputs": [
      {
       "latex": [
        "$$0.668735076942382$$"
       ],
       "metadata": {},
       "output_type": "pyout",
       "png": "[encoded data removed]",
       "prompt_number": 190,
       "text": [
        "0.668735076942382"
       ]
      }
     ],
     "prompt_number": 190
    },
    {
     "cell_type": "code",
     "collapsed": false,
     "input": [
      "f = sin(x)\n",
      "f\n"
     ],
     "language": "python",
     "metadata": {},
     "outputs": [
      {
       "latex": [
        "$$\\sin{\\left (x \\right )}$$"
       ],
       "metadata": {},
       "output_type": "pyout",
       "png": "[encoded data removed]",
       "prompt_number": 170,
       "text": [
        "sin(x)"
       ]
      }
     ],
     "prompt_number": 170
    },
    {
     "cell_type": "code",
     "collapsed": false,
     "input": [
      "n_elem"
     ],
     "language": "python",
     "metadata": {},
     "outputs": [
      {
       "latex": [
        "$$5$$"
       ],
       "metadata": {},
       "output_type": "pyout",
       "png": "[encoded data removed]",
       "prompt_number": 164,
       "text": [
        "5"
       ]
      }
     ],
     "prompt_number": 164
    },
    {
     "cell_type": "code",
     "collapsed": false,
     "input": [
      "range(1,n_elem-1)"
     ],
     "language": "python",
     "metadata": {},
     "outputs": [
      {
       "latex": [
        "$$\\begin{bmatrix}1, & 2, & 3\\end{bmatrix}$$"
       ],
       "metadata": {},
       "output_type": "pyout",
       "png": "[encoded data removed]",
       "prompt_number": 166,
       "text": [
        "[1, 2, 3]"
       ]
      }
     ],
     "prompt_number": 166
    },
    {
     "cell_type": "code",
     "collapsed": false,
     "input": [
      "(1-0)/5"
     ],
     "language": "python",
     "metadata": {},
     "outputs": [
      {
       "latex": [
        "$$0.2$$"
       ],
       "metadata": {},
       "output_type": "pyout",
       "png": "[encoded data removed]",
       "prompt_number": 167,
       "text": [
        "0.2"
       ]
      }
     ],
     "prompt_number": 167
    }
   ],
   "metadata": {}
  }
 ]
}