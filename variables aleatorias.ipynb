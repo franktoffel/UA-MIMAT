{
 "metadata": {
  "name": ""
 },
 "nbformat": 3,
 "nbformat_minor": 0,
 "worksheets": [
  {
   "cells": [
    {
     "cell_type": "raw",
     "metadata": {},
     "source": [
      "Master de Ing. de Materiales, Agua y Terreno. UA\n",
      "Francisco J. Navarro Brull"
     ]
    },
    {
     "cell_type": "heading",
     "level": 1,
     "metadata": {},
     "source": [
      "Variables aleatorias"
     ]
    },
    {
     "cell_type": "heading",
     "level": 2,
     "metadata": {},
     "source": [
      "Relaci\u00f3n de ejercicios"
     ]
    },
    {
     "cell_type": "heading",
     "level": 3,
     "metadata": {},
     "source": [
      "1. Dos gasolineras (A,B) est\u00e1n situadas en cierto lugar. Cada una tiene 6 surtidores. Se considera el experimento en el que para cada gasolinera se determina el n\u00famero de surtidores en uso en determinado momento del d\u00eda. Un resultado experimental especifica cu\u00e1ntos surtidores est\u00e1n en uso en la primera gasolinera y cu\u00e1ntos en la segunda.\n"
     ]
    },
    {
     "cell_type": "heading",
     "level": 3,
     "metadata": {},
     "source": [
      "Defina las variables aleatorias:\n",
      "\n",
      "X = \u201cN\u00famero total de surtidores en uso en las dos gasolineras\u201d\n",
      "Y  = \u201cLa diferencia entre el n\u00famero de surtidores en uso en la gasolinera 1 y la cantidad de surtidores en uso en la gasolinera 2\u201d.\n",
      "U = \u201cEl m\u00e1ximo de los n\u00fameros de surtidores en uso en las dos gasolineras\u201d.\n"
     ]
    },
    {
     "cell_type": "markdown",
     "metadata": {},
     "source": [
      "Cada gasolinera posee 7 posibilidades de uso en sus surtidores: $ \\{0, 1, 2, 3, 4, 5, 6\\} $.\n",
      "Por tanto, habr\u00e1 un total de $7^2=49$ casos posibles"
     ]
    },
    {
     "cell_type": "markdown",
     "metadata": {},
     "source": [
      "<table>\n",
      " <col>\n",
      " <tr>\n",
      "  <td>$X = A + B$</td>\n",
      "  <td>$0$</td>\n",
      "  <td>$1$</td>\n",
      "  <td>$2$</td>\n",
      "  <td>$3$</td>\n",
      "  <td>$4$</td>\n",
      "  <td>$5$</td>\n",
      "  <td>$6$</td>\n",
      "  <td>$7$</td>\n",
      "  <td>$8$</td>\n",
      "  <td>$9$</td>\n",
      "  <td>$10$</td>\n",
      "  <td>$11$</td>\n",
      "  <td>$12$</td>\n",
      " </tr>\n",
      " <tr>\n",
      "  <td>$P (X = x )$</td>\n",
      "  <td>$1/49$</td>\n",
      "  <td>$2/49$</td>\n",
      "  <td>$3/49$</td>\n",
      "  <td>$4/49$</td>\n",
      "  <td>$5/49$</td>\n",
      "  <td>$6/49$</td>\n",
      "  <td>$7/49$</td>\n",
      "  <td>$6/49$</td>\n",
      "  <td>$5/49$</td>\n",
      "  <td>$4/49$</td>\n",
      "  <td>$3/49$</td>\n",
      "  <td>$2/49$</td>\n",
      "  <td>$1/49$</td>\n",
      " </tr>\n",
      "</table>\n"
     ]
    },
    {
     "cell_type": "markdown",
     "metadata": {},
     "source": [
      "Siendo $Y(A)-Y(B) = Y(B)-Y(A)= |Y(A)-Y(B)|$ se tienen un total de $28$ casos"
     ]
    },
    {
     "cell_type": "markdown",
     "metadata": {},
     "source": [
      "<table>\n",
      " <col>\n",
      " <tr>\n",
      "  <td>$Y = A - B$</td>\n",
      "  <td>$0$</td>\n",
      "  <td>$1$</td>\n",
      "  <td>$2$</td>\n",
      "  <td>$3$</td>\n",
      "  <td>$4$</td>\n",
      "  <td>$5$</td>\n",
      "  <td>$6$</td>\n",
      " </tr>\n",
      " <tr>\n",
      "  <td>$P (Y = y )$</td>\n",
      "  <td>$7/28$</td>\n",
      "  <td>$6/28$</td>\n",
      "  <td>$5/28$</td>\n",
      "  <td>$4/28$</td>\n",
      "  <td>$3/28$</td>\n",
      "  <td>$2/28$</td>\n",
      "  <td>$1/28$</td>\n",
      " </tr>\n",
      "</table>\n",
      "\n"
     ]
    },
    {
     "cell_type": "markdown",
     "metadata": {},
     "source": [
      "<table>\n",
      " <col>\n",
      " <tr>\n",
      "  <td>$U = max(A,B)$</td>\n",
      "  <td>$1$</td>\n",
      "  <td>$2$</td>\n",
      "  <td>$3$</td>\n",
      "  <td>$4$</td>\n",
      "  <td>$5$</td>\n",
      "  <td>$6$</td>\n",
      " </tr>\n",
      " <tr>\n",
      "  <td>$P (Y = y )$</td>\n",
      "  <td>$1/21$</td>\n",
      "  <td>$2/21$</td>\n",
      "  <td>$3/21$</td>\n",
      "  <td>$4/21$</td>\n",
      "  <td>$5/21$</td>\n",
      "  <td>$6/21$</td>\n",
      " </tr>\n",
      "</table>\n"
     ]
    },
    {
     "cell_type": "heading",
     "level": 3,
     "metadata": {},
     "source": [
      "2. Si una nueva bater\u00eda tipo D para linterna tiene un voltaje que est\u00e1 fuera de ciertos l\u00edmites, esa bater\u00eda se considera que falla (F); si la bater\u00eda tiene un voltaje dentro de los l\u00edmites prescritos, es un \u00e9xito (E). Suponga que un experimento consiste en probar cada bater\u00eda cuando sale de la l\u00ednea de ensamble hasta que se observa un \u00e9xito. Aunque no ser\u00eda muy probable, un resultado posible ser\u00eda el que las 100 \u00f3 1000 primeras etc. sean F y la siguiente \u00e9xito. Es decir, para cualquier entero positivo n, es posible que haya que examinar n bater\u00edas antes del primer \u00e9xito. \n",
      "Calcule el espacio muestral. Se define la variable aleatoria \n",
      "X = \u201cEl n\u00famero de bater\u00edas examinadas antes de que finalice el experimento\u201d. Indique qu\u00e9 tipo de v. a. es y calcule su funci\u00f3n de probabilidad y de distribuci\u00f3n.\n"
     ]
    },
    {
     "cell_type": "markdown",
     "metadata": {},
     "source": [
      "Espacio muestral: $ \\Omega = \\{E, FE, FFE, FFFE, FFFFE, ... \\}$\n",
      "$$ X:\\Omega\\rightarrow \\mathbb{R} $$"
     ]
    },
    {
     "cell_type": "markdown",
     "metadata": {},
     "source": [
      "Dada la naturaleza del experimento, s\u00f3lo tiene dos posibles resultados \"\u00e9xito\" con probabilidad $p$ y \"fracaso\" con probabilidad $q = 1-p$. Es una variable aleatoria binomial ya que se realizan $n$ pruebas independientes manteniendo $p$ constante en todas ellas. "
     ]
    },
    {
     "cell_type": "markdown",
     "metadata": {},
     "source": [
      "$ X \\sim B(n,1/n)$"
     ]
    },
    {
     "cell_type": "markdown",
     "metadata": {},
     "source": [
      "Funci\u00f3n de probabilidad quedar\u00eda por tanto:"
     ]
    },
    {
     "cell_type": "markdown",
     "metadata": {},
     "source": [
      "$$ p (X = x) = \\binom{n}{x} (1/n)^x(1-1/n)^{n-x}  $$"
     ]
    },
    {
     "cell_type": "heading",
     "level": 3,
     "metadata": {},
     "source": [
      "3. Una viga puede fallar ya sea por esfuerzo de corte (S) o flexi\u00f3n (F). Si se eligen tres vigas al azar con fallos y se determina el tipo de fallo  por cada una. Sea X = \u201cEl n\u00famero de vigas entre las tres seleccionadas que fallaron por esfuerzo de corte\u201d. Enumere cada resultado del espacio muestral junto con el valor asociado de X. Calcule su funci\u00f3n de probabilidad y de distribuci\u00f3n."
     ]
    },
    {
     "cell_type": "markdown",
     "metadata": {},
     "source": [
      "N\u00famero de casos posibles $2^3=8$. $X$ puede tomar valores de ${0,1,2,3}$"
     ]
    },
    {
     "cell_type": "markdown",
     "metadata": {},
     "source": [
      "\n",
      "<table>\n",
      "  <tr>\n",
      "    <th></th>\n",
      "    <th colspan=\"8\">Casos posibles</th>\n",
      "  </tr>\n",
      "  <tr>\n",
      "    <td>Viga</td>\n",
      "    <td>1</td>\n",
      "    <td>2</td>\n",
      "    <td>3</td>\n",
      "    <td>4</td>\n",
      "    <td>5</td>\n",
      "    <td>6</td>\n",
      "    <td>7</td>\n",
      "    <td>8</td>\n",
      "\n",
      "  </tr>\n",
      "  <tr>\n",
      "    <td>1</td>\n",
      "    <td>S</td>\n",
      "    <td>S</td>\n",
      "    <td>S</td>\n",
      "    <td>F</td>\n",
      "    <td>F</td>\n",
      "    <td>F</td>\n",
      "    <td>F</td>\n",
      "    <td>S</td>\n",
      "  </tr>\n",
      "  <tr>\n",
      "    <td>2</td>\n",
      "    <td>S</td>\n",
      "    <td>S</td>\n",
      "    <td>F</td>\n",
      "    <td>F</td>\n",
      "    <td>F</td>\n",
      "    <td>S</td>\n",
      "    <td>S</td>\n",
      "    <td>F</td>\n",
      "  </tr>\n",
      "  <tr>\n",
      "    <td>3</td>\n",
      "    <td>S</td>\n",
      "    <td>F</td>\n",
      "    <td>F</td>\n",
      "    <td>F</td>\n",
      "    <td>S</td>\n",
      "    <td>S</td>\n",
      "    <td>F</td>\n",
      "    <td>S</td>\n",
      "  </tr>\n",
      "    <tr>\n",
      "    <td>x</td>\n",
      "    <td>3</td>\n",
      "    <td>2</td>\n",
      "    <td>1</td>\n",
      "    <td>0</td>\n",
      "    <td>1</td>\n",
      "    <td>2</td>\n",
      "    <td>1</td>\n",
      "    <td>1</td>\n",
      "  </tr>\n",
      "</table>\n"
     ]
    },
    {
     "cell_type": "markdown",
     "metadata": {},
     "source": [
      "Si se expresa la funci\u00f3n de probabilidad en una tabla:"
     ]
    },
    {
     "cell_type": "markdown",
     "metadata": {},
     "source": [
      "<table>\n",
      "  <tr>\n",
      "    <th>$x_i$</th>\n",
      "    <th>0</th>\n",
      "    <th>1</th>\n",
      "    <th>2</th>\n",
      "    <th>3</th>\n",
      "  </tr>\n",
      "  <tr>\n",
      "    <td>$p(X=x_i)$</td>\n",
      "    <td>1/8</td>\n",
      "    <td>4/8</td>\n",
      "    <td>2/8</td>\n",
      "    <td>1/8</td>\n",
      "  </tr>\n",
      "</table>"
     ]
    },
    {
     "cell_type": "markdown",
     "metadata": {},
     "source": [
      "Su funci\u00f3n de distribuci\u00f3n:"
     ]
    },
    {
     "cell_type": "markdown",
     "metadata": {},
     "source": [
      "$ F(x) = \\left\\{ \n",
      "  \\begin{array}{l l}\n",
      "    0 & \\quad \\text{si $x<0$}\\\\\n",
      "    1/8 & \\quad \\text{si $0 \\leq x<1$}\\\\\n",
      "    5/8 & \\quad \\text{si $1 \\leq x<2$}\\\\\n",
      "    7/8 & \\quad \\text{si $2 \\leq x<3$}\\\\\n",
      "    1 & \\quad \\text{si $x>3$ }\n",
      "  \\end{array} \\right. $"
     ]
    },
    {
     "cell_type": "heading",
     "level": 3,
     "metadata": {},
     "source": [
      "4. Un departamento de planificaci\u00f3n de un municipio requiere a un contratista para que remita  una, dos, tres, cuatro o cinco formas (dependiendo de la naturaleza del proyecto) a fin de solicitar un permiso de construcci\u00f3n. Sea Y = \u201cEl n\u00famero de formas requeridas del solicitante\u201d. Se sabe que la probabilidad de que se requieran y formas  es proporcional a y, es decir   para $p(y) = ky$ para $y=1,...,5$\n",
      "\n",
      "\n",
      "\n",
      "\n"
     ]
    },
    {
     "cell_type": "heading",
     "level": 3,
     "metadata": {},
     "source": [
      "a)\t\u00bfCu\u00e1l es el valor de $k$?"
     ]
    },
    {
     "cell_type": "markdown",
     "metadata": {},
     "source": [
      " "
     ]
    },
    {
     "cell_type": "markdown",
     "metadata": {},
     "source": [
      " "
     ]
    },
    {
     "cell_type": "heading",
     "level": 3,
     "metadata": {},
     "source": [
      "c)\t\u00bfCu\u00e1l es la probabilidad de que se requieran entre dos y cuatro formas (inclusive)?\n"
     ]
    },
    {
     "cell_type": "markdown",
     "metadata": {},
     "source": [
      " "
     ]
    },
    {
     "cell_type": "markdown",
     "metadata": {},
     "source": [
      " "
     ]
    },
    {
     "cell_type": "heading",
     "level": 3,
     "metadata": {},
     "source": [
      "b)\t\u00bfCu\u00e1l es la probabilidad de que al menos se requieran tres formas?"
     ]
    },
    {
     "cell_type": "markdown",
     "metadata": {},
     "source": [
      " "
     ]
    },
    {
     "cell_type": "markdown",
     "metadata": {},
     "source": [
      " "
     ]
    },
    {
     "cell_type": "heading",
     "level": 3,
     "metadata": {},
     "source": [
      "d)\t\u00bfPodr\u00eda ser $p(y)=y^2/50$  , para $y= 1,...5$ la funci\u00f3n de probabilidad de $Y$?"
     ]
    },
    {
     "cell_type": "markdown",
     "metadata": {},
     "source": [
      " "
     ]
    },
    {
     "cell_type": "markdown",
     "metadata": {},
     "source": [
      " "
     ]
    },
    {
     "cell_type": "code",
     "collapsed": false,
     "input": [],
     "language": "python",
     "metadata": {},
     "outputs": []
    }
   ],
   "metadata": {}
  }
 ]
}