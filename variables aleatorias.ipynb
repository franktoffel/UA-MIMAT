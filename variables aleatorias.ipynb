{
 "metadata": {
  "name": ""
 },
 "nbformat": 3,
 "nbformat_minor": 0,
 "worksheets": [
  {
   "cells": [
    {
     "cell_type": "raw",
     "metadata": {},
     "source": [
      "Master de Ing. de Materiales, Agua y Terreno. UA 2013\n",
      "Francisco J. Navarro Brull"
     ]
    },
    {
     "cell_type": "heading",
     "level": 1,
     "metadata": {},
     "source": [
      "Variables aleatorias"
     ]
    },
    {
     "cell_type": "heading",
     "level": 2,
     "metadata": {},
     "source": [
      "Relaci\u00f3n de ejercicios"
     ]
    },
    {
     "cell_type": "heading",
     "level": 3,
     "metadata": {},
     "source": [
      "1. Dos gasolineras (A,B) est\u00e1n situadas en cierto lugar. Cada una tiene 6 surtidores. Se considera el experimento en el que para cada gasolinera se determina el n\u00famero de surtidores en uso en determinado momento del d\u00eda. Un resultado experimental especifica cu\u00e1ntos surtidores est\u00e1n en uso en la primera gasolinera y cu\u00e1ntos en la segunda.\n"
     ]
    },
    {
     "cell_type": "heading",
     "level": 3,
     "metadata": {},
     "source": [
      "Defina las variables aleatorias:\n",
      "\n",
      "X = \u201cN\u00famero total de surtidores en uso en las dos gasolineras\u201d\n",
      "Y  = \u201cLa diferencia entre el n\u00famero de surtidores en uso en la gasolinera 1 y la cantidad de surtidores en uso en la gasolinera 2\u201d.\n",
      "U = \u201cEl m\u00e1ximo de los n\u00fameros de surtidores en uso en las dos gasolineras\u201d.\n"
     ]
    },
    {
     "cell_type": "markdown",
     "metadata": {},
     "source": [
      "Cada gasolinera posee 7 posibilidades de uso en sus surtidores: $ \\{0, 1, 2, 3, 4, 5, 6\\} $.\n",
      "Por tanto, habr\u00e1 un total de $7^2=49$ casos posibles"
     ]
    },
    {
     "cell_type": "markdown",
     "metadata": {},
     "source": [
      "<table>\n",
      " <col>\n",
      " <tr>\n",
      "  <td>$X = A + B$</td>\n",
      "  <td>$0$</td>\n",
      "  <td>$1$</td>\n",
      "  <td>$2$</td>\n",
      "  <td>$3$</td>\n",
      "  <td>$4$</td>\n",
      "  <td>$5$</td>\n",
      "  <td>$6$</td>\n",
      "  <td>$7$</td>\n",
      "  <td>$8$</td>\n",
      "  <td>$9$</td>\n",
      "  <td>$10$</td>\n",
      "  <td>$11$</td>\n",
      "  <td>$12$</td>\n",
      " </tr>\n",
      " <tr>\n",
      "  <td>$P (X = x )$</td>\n",
      "  <td>$1/49$</td>\n",
      "  <td>$2/49$</td>\n",
      "  <td>$3/49$</td>\n",
      "  <td>$4/49$</td>\n",
      "  <td>$5/49$</td>\n",
      "  <td>$6/49$</td>\n",
      "  <td>$7/49$</td>\n",
      "  <td>$6/49$</td>\n",
      "  <td>$5/49$</td>\n",
      "  <td>$4/49$</td>\n",
      "  <td>$3/49$</td>\n",
      "  <td>$2/49$</td>\n",
      "  <td>$1/49$</td>\n",
      " </tr>\n",
      "</table>\n"
     ]
    },
    {
     "cell_type": "markdown",
     "metadata": {},
     "source": [
      "Siendo $Y(A)-Y(B) = Y(B)-Y(A)= |Y(A)-Y(B)|$ se tienen un total de $28$ casos"
     ]
    },
    {
     "cell_type": "markdown",
     "metadata": {},
     "source": [
      "<table>\n",
      " <col>\n",
      " <tr>\n",
      "  <td>$Y = A - B$</td>\n",
      "  <td>$0$</td>\n",
      "  <td>$1$</td>\n",
      "  <td>$2$</td>\n",
      "  <td>$3$</td>\n",
      "  <td>$4$</td>\n",
      "  <td>$5$</td>\n",
      "  <td>$6$</td>\n",
      " </tr>\n",
      " <tr>\n",
      "  <td>$P (Y = y )$</td>\n",
      "  <td>$7/28$</td>\n",
      "  <td>$6/28$</td>\n",
      "  <td>$5/28$</td>\n",
      "  <td>$4/28$</td>\n",
      "  <td>$3/28$</td>\n",
      "  <td>$2/28$</td>\n",
      "  <td>$1/28$</td>\n",
      " </tr>\n",
      "</table>\n",
      "\n"
     ]
    },
    {
     "cell_type": "markdown",
     "metadata": {},
     "source": [
      "<table>\n",
      " <col>\n",
      " <tr>\n",
      "  <td>$U = max(A,B)$</td>\n",
      "  <td>$1$</td>\n",
      "  <td>$2$</td>\n",
      "  <td>$3$</td>\n",
      "  <td>$4$</td>\n",
      "  <td>$5$</td>\n",
      "  <td>$6$</td>\n",
      " </tr>\n",
      " <tr>\n",
      "  <td>$P (Y = y )$</td>\n",
      "  <td>$1/21$</td>\n",
      "  <td>$2/21$</td>\n",
      "  <td>$3/21$</td>\n",
      "  <td>$4/21$</td>\n",
      "  <td>$5/21$</td>\n",
      "  <td>$6/21$</td>\n",
      " </tr>\n",
      "</table>\n"
     ]
    },
    {
     "cell_type": "heading",
     "level": 3,
     "metadata": {},
     "source": [
      "2. Si una nueva bater\u00eda tipo D para linterna tiene un voltaje que est\u00e1 fuera de ciertos l\u00edmites, esa bater\u00eda se considera que falla (F); si la bater\u00eda tiene un voltaje dentro de los l\u00edmites prescritos, es un \u00e9xito (E). Suponga que un experimento consiste en probar cada bater\u00eda cuando sale de la l\u00ednea de ensamble hasta que se observa un \u00e9xito. Aunque no ser\u00eda muy probable, un resultado posible ser\u00eda el que las 100 \u00f3 1000 primeras etc. sean F y la siguiente \u00e9xito. Es decir, para cualquier entero positivo n, es posible que haya que examinar n bater\u00edas antes del primer \u00e9xito. \n",
      "Calcule el espacio muestral. Se define la variable aleatoria \n",
      "X = \u201cEl n\u00famero de bater\u00edas examinadas antes de que finalice el experimento\u201d. Indique qu\u00e9 tipo de v. a. es y calcule su funci\u00f3n de probabilidad y de distribuci\u00f3n.\n"
     ]
    },
    {
     "cell_type": "markdown",
     "metadata": {},
     "source": [
      "Espacio muestral: $ \\Omega = \\{E, FE, FFE, FFFE, FFFFE, ... \\}$\n",
      "$$ X:\\Omega\\rightarrow \\mathbb{R} $$"
     ]
    },
    {
     "cell_type": "markdown",
     "metadata": {},
     "source": [
      "Dada la naturaleza del experimento, s\u00f3lo tiene dos posibles resultados \"\u00e9xito\" con probabilidad $p$ y \"fracaso\" con probabilidad $q = 1-p$. Es una variable aleatoria binomial ya que se realizan $n$ pruebas independientes manteniendo $p$ constante en todas ellas. "
     ]
    },
    {
     "cell_type": "markdown",
     "metadata": {},
     "source": [
      "$ X \\sim B(n,1/n)$"
     ]
    },
    {
     "cell_type": "markdown",
     "metadata": {},
     "source": [
      "Funci\u00f3n de probabilidad quedar\u00eda por tanto:"
     ]
    },
    {
     "cell_type": "markdown",
     "metadata": {},
     "source": [
      "$$ p (X = x) = \\binom{n}{x} (1/n)^x(1-1/n)^{n-x}  $$"
     ]
    },
    {
     "cell_type": "heading",
     "level": 3,
     "metadata": {},
     "source": [
      "3. Una viga puede fallar ya sea por esfuerzo de corte (S) o flexi\u00f3n (F). Si se eligen tres vigas al azar con fallos y se determina el tipo de fallo  por cada una. Sea X = \u201cEl n\u00famero de vigas entre las tres seleccionadas que fallaron por esfuerzo de corte\u201d. Enumere cada resultado del espacio muestral junto con el valor asociado de X. Calcule su funci\u00f3n de probabilidad y de distribuci\u00f3n."
     ]
    },
    {
     "cell_type": "markdown",
     "metadata": {},
     "source": [
      "N\u00famero de casos posibles $2^3=8$. $X$ puede tomar valores de ${0,1,2,3}$"
     ]
    },
    {
     "cell_type": "markdown",
     "metadata": {},
     "source": [
      "\n",
      "<table>\n",
      "  <tr>\n",
      "    <th></th>\n",
      "    <th colspan=\"8\">Casos posibles</th>\n",
      "  </tr>\n",
      "  <tr>\n",
      "    <td>Viga</td>\n",
      "    <td>1</td>\n",
      "    <td>2</td>\n",
      "    <td>3</td>\n",
      "    <td>4</td>\n",
      "    <td>5</td>\n",
      "    <td>6</td>\n",
      "    <td>7</td>\n",
      "    <td>8</td>\n",
      "\n",
      "  </tr>\n",
      "  <tr>\n",
      "    <td>1</td>\n",
      "    <td>S</td>\n",
      "    <td>S</td>\n",
      "    <td>S</td>\n",
      "    <td>F</td>\n",
      "    <td>F</td>\n",
      "    <td>F</td>\n",
      "    <td>F</td>\n",
      "    <td>S</td>\n",
      "  </tr>\n",
      "  <tr>\n",
      "    <td>2</td>\n",
      "    <td>S</td>\n",
      "    <td>S</td>\n",
      "    <td>F</td>\n",
      "    <td>F</td>\n",
      "    <td>F</td>\n",
      "    <td>S</td>\n",
      "    <td>S</td>\n",
      "    <td>F</td>\n",
      "  </tr>\n",
      "  <tr>\n",
      "    <td>3</td>\n",
      "    <td>S</td>\n",
      "    <td>F</td>\n",
      "    <td>F</td>\n",
      "    <td>F</td>\n",
      "    <td>S</td>\n",
      "    <td>S</td>\n",
      "    <td>F</td>\n",
      "    <td>S</td>\n",
      "  </tr>\n",
      "    <tr>\n",
      "    <td>x</td>\n",
      "    <td>3</td>\n",
      "    <td>2</td>\n",
      "    <td>1</td>\n",
      "    <td>0</td>\n",
      "    <td>1</td>\n",
      "    <td>2</td>\n",
      "    <td>1</td>\n",
      "    <td>1</td>\n",
      "  </tr>\n",
      "</table>\n"
     ]
    },
    {
     "cell_type": "markdown",
     "metadata": {},
     "source": [
      "Si se expresa la funci\u00f3n de probabilidad en una tabla:"
     ]
    },
    {
     "cell_type": "markdown",
     "metadata": {},
     "source": [
      "<table>\n",
      "  <tr>\n",
      "    <th>$x_i$</th>\n",
      "    <th>0</th>\n",
      "    <th>1</th>\n",
      "    <th>2</th>\n",
      "    <th>3</th>\n",
      "  </tr>\n",
      "  <tr>\n",
      "    <td>$p(X=x_i)$</td>\n",
      "    <td>1/8</td>\n",
      "    <td>4/8</td>\n",
      "    <td>2/8</td>\n",
      "    <td>1/8</td>\n",
      "  </tr>\n",
      "</table>"
     ]
    },
    {
     "cell_type": "markdown",
     "metadata": {},
     "source": [
      "Su funci\u00f3n de distribuci\u00f3n:"
     ]
    },
    {
     "cell_type": "markdown",
     "metadata": {},
     "source": [
      "$$ F(x) = \\left\\{ \n",
      "  \\begin{array}{l l}\n",
      "    0 & \\quad \\text{si $x<0$}\\\\\n",
      "    1/8 & \\quad \\text{si $0 \\leq x<1$}\\\\\n",
      "    5/8 & \\quad \\text{si $1 \\leq x<2$}\\\\\n",
      "    7/8 & \\quad \\text{si $2 \\leq x<3$}\\\\\n",
      "    1 & \\quad \\text{si $x>3$ }\n",
      "  \\end{array} \\right. $$"
     ]
    },
    {
     "cell_type": "heading",
     "level": 3,
     "metadata": {},
     "source": [
      "4. Un departamento de planificaci\u00f3n de un municipio requiere a un contratista para que remita  una, dos, tres, cuatro o cinco formas (dependiendo de la naturaleza del proyecto) a fin de solicitar un permiso de construcci\u00f3n. Sea Y = \u201cEl n\u00famero de formas requeridas del solicitante\u201d. Se sabe que la probabilidad de que se requieran y formas  es proporcional a y, es decir   para $p(y) = ky$ para $y=1,...,5$\n",
      "\n",
      "\n",
      "\n",
      "\n"
     ]
    },
    {
     "cell_type": "heading",
     "level": 3,
     "metadata": {},
     "source": [
      "a)\t\u00bfCu\u00e1l es el valor de $k$?"
     ]
    },
    {
     "cell_type": "markdown",
     "metadata": {},
     "source": [
      "$\\sum_{1}^{5} p(y) = 1$  $;$ $1k+2k+3k+5k+5k = 1$, por lo tanto $k=1/15$"
     ]
    },
    {
     "cell_type": "markdown",
     "metadata": {},
     "source": [
      " "
     ]
    },
    {
     "cell_type": "heading",
     "level": 3,
     "metadata": {},
     "source": [
      "b)\t\u00bfCu\u00e1l es la probabilidad de que al menos se requieran tres formas?"
     ]
    },
    {
     "cell_type": "markdown",
     "metadata": {},
     "source": [
      "$P(y \\geq 3)= P(y=3)+P(y=4)+P(y=5) = 3\u00b7 1/15 + 4\u00b71/15+5\u00b71/15$\n",
      "$$ $$\n",
      "$$ P(y\\geq 3) = 4/5 $$"
     ]
    },
    {
     "cell_type": "heading",
     "level": 3,
     "metadata": {},
     "source": [
      "c)\t\u00bfCu\u00e1l es la probabilidad de que se requieran entre dos y cuatro formas (inclusive)?\n"
     ]
    },
    {
     "cell_type": "markdown",
     "metadata": {},
     "source": [
      "$P (2 \\leq y  \\leq 4) = P (y=2) + P(y=3) + P (y=4) = 2\u00b71/15 + 3\u00b7 1/15 + 4\u00b71/15$\n",
      "$$ $$\n",
      "$P (2 \\leq y  \\leq 4) = {3}/{5}$"
     ]
    },
    {
     "cell_type": "markdown",
     "metadata": {},
     "source": [
      " "
     ]
    },
    {
     "cell_type": "heading",
     "level": 3,
     "metadata": {},
     "source": [
      "d)\t\u00bfPodr\u00eda ser $p(y)=y^2/50$  , para $y= 1,...5$ la funci\u00f3n de probabilidad de $Y$?"
     ]
    },
    {
     "cell_type": "markdown",
     "metadata": {},
     "source": [
      " Para serlo deber\u00eda de cumplirse $\\sum_{1}^{5} p(y) = 1$."
     ]
    },
    {
     "cell_type": "markdown",
     "metadata": {},
     "source": [
      "No obstante, esto no se cumple por lo que no podr\u00eda serlo: $$1/5 +4/50+9/50+16/50+25/50 =  55/50 \\neq 1$$"
     ]
    },
    {
     "cell_type": "heading",
     "level": 3,
     "metadata": {},
     "source": [
      "5. Sea  X = \u201cEl n\u00famero de cilindros del motor de un autom\u00f3vil por ajustar en un determinado taller\u201d.\n",
      "El costo de un ajuste se relaciona con  $X$  mediante $g(X)=20+3X+0.5X^2$ . Puesto que $X$ es una variable aleatoria, $g(X)$ tambi\u00e9n lo es. Las funciones de probabilidad de $X$ y $Y = g(X)$ de  son:\n"
     ]
    },
    {
     "cell_type": "raw",
     "metadata": {},
     "source": [
      "x\t       4\t  6\t     8\n",
      "p(x)\t 0.5\t0.3\t   0.2\n",
      "\n",
      "y\t      40\t 56\t    76\n",
      "p(y)\t 0.5\t0.3\t   0.2"
     ]
    },
    {
     "cell_type": "heading",
     "level": 3,
     "metadata": {},
     "source": [
      "Calcule la esperanza y la varianza de X. Calcule la esperanza y la varianza de Y, de dos formas distintas. "
     ]
    },
    {
     "cell_type": "markdown",
     "metadata": {},
     "source": [
      "Esperanza:\n",
      "$$E(X) = \\sum_{i=1}^{n} (x_i p_i) = 4\u00b70.5+6\u00b70.3+8\u00b70.2=5.40$$"
     ]
    },
    {
     "cell_type": "markdown",
     "metadata": {},
     "source": [
      "Dos formas de calcula la esperanza de $Y$:\n",
      "   $$E(Y) = \\sum_{i=1}^{n} (y_i p_i) = 40\u00b70.5+56\u00b70.3+76\u00b70.2=52$$\n",
      "   $$E(g(x)) = \\sum_{i=1}^{n} (g(x_i)\u00b7P(x_i)) = 40\u00b70.5+56\u00b70.3+76\u00b70.2=52$$"
     ]
    },
    {
     "cell_type": "markdown",
     "metadata": {},
     "source": [
      "Varianza:"
     ]
    },
    {
     "cell_type": "markdown",
     "metadata": {},
     "source": [
      "$\\sigma^2(x) = \\sum_{i=1}^{n} (x_i^2 p_i - \\mu^2) = (4^2\u00b70.5+6^2\u00b70.3+8^2\u00b70.2) - 5.4^2=2.44$"
     ]
    },
    {
     "cell_type": "markdown",
     "metadata": {},
     "source": [
      "Dos formas de calcular la varianza de $Y$:\n",
      "$$\\sigma^2(y) = \\sum_{i=1}^{n} (y_j-E(y_i)^2\u00b7P(y_i)) = (40-52)^2\u00b70.5+(56-52)^2\u00b70.3+(76-52)^2\u00b70.2=192$$\n",
      "$$ $$\n",
      "$$ E(y^2) = \\sum_{i=1}^{n} y_i^2\u00b7p_i = 40^2\u00b70.5+56^2\u00b70.3+76^2\u00b70.2=2896$$\n",
      "$$\\sigma^2(y) = E(y^2)-(E(y))^2) = 2896 -52^2 = 192$$"
     ]
    },
    {
     "cell_type": "heading",
     "level": 3,
     "metadata": {},
     "source": [
      "6. Si el voltaje medido de un cierto circuito el\u00e9ctrico sigue una distribuci\u00f3n normal con media 120 V y desviaci\u00f3n t\u00edpica 2 V; si se toman tres medidas independientes del voltaje. \u00bfCual es la probabilidad de que las tres medidas est\u00e9n entre 116 V y 118 V?"
     ]
    },
    {
     "cell_type": "markdown",
     "metadata": {},
     "source": [
      "$Z= \\frac{118-120}{2}$ siendo $N(120,2)$"
     ]
    },
    {
     "cell_type": "markdown",
     "metadata": {},
     "source": [
      "$Z = -1$"
     ]
    },
    {
     "cell_type": "markdown",
     "metadata": {},
     "source": [
      "$$P(Z \\leq -1) = P(Z \\geq 1) = (\\text{ver tablas distribuci\u00f3n normal}) = 0.1587$$"
     ]
    },
    {
     "cell_type": "markdown",
     "metadata": {},
     "source": [
      "Probabilidad de que $x \\geq 116$"
     ]
    },
    {
     "cell_type": "markdown",
     "metadata": {},
     "source": [
      "$Z= \\frac{116-120}{2}=-2$\n",
      "$$P(Z \\geq -2) = P (Z \\leq 2)= (\\text{ver tablas distribuci\u00f3n normal}) = 0.0228$$\n"
     ]
    },
    {
     "cell_type": "markdown",
     "metadata": {},
     "source": [
      "La probabilidad de que una lecutra est\u00e9 entre 116V y 118V es:\n",
      "$$P(Z \\leq -1) - P(Z \\leq -2) =  0.1587 - 0.0228 = 0.1359 $$\n"
     ]
    },
    {
     "cell_type": "markdown",
     "metadata": {},
     "source": [
      "Para obtener la probabilidad de que las tres medidas se encuentren en este rango:\n",
      "$$P (116 \\leq x \\leq 118)_{1,2,3} = (0.1359)^3 = 2.51.10^{-3}$$"
     ]
    },
    {
     "cell_type": "heading",
     "level": 3,
     "metadata": {},
     "source": [
      "7. En un proceso en serie se fabrican ladrillos cuyo peso responde a una distribuci\u00f3n normal de media 1 kg y **desviaci\u00f3n t\u00edpica 0.01**. Se considera inservible cualquier ladrillo que pese menos de 0.99 kg y m\u00e1s de 1.01 kg*. \u00bfQu\u00e9 porcentaje de ladrillos se rechazar\u00e1n?"
     ]
    },
    {
     "cell_type": "markdown",
     "metadata": {},
     "source": [
      "$N(1,0.01)$;   $ \\mu = 1kg$;  $\\sigma = 0.01 kg$"
     ]
    },
    {
     "cell_type": "markdown",
     "metadata": {},
     "source": [
      "En primer lugar se obtiene la probabilidad de que un ladridllo pese menos de 0.9 kg y m\u00e1s de 1.01 kg"
     ]
    },
    {
     "cell_type": "markdown",
     "metadata": {},
     "source": [
      "$$p(x \\leq 0.99)+p(x \\geq 1.01)$$"
     ]
    },
    {
     "cell_type": "markdown",
     "metadata": {},
     "source": [
      "$$P( \\frac{x-1}{0.01} \\leq \\frac{0.99-1}{0.01} ) = p (z \\leq -1) = p(z \\geq 1) = 0.1587$$"
     ]
    },
    {
     "cell_type": "markdown",
     "metadata": {},
     "source": [
      "$$P( \\frac{x-1}{0.01} \\geq \\frac{1.1-1}{0.01} ) = p(z \\geq 1) = 1-0.8413 = 0.1587$$"
     ]
    },
    {
     "cell_type": "markdown",
     "metadata": {},
     "source": [
      "As\u00ed, $p(x \\leq 0.99)+p(x \\geq 1.01) = 0.1587 + 0.1587 = 0.3174$, lo que indica que el 31.74% de ladrillos se rechazan."
     ]
    },
    {
     "cell_type": "markdown",
     "metadata": {},
     "source": [
      "**(*) Nota: Dato del enunciado corregido**"
     ]
    },
    {
     "cell_type": "heading",
     "level": 3,
     "metadata": {},
     "source": [
      "8. Si los di\u00e1metros de los pernos de una caja grande siguen una distribuci\u00f3n normal de media 2 cm. y desviaci\u00f3n t\u00edpica 0.03 cm. Y si los di\u00e1metros de los agujeros de las tuercas de otra caja grande sigue una distribuci\u00f3n normal con medias 2.02 y desviaci\u00f3n t\u00edpica 0.04 cm. Un perno y una tuerca ajustar\u00e1n si el di\u00e1metro del agujero de la tuerca es mayor que el di\u00e1metro del perno y la diferencia entre estos dos di\u00e1metros no es mayor que 0.05 cm. Si se selecciona al azar un perno y una tuerca \u00bfCu\u00e1l es la probabilidad de que ajusten?"
     ]
    },
    {
     "cell_type": "markdown",
     "metadata": {},
     "source": [
      "$$A: Pernos$$\n",
      "$$ \\mu_A = 2 cm$$\n",
      "$$ \\sigma_A = 0.03 cm$$\n",
      "$$  $$\n",
      "$$B: Tuercas$$\n",
      "$$ \\mu_B = 2.02 cm$$\n",
      "$$ \\sigma_B = 0.04 cm$$\n",
      "$$  $$"
     ]
    },
    {
     "cell_type": "markdown",
     "metadata": {},
     "source": [
      "Creamos una nueva variable aleatoria que sera la diferencia de las anteriores. $$D = B- A$$"
     ]
    },
    {
     "cell_type": "markdown",
     "metadata": {},
     "source": [
      "Suponiendo que tanto $A$ como $B$ son variables aleatorias independientes:\n",
      "$$ \\mu = E(D) = E(B) - E(A) = 2.02-2=0.02 $$\n",
      "$$ \\sigma^2 = V(D) = V(B) - V(A) = (0.04)^2+(0.03)^2=0.0025 $$\n",
      "$$ \\sigma = 0.05 $$"
     ]
    },
    {
     "cell_type": "markdown",
     "metadata": {},
     "source": [
      "Por tanto se obtiene una $N(0.02,0.05)$\n"
     ]
    },
    {
     "cell_type": "markdown",
     "metadata": {},
     "source": [
      "Para calcular $P (D \\geq 0.05)$:"
     ]
    },
    {
     "cell_type": "markdown",
     "metadata": {},
     "source": [
      "$$P ( \\frac{x-0.02}{0.05} \\geq \\frac{0.05-0.02}{0.05} = P( z \\geq 0.6) = (\\text{tablas de distribuci\u00f3n normal}) = 0.2743 $$\n",
      "\n",
      "$$P ( 0 \\leq D \\leq 0.05) = 1 - 0.3445 -0.2743 = 0.3811$$\n",
      "\n",
      "Por tanto la probabilidad de que el perno y la tuerca encajen es del 38.11%"
     ]
    }
   ],
   "metadata": {}
  }
 ]
}