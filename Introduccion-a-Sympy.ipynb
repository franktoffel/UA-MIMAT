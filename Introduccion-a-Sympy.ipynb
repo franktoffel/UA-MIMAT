{
 "metadata": {
  "name": ""
 },
 "nbformat": 3,
 "nbformat_minor": 0,
 "worksheets": [
  {
   "cells": [
    {
     "cell_type": "markdown",
     "metadata": {},
     "source": [
      "# SymPy - C\u00e1lculo Simb\u00f3lico en Python\n",
      "\n",
      "Base del texto original por  J.R. Johansson (robert@riken.jp) http://dml.riken.jp/~rob/\n",
      "\n",
      "Traducido y modificado por F.J. Navarro para [CAChemE.org](http://cacheme.org) - ([@cachemeorg](https://twitter.com/CAChemEorg)).\n",
      "\n",
      "Otros Notebooks de aprendizaje en Python se pueden encontrar en la web de su autor:\n",
      "[http://jrjohansson.github.com](http://jrjohansson.github.com)."
     ]
    },
    {
     "cell_type": "code",
     "collapsed": false,
     "input": [
      "# En Python los comentarios (l\u00edneas de c\u00f3digo ignoradas) van con almohadillas\n",
      "# Las siguiente l\u00ednea har\u00e1 que las respuestas del c\u00f3digo se muestren en este mismo notebook\n",
      "\n",
      "%pylab inline"
     ],
     "language": "python",
     "metadata": {},
     "outputs": [
      {
       "output_type": "stream",
       "stream": "stdout",
       "text": [
        "Populating the interactive namespace from numpy and matplotlib\n"
       ]
      }
     ],
     "prompt_number": 1
    },
    {
     "cell_type": "markdown",
     "metadata": {},
     "source": [
      "## Introducci\u00f3n\n",
      "\n",
      "Con este documento vas a aprender a calcular derivadas, integrales, l\u00edmites... y resolver ecuaciones con Python de forma libre (\u00a1y gratuita!) tal y como trabajan Mathematica, Maple o Mupad.\n",
      "\n",
      "Hay dos sistemas de \u00e1lgebra computacional (CAS, computer algebraic system) a destacar para Python:\n",
      "\n",
      "* [SymPy](http://sympy.org/en/index.html) - Biblioteca o librer\u00eda de Python que se puede utilizar en cualquier programa de Python, o en una sesi\u00f3n de IPython y que proporciona poderosas funciones de CAS.\n",
      "* [Sage](http://www.sagemath.org/) - Sage es un entorno CAS completo y muy potente que tiene como objetivo proporcionar un sistema de c\u00f3digo abierto compitiendo con Mathematica y Maple. Sage no es una librer\u00eda de Python regular, sino m\u00e1s bien un entorno de CAS que utiliza Python como lenguaje de programaci\u00f3n.\n",
      "\n",
      "Sage es, en algunos aspectos, m\u00e1s poderoso que SymPy, pero ambos ofrecen una funcionalidad CAS muy completa. La ventaja de SymPy es que es una librer\u00eda m\u00e1s de Python y se puede usar directamente con c\u00f3digo o integrar en con el bloc de notas IPython.\n",
      "\n",
      "En esta lecci\u00f3n, por lo tanto, vamos a ver c\u00f3mo utilizar SymPy con Notebooks de IPython. Si est\u00e1s interesado en un entorno de c\u00f3digo abierto CAS te recomendamos leer m\u00e1s acerca de Sage.\n",
      "\n",
      "SymPy se puede usar directamente online sin registro alguno en [SymPy Live](http://live.sympy.org/) o mediante Notebooks con registro gratuito en [Cloud Sage](https://cloud.sagemath.com/). Existen otras alternativas gratutias online como [Wakari](https://www.wakari.io/) pero esta son las no comerciales. Si lo que quieres instal\u00e1rtelo en tu ordenador: [Python para ingenieros](http://www.cacheme.org/python-para-ingenieros/)\n",
      "\n",
      "Para empezar a utilizar SymPy en un programa de Python o Notebook de IPython, importamos `sympy` directamente:\n"
     ]
    },
    {
     "cell_type": "code",
     "collapsed": false,
     "input": [
      "# Importamos todo SymPy y accedemos a sus funciones de forma directa (de ah\u00ed el asterisco).\n",
      "\n",
      "from sympy import *"
     ],
     "language": "python",
     "metadata": {},
     "outputs": [],
     "prompt_number": 2
    },
    {
     "cell_type": "markdown",
     "metadata": {},
     "source": [
      "Para obtener las respuestas con estilo de ecuaciones a las que estamos acostumbrados ($\\LaTeX$):"
     ]
    },
    {
     "cell_type": "code",
     "collapsed": false,
     "input": [
      "# El siguiente comando es opcional pero har\u00e1 que la scoluci\u00f3n sea vea con Latex\n",
      "init_printing()"
     ],
     "language": "python",
     "metadata": {},
     "outputs": [],
     "prompt_number": 3
    },
    {
     "cell_type": "markdown",
     "metadata": {},
     "source": [
      "## Variables simb\u00f3licas\n",
      "\n",
      "En SymPy necesitamos crear s\u00edmbolos para las variables que queremos trabajar. Podemos crear un nuevo s\u00edmbolo con la instancia de clase `Symbol`:"
     ]
    },
    {
     "cell_type": "code",
     "collapsed": false,
     "input": [
      "x = Symbol('x')"
     ],
     "language": "python",
     "metadata": {},
     "outputs": [],
     "prompt_number": 4
    },
    {
     "cell_type": "code",
     "collapsed": false,
     "input": [
      "x"
     ],
     "language": "python",
     "metadata": {},
     "outputs": [
      {
       "latex": [
        "$$x$$"
       ],
       "metadata": {},
       "output_type": "pyout",
       "png": "[encoded data removed]",
       "prompt_number": 5,
       "text": [
        "x"
       ]
      }
     ],
     "prompt_number": 5
    },
    {
     "cell_type": "markdown",
     "metadata": {},
     "source": [
      "\u00bfQu\u00e9 ha pasado aqu\u00ed arriba? En primer lugar creamos el s\u00edmbolo con la variable 'x' y despu\u00e9s vimos su valor. Si te has fijado, a diferencia de c\u00f3digo normal en Python (o MATLAB), $x$ no devuelve ning\u00fan valor (n\u00famero, texto, verdadero o falso) simplemente devuelve esa inc\u00f3ginta en el que a priori no sabemos que contiene. "
     ]
    },
    {
     "cell_type": "markdown",
     "metadata": {},
     "source": [
      "As\u00ed, escribiendo una expresi\u00f3n con esta variable no habr\u00e1 evaluaci\u00f3n num\u00e9rica:"
     ]
    },
    {
     "cell_type": "code",
     "collapsed": false,
     "input": [
      "(pi + x)**2"
     ],
     "language": "python",
     "metadata": {},
     "outputs": [
      {
       "latex": [
        "$$\\left(x + \\pi\\right)^{2}$$"
       ],
       "metadata": {},
       "output_type": "pyout",
       "png": "[encoded data removed]",
       "prompt_number": 6,
       "text": [
        "       2\n",
        "(x + \u03c0) "
       ]
      }
     ],
     "prompt_number": 6
    },
    {
     "cell_type": "code",
     "collapsed": false,
     "input": [
      "# Se pueden definir simbolos de forma alternativa y m\u00e1s compacta as\u00ed\n",
      "a, b, c = symbols(\"a, b, c\")"
     ],
     "language": "python",
     "metadata": {},
     "outputs": [],
     "prompt_number": 7
    },
    {
     "cell_type": "code",
     "collapsed": false,
     "input": [
      "# Para ver que tipo de variable es, usamos la funci\u00f3n type()\n",
      "type(a)"
     ],
     "language": "python",
     "metadata": {},
     "outputs": [
      {
       "metadata": {},
       "output_type": "pyout",
       "prompt_number": 8,
       "text": [
        "sympy.core.symbol.Symbol"
       ]
      }
     ],
     "prompt_number": 8
    },
    {
     "cell_type": "markdown",
     "metadata": {},
     "source": [
      "Podemos a\u00f1adir suposiciones a los s\u00edmbolos cuando los creamos:"
     ]
    },
    {
     "cell_type": "code",
     "collapsed": false,
     "input": [
      "# Si quiero definir x como una variable real\n",
      "\n",
      "x = Symbol('x', real=True)"
     ],
     "language": "python",
     "metadata": {},
     "outputs": [],
     "prompt_number": 9
    },
    {
     "cell_type": "code",
     "collapsed": false,
     "input": [
      "# Para comprobar si x es imaginaria\n",
      "\n",
      "x.is_imaginary"
     ],
     "language": "python",
     "metadata": {},
     "outputs": [
      {
       "metadata": {},
       "output_type": "pyout",
       "prompt_number": 10,
       "text": [
        "False"
       ]
      }
     ],
     "prompt_number": 10
    },
    {
     "cell_type": "code",
     "collapsed": false,
     "input": [
      "x = Symbol('x', positive=True)"
     ],
     "language": "python",
     "metadata": {},
     "outputs": [],
     "prompt_number": 11
    },
    {
     "cell_type": "code",
     "collapsed": false,
     "input": [
      "x > 0"
     ],
     "language": "python",
     "metadata": {},
     "outputs": [
      {
       "metadata": {},
       "output_type": "pyout",
       "prompt_number": 12,
       "text": [
        "True"
       ]
      }
     ],
     "prompt_number": 12
    },
    {
     "cell_type": "markdown",
     "metadata": {},
     "source": [
      "### N\u00fameros complejos\n",
      "\n",
      "La unidad imaginaria en SymPy se denota con `I` (`i` may\u00fascula). "
     ]
    },
    {
     "cell_type": "code",
     "collapsed": false,
     "input": [
      "1+1*I"
     ],
     "language": "python",
     "metadata": {},
     "outputs": [
      {
       "latex": [
        "$$1 + i$$"
       ],
       "metadata": {},
       "output_type": "pyout",
       "png": "[encoded data removed]",
       "prompt_number": 13,
       "text": [
        "1 + \u2148"
       ]
      }
     ],
     "prompt_number": 13
    },
    {
     "cell_type": "code",
     "collapsed": false,
     "input": [
      "# En Python la exponencial se indica con ** (en MATLAB con ^)\n",
      "\n",
      "I**2"
     ],
     "language": "python",
     "metadata": {},
     "outputs": [
      {
       "latex": [
        "$$-1$$"
       ],
       "metadata": {},
       "output_type": "pyout",
       "png": "[encoded data removed]",
       "prompt_number": 14,
       "text": [
        "-1"
       ]
      }
     ],
     "prompt_number": 14
    },
    {
     "cell_type": "code",
     "collapsed": false,
     "input": [
      "(x * I + 1)**2"
     ],
     "language": "python",
     "metadata": {},
     "outputs": [
      {
       "latex": [
        "$$\\left(i x + 1\\right)^{2}$$"
       ],
       "metadata": {},
       "output_type": "pyout",
       "png": "[encoded data removed]",
       "prompt_number": 15,
       "text": [
        "         2\n",
        "(\u2148\u22c5x + 1) "
       ]
      }
     ],
     "prompt_number": 15
    },
    {
     "cell_type": "markdown",
     "metadata": {},
     "source": [
      "### N\u00fameros racionales\n",
      "\n",
      "Hay tres tipos num\u00e9ricos diferentes en SymPy: `Real` (real), `Rational` (racional), `Integer` (entero): "
     ]
    },
    {
     "cell_type": "code",
     "collapsed": false,
     "input": [
      "r1 = Rational(4,5)\n",
      "r2 = Rational(5,4)"
     ],
     "language": "python",
     "metadata": {},
     "outputs": [],
     "prompt_number": 16
    },
    {
     "cell_type": "code",
     "collapsed": false,
     "input": [
      "(r1, r2)"
     ],
     "language": "python",
     "metadata": {},
     "outputs": [
      {
       "latex": [
        "$$\\begin{pmatrix}\\frac{4}{5}, & \\frac{5}{4}\\end{pmatrix}$$"
       ],
       "metadata": {},
       "output_type": "pyout",
       "png": "[encoded data removed]",
       "prompt_number": 17,
       "text": [
        "(4/5, 5/4)"
       ]
      }
     ],
     "prompt_number": 17
    },
    {
     "cell_type": "code",
     "collapsed": false,
     "input": [
      "r1+r2 "
     ],
     "language": "python",
     "metadata": {},
     "outputs": [
      {
       "latex": [
        "$$\\frac{41}{20}$$"
       ],
       "metadata": {},
       "output_type": "pyout",
       "png": "[encoded data removed]",
       "prompt_number": 18,
       "text": [
        "41\n",
        "\u2500\u2500\n",
        "20"
       ]
      }
     ],
     "prompt_number": 18
    },
    {
     "cell_type": "code",
     "collapsed": false,
     "input": [
      "r1/r2"
     ],
     "language": "python",
     "metadata": {},
     "outputs": [
      {
       "latex": [
        "$$\\frac{16}{25}$$"
       ],
       "metadata": {},
       "output_type": "pyout",
       "png": "[encoded data removed]",
       "prompt_number": 19,
       "text": [
        "16\n",
        "\u2500\u2500\n",
        "25"
       ]
      }
     ],
     "prompt_number": 19
    },
    {
     "cell_type": "markdown",
     "metadata": {},
     "source": [
      "### Evaluaci\u00f3n num\u00e9rica\n",
      "\n",
      "SymPy utiliza una biblioteca de precisi\u00f3n arbitraria como backend num\u00e9rico, y tiene predefinidas expresiones SymPy para una serie de constantes matem\u00e1ticas, tales como: `pi`, `e`, `oo` para el infinito.\n",
      "\n",
      "Para evaluar una expresi\u00f3n num\u00e9ricamente podemos utilizar la funci\u00f3n `evalf` (la funci\u00f3n `N`). Es necesario especificar un argumento `n` que especifica el n\u00famero d\u00edgitos."
     ]
    },
    {
     "cell_type": "code",
     "collapsed": false,
     "input": [
      "# Eval\u00faa num\u00e9ricamente pi hasta 50 d\u00edgitos\n",
      "pi.evalf(n=50)"
     ],
     "language": "python",
     "metadata": {},
     "outputs": [
      {
       "latex": [
        "$$3.1415926535897932384626433832795028841971693993751$$"
       ],
       "metadata": {},
       "output_type": "pyout",
       "png": "[encoded data removed]",
       "prompt_number": 115,
       "text": [
        "3.1415926535897932384626433832795028841971693993751"
       ]
      }
     ],
     "prompt_number": 115
    },
    {
     "cell_type": "code",
     "collapsed": false,
     "input": [
      "# Creamos una expresi\u00f3n que llamaremos y\n",
      "y = (x + pi)**2"
     ],
     "language": "python",
     "metadata": {},
     "outputs": [],
     "prompt_number": 116
    },
    {
     "cell_type": "code",
     "collapsed": false,
     "input": [
      "N(y, 5) # Equivalente a evalf()"
     ],
     "language": "python",
     "metadata": {},
     "outputs": [
      {
       "latex": [
        "$$\\left(x + 3.1416\\right)^{2}$$"
       ],
       "metadata": {},
       "output_type": "pyout",
       "png": "[encoded data removed]",
       "prompt_number": 117,
       "text": [
        "            2\n",
        "(x + 3.1416) "
       ]
      }
     ],
     "prompt_number": 117
    },
    {
     "cell_type": "markdown",
     "metadata": {},
     "source": [
      "Cuando evaluamos num\u00e9ricamente expresiones algebraicas muchas veces queremos sustituir un s\u00edmbolo con un valor num\u00e9rico. Para ello, en SymPy hacemos uso de la funci\u00f3n `subs`:"
     ]
    },
    {
     "cell_type": "code",
     "collapsed": false,
     "input": [
      "# Sustituye el valor de la variable 'x' en 'y' por un n\u00famero\n",
      "y.subs(x, 1.5)"
     ],
     "language": "python",
     "metadata": {},
     "outputs": [
      {
       "latex": [
        "$$\\left(1.5 + \\pi\\right)^{2}$$"
       ],
       "metadata": {},
       "output_type": "pyout",
       "png": "[encoded data removed]",
       "prompt_number": 118,
       "text": [
        "         2\n",
        "(1.5 + \u03c0) "
       ]
      }
     ],
     "prompt_number": 118
    },
    {
     "cell_type": "code",
     "collapsed": false,
     "input": [
      "# Sustituye con \".subs\" y eval\u00faa la expresi\u00f3n con \"N()\"\n",
      "N(y.subs(x, 1.5),10)"
     ],
     "language": "python",
     "metadata": {},
     "outputs": [
      {
       "latex": [
        "$$21.54438236$$"
       ],
       "metadata": {},
       "output_type": "pyout",
       "png": "[encoded data removed]",
       "prompt_number": 119,
       "text": [
        "21.54438236"
       ]
      }
     ],
     "prompt_number": 119
    },
    {
     "cell_type": "markdown",
     "metadata": {},
     "source": [
      "La funci\u00f3n `subs`  tambi\u00e9n puede utilizarse para sustituir los s\u00edmbolos y expresiones:"
     ]
    },
    {
     "cell_type": "code",
     "collapsed": false,
     "input": [
      "y.subs(x, a+b+pi)"
     ],
     "language": "python",
     "metadata": {},
     "outputs": [
      {
       "latex": [
        "$$\\left(\\alpha + \\beta + 2 \\pi\\right)^{2}$$"
       ],
       "metadata": {},
       "output_type": "pyout",
       "png": "[encoded data removed]",
       "prompt_number": 120,
       "text": [
        "             2\n",
        "(\u03b1 + \u03b2 + 2\u22c5\u03c0) "
       ]
      }
     ],
     "prompt_number": 120
    },
    {
     "cell_type": "markdown",
     "metadata": {},
     "source": [
      "Si queremos representar estas expresiones podemos hacerlo con la funci\u00f3n `plot`. Para ello, cargamos las librer\u00edas necesarias mediante el siguiente c\u00f3digo:"
     ]
    },
    {
     "cell_type": "code",
     "collapsed": false,
     "input": [
      "from sympy.plotting import plot\n",
      "\n",
      "# Representa las figuras en l\u00ednea con el documento (no en una ventana emergente)\n",
      "%matplotlib inline"
     ],
     "language": "python",
     "metadata": {},
     "outputs": [],
     "prompt_number": 134
    },
    {
     "cell_type": "markdown",
     "metadata": {},
     "source": [
      "Representamos $f(x) = x^2$ $\\forall x \\in [-5,5]$"
     ]
    },
    {
     "cell_type": "code",
     "collapsed": false,
     "input": [
      "plot(x**2, (x, -5, 5))"
     ],
     "language": "python",
     "metadata": {},
     "outputs": [
      {
       "metadata": {},
       "output_type": "display_data",
       "png": "[encoded data removed]",
       "text": [
        "<matplotlib.figure.Figure at 0xc8276a0>"
       ]
      },
      {
       "metadata": {},
       "output_type": "pyout",
       "prompt_number": 135,
       "text": [
        "<sympy.plotting.plot.Plot at 0xc51aa90>"
       ]
      }
     ],
     "prompt_number": 135
    },
    {
     "cell_type": "markdown",
     "metadata": {},
     "source": [
      "Si creamos otra variable para trabajar con ella:"
     ]
    },
    {
     "cell_type": "code",
     "collapsed": false,
     "input": [
      "y = Symbol('y')"
     ],
     "language": "python",
     "metadata": {},
     "outputs": [],
     "prompt_number": 138
    },
    {
     "cell_type": "markdown",
     "metadata": {},
     "source": [
      "podemos adem\u00e1s representar funciones en 3D de forma an\u00e1loga."
     ]
    },
    {
     "cell_type": "code",
     "collapsed": false,
     "input": [
      "from sympy.plotting import plot3d\n",
      "\n",
      "plot3d(x*y, (x, -5, 5), (y, -5, 5))"
     ],
     "language": "python",
     "metadata": {},
     "outputs": [
      {
       "metadata": {},
       "output_type": "display_data",
       "png": "[encoded data removed]",
       "text": [
        "<matplotlib.figure.Figure at 0xd071860>"
       ]
      },
      {
       "metadata": {},
       "output_type": "pyout",
       "prompt_number": 139,
       "text": [
        "<sympy.plotting.plot.Plot at 0xd071940>"
       ]
      }
     ],
     "prompt_number": 139
    },
    {
     "cell_type": "markdown",
     "metadata": {},
     "source": [
      "Tambi\u00e9n podemos combinar la evoluci\u00f3n num\u00e9rica de las expresiones con los arrays NumPy:"
     ]
    },
    {
     "cell_type": "code",
     "collapsed": false,
     "input": [
      "# Importamos numpy\n",
      "import numpy"
     ],
     "language": "python",
     "metadata": {},
     "outputs": [],
     "prompt_number": 26
    },
    {
     "cell_type": "code",
     "collapsed": false,
     "input": [
      "# Creamos un vector de \n",
      "x_vec = numpy.arange(0, 10, 0.1)\n",
      "x_vec"
     ],
     "language": "python",
     "metadata": {},
     "outputs": [
      {
       "metadata": {},
       "output_type": "pyout",
       "prompt_number": 27,
       "text": [
        "array([ 0. ,  0.1,  0.2,  0.3,  0.4,  0.5,  0.6,  0.7,  0.8,  0.9,  1. ,\n",
        "        1.1,  1.2,  1.3,  1.4,  1.5,  1.6,  1.7,  1.8,  1.9,  2. ,  2.1,\n",
        "        2.2,  2.3,  2.4,  2.5,  2.6,  2.7,  2.8,  2.9,  3. ,  3.1,  3.2,\n",
        "        3.3,  3.4,  3.5,  3.6,  3.7,  3.8,  3.9,  4. ,  4.1,  4.2,  4.3,\n",
        "        4.4,  4.5,  4.6,  4.7,  4.8,  4.9,  5. ,  5.1,  5.2,  5.3,  5.4,\n",
        "        5.5,  5.6,  5.7,  5.8,  5.9,  6. ,  6.1,  6.2,  6.3,  6.4,  6.5,\n",
        "        6.6,  6.7,  6.8,  6.9,  7. ,  7.1,  7.2,  7.3,  7.4,  7.5,  7.6,\n",
        "        7.7,  7.8,  7.9,  8. ,  8.1,  8.2,  8.3,  8.4,  8.5,  8.6,  8.7,\n",
        "        8.8,  8.9,  9. ,  9.1,  9.2,  9.3,  9.4,  9.5,  9.6,  9.7,  9.8,\n",
        "        9.9])"
       ]
      }
     ],
     "prompt_number": 27
    },
    {
     "cell_type": "code",
     "collapsed": false,
     "input": [
      "y_vec = numpy.array([N(((x + pi)**2).subs(x, xx)) for xx in x_vec])"
     ],
     "language": "python",
     "metadata": {},
     "outputs": [],
     "prompt_number": 28
    },
    {
     "cell_type": "code",
     "collapsed": false,
     "input": [
      "fig, ax = subplots()\n",
      "ax.plot(x_vec, y_vec);"
     ],
     "language": "python",
     "metadata": {},
     "outputs": [
      {
       "metadata": {},
       "output_type": "display_data",
       "png": "[encoded data removed]",
       "text": [
        "<matplotlib.figure.Figure at 0xb089128>"
       ]
      }
     ],
     "prompt_number": 29
    },
    {
     "cell_type": "markdown",
     "metadata": {},
     "source": [
      "Sin embargo, este tipo de evoluci\u00f3n num\u00e9rica puede ser muy lenta, y hay una manera mucho m\u00e1s eficiente de hacerlo. La funci\u00f3n `lambdify` para \"compilar\" una expresi\u00f3n Sympy a una funci\u00f3n es mucho m\u00e1s eficiente para evaluar num\u00e9ricamente una expresi\u00f3n:"
     ]
    },
    {
     "cell_type": "code",
     "collapsed": false,
     "input": [
      "# Creamos la funci\u00f3n y(x) con lambify\n",
      "# El primer argumento es una lista de variables \"[]\" siendo f una funci\u00f3n de, en este caso, s\u00f3lo x -> f (x)\n",
      "f = lambdify([x], (x + pi)**2, 'numpy')  #"
     ],
     "language": "python",
     "metadata": {},
     "outputs": [],
     "prompt_number": 30
    },
    {
     "cell_type": "code",
     "collapsed": false,
     "input": [
      "# Ahora podemos pasar directamente 'y' a una array numpy y f(x) se eval\u00faa de manera eficiente\n",
      "y_vec = f(x_vec)  "
     ],
     "language": "python",
     "metadata": {},
     "outputs": [],
     "prompt_number": 31
    },
    {
     "cell_type": "markdown",
     "metadata": {},
     "source": [
      "El aumento de velocidad al utilizar las funciones de \"lambdify\" en lugar de la evaluaci\u00f3n num\u00e9rica directa puede ser significativa, \u00a1a menudo de varios \u00f3rdenes de magnitud!. Incluso en este sencillo ejemplo que acabamos de ver:"
     ]
    },
    {
     "cell_type": "code",
     "collapsed": false,
     "input": [
      "%%timeit \n",
      "\n",
      "# 'timeit' calcula el tiempo medio ejecuci\u00f3n de un c\u00f3digo tras varias iteraciones.\n",
      "# NOTA: El c\u00f3digo escrito despu\u00e9s de 'timeit' se ejecutar\u00e1 varias veces.\n",
      "\n",
      "y_vec = numpy.array([N(((x + pi)**2).subs(x, xx)) for xx in x_vec])"
     ],
     "language": "python",
     "metadata": {},
     "outputs": [
      {
       "output_type": "stream",
       "stream": "stdout",
       "text": [
        "10 loops, best of 3: 37.1 ms per loop\n"
       ]
      }
     ],
     "prompt_number": 32
    },
    {
     "cell_type": "code",
     "collapsed": false,
     "input": [
      "%%timeit\n",
      "\n",
      "y_vec = f(x_vec)"
     ],
     "language": "python",
     "metadata": {},
     "outputs": [
      {
       "output_type": "stream",
       "stream": "stdout",
       "text": [
        "100000 loops, best of 3: 5.66 \u00b5s per loop\n"
       ]
      }
     ],
     "prompt_number": 33
    },
    {
     "cell_type": "markdown",
     "metadata": {},
     "source": [
      "*Nota*: Si es la primera vez que has visto NumPy no te preocupes si te has perdido un poco. Dale un vistazo a este [Curso intensivo de Python](http://nbviewer.ipython.org/urls/bitbucket.org/franktoffel/cfd-python-class-es/raw/master/lecciones/00%20-%20Introduccion%20rapida%20a%20Python.ipynb) y qued\u00e1te ahora con que existe la opci\u00f3n de evaluar con un vector de valores una funci\u00f3n de SymPy."
     ]
    },
    {
     "cell_type": "markdown",
     "metadata": {},
     "source": [
      "## Manipulaciones algebraicas.\n",
      "\n",
      "Uno de los principales usos de un CAS es llevar a cabo manipulaciones algebraicas de las expresiones. Por ejemplo, podr\u00edamos querer expandir un producto, factorizar una expresi\u00f3n, o simplemente una trabajar con ella. Las funciones para realizar estas operaciones b\u00e1sicas en SymPy se muestran en esta secci\u00f3n."
     ]
    },
    {
     "cell_type": "markdown",
     "metadata": {},
     "source": [
      "### Expand y factor (Expandir y factorizar)\n",
      "\n",
      "Los primeros pasos en la manipulaci\u00f3n algebraica"
     ]
    },
    {
     "cell_type": "code",
     "collapsed": false,
     "input": [
      "# Escribimos la expresi\u00f3n con la queremos trabajar\n",
      "\n",
      "(x+1)*(x+2)*(x+3)"
     ],
     "language": "python",
     "metadata": {},
     "outputs": [
      {
       "latex": [
        "$$\\left(x + 1\\right) \\left(x + 2\\right) \\left(x + 3\\right)$$"
       ],
       "metadata": {},
       "output_type": "pyout",
       "png": "[encoded data removed]",
       "prompt_number": 34,
       "text": [
        "(x + 1)\u22c5(x + 2)\u22c5(x + 3)"
       ]
      }
     ],
     "prompt_number": 34
    },
    {
     "cell_type": "code",
     "collapsed": false,
     "input": [
      "expand((x+1)*(x+2)*(x+3))"
     ],
     "language": "python",
     "metadata": {},
     "outputs": [
      {
       "latex": [
        "$$x^{3} + 6 x^{2} + 11 x + 6$$"
       ],
       "metadata": {},
       "output_type": "pyout",
       "png": "[encoded data removed]",
       "prompt_number": 35,
       "text": [
        " 3      2           \n",
        "x  + 6\u22c5x  + 11\u22c5x + 6"
       ]
      }
     ],
     "prompt_number": 35
    },
    {
     "cell_type": "markdown",
     "metadata": {},
     "source": [
      "La funci\u00f3n `expand` (expandir) puede adem\u00e1s tomar una serie de argumentos (o palabras clave)  para especificar qu\u00e9 tipo de expansiones queremos que se realicen. Por ejemplo, para ampliar las expresiones trigonom\u00e9tricas, utilizaremos el `trig = True` como argumento y palabra clave:"
     ]
    },
    {
     "cell_type": "code",
     "collapsed": false,
     "input": [
      "sin(a+b)"
     ],
     "language": "python",
     "metadata": {},
     "outputs": [
      {
       "latex": [
        "$$\\sin{\\left (a + b \\right )}$$"
       ],
       "metadata": {},
       "output_type": "pyout",
       "png": "[encoded data removed]",
       "prompt_number": 36,
       "text": [
        "sin(a + b)"
       ]
      }
     ],
     "prompt_number": 36
    },
    {
     "cell_type": "code",
     "collapsed": false,
     "input": [
      "expand(sin(a+b), trig=True)"
     ],
     "language": "python",
     "metadata": {},
     "outputs": [
      {
       "latex": [
        "$$\\sin{\\left (a \\right )} \\cos{\\left (b \\right )} + \\sin{\\left (b \\right )} \\cos{\\left (a \\right )}$$"
       ],
       "metadata": {},
       "output_type": "pyout",
       "png": "[encoded data removed]",
       "prompt_number": 37,
       "text": [
        "sin(a)\u22c5cos(b) + sin(b)\u22c5cos(a)"
       ]
      }
     ],
     "prompt_number": 37
    },
    {
     "cell_type": "markdown",
     "metadata": {},
     "source": [
      "Escribe `help(expand)` para una explicaci\u00f3n detallada de los diversos tipos de expansiones que la funci\u00f3n `expand` puede realizar. "
     ]
    },
    {
     "cell_type": "markdown",
     "metadata": {},
     "source": [
      "Lo opuesto a la expansi\u00f3n del producto es, por supuesto, la factorizaci\u00f3n. Para ello en SymPy utilizaremos la funci\u00f3n `factor`:"
     ]
    },
    {
     "cell_type": "code",
     "collapsed": false,
     "input": [
      "# Esta es la funci\u00f3n que queremos factorizar\n",
      "(x**3 + 6 * x**2 + 11*x + 6)"
     ],
     "language": "python",
     "metadata": {},
     "outputs": [
      {
       "latex": [
        "$$x^{3} + 6 x^{2} + 11 x + 6$$"
       ],
       "metadata": {},
       "output_type": "pyout",
       "png": "[encoded data removed]",
       "prompt_number": 38,
       "text": [
        " 3      2           \n",
        "x  + 6\u22c5x  + 11\u22c5x + 6"
       ]
      }
     ],
     "prompt_number": 38
    },
    {
     "cell_type": "code",
     "collapsed": false,
     "input": [
      "factor(x**3 + 6 * x**2 + 11*x + 6)"
     ],
     "language": "python",
     "metadata": {},
     "outputs": [
      {
       "latex": [
        "$$\\left(x + 1\\right) \\left(x + 2\\right) \\left(x + 3\\right)$$"
       ],
       "metadata": {},
       "output_type": "pyout",
       "png": "[encoded data removed]",
       "prompt_number": 39,
       "text": [
        "(x + 1)\u22c5(x + 2)\u22c5(x + 3)"
       ]
      }
     ],
     "prompt_number": 39
    },
    {
     "cell_type": "markdown",
     "metadata": {},
     "source": [
      "### Simplify (Simplificar)\n",
      "\n",
      "La funci\u00f3n `simplify` intenta simplificar una expresi\u00f3n en una expresi\u00f3n simple, utilizando diversas t\u00e9cnicas. En realidad, el termino \"simplificar\" es bastante arbitrario y subjetivo, por ello es mejor utilizar alternativas m\u00e1s espec\u00edficas para simplificar funciones como: `trigsimp`, `powsimp`, `logcombine`, etc."
     ]
    },
    {
     "cell_type": "code",
     "collapsed": false,
     "input": [
      "# 'simplify()' reduce la expresi\u00f3n\n",
      "simplify((x+1)+(x+2)+(x+3))"
     ],
     "language": "python",
     "metadata": {},
     "outputs": [
      {
       "latex": [
        "$$3 x + 6$$"
       ],
       "metadata": {},
       "output_type": "pyout",
       "png": "[encoded data removed]",
       "prompt_number": 40,
       "text": [
        "3\u22c5x + 6"
       ]
      }
     ],
     "prompt_number": 40
    },
    {
     "cell_type": "code",
     "collapsed": false,
     "input": [
      "# 'simplify()' reduce expresiones a su identidad trigonom\u00e9trica\n",
      "simplify(sin(a)**2 + cos(a)**2)"
     ],
     "language": "python",
     "metadata": {},
     "outputs": [
      {
       "latex": [
        "$$1$$"
       ],
       "metadata": {},
       "output_type": "pyout",
       "png": "[encoded data removed]",
       "prompt_number": 41,
       "text": [
        "1"
       ]
      }
     ],
     "prompt_number": 41
    },
    {
     "cell_type": "code",
     "collapsed": false,
     "input": [
      "simplify(cos(x)/sin(x))"
     ],
     "language": "python",
     "metadata": {},
     "outputs": [
      {
       "latex": [
        "$$\\frac{1}{\\tan{\\left (x \\right )}}$$"
       ],
       "metadata": {},
       "output_type": "pyout",
       "png": "[encoded data removed]",
       "prompt_number": 42,
       "text": [
        "  1   \n",
        "\u2500\u2500\u2500\u2500\u2500\u2500\n",
        "tan(x)"
       ]
      }
     ],
     "prompt_number": 42
    },
    {
     "cell_type": "markdown",
     "metadata": {},
     "source": [
      "## apart and together (descomoner en fracciones simples y denominador com\u00fan)\n",
      "\n",
      "Para manipular expresiones simb\u00f3licas de las fracciones, se puede el usar las funciones `apart` y `together`:"
     ]
    },
    {
     "cell_type": "code",
     "collapsed": false,
     "input": [
      "f1 = 1/((a+1)*(a+2)) # escribimos la expresion y la llamamos 'f1'"
     ],
     "language": "python",
     "metadata": {},
     "outputs": [],
     "prompt_number": 43
    },
    {
     "cell_type": "code",
     "collapsed": false,
     "input": [
      "f1"
     ],
     "language": "python",
     "metadata": {},
     "outputs": [
      {
       "latex": [
        "$$\\frac{1}{\\left(a + 1\\right) \\left(a + 2\\right)}$$"
       ],
       "metadata": {},
       "output_type": "pyout",
       "png": "[encoded data removed]",
       "prompt_number": 44,
       "text": [
        "       1       \n",
        "\u2500\u2500\u2500\u2500\u2500\u2500\u2500\u2500\u2500\u2500\u2500\u2500\u2500\u2500\u2500\n",
        "(a + 1)\u22c5(a + 2)"
       ]
      }
     ],
     "prompt_number": 44
    },
    {
     "cell_type": "code",
     "collapsed": false,
     "input": [
      "apart(f1) # Desomponer en fracciones simples"
     ],
     "language": "python",
     "metadata": {},
     "outputs": [
      {
       "latex": [
        "$$- \\frac{1}{a + 2} + \\frac{1}{a + 1}$$"
       ],
       "metadata": {},
       "output_type": "pyout",
       "png": "[encoded data removed]",
       "prompt_number": 45,
       "text": [
        "    1       1  \n",
        "- \u2500\u2500\u2500\u2500\u2500 + \u2500\u2500\u2500\u2500\u2500\n",
        "  a + 2   a + 1"
       ]
      }
     ],
     "prompt_number": 45
    },
    {
     "cell_type": "code",
     "collapsed": false,
     "input": [
      "f2 = 1/(a+2) + 1/(a+3)"
     ],
     "language": "python",
     "metadata": {},
     "outputs": [],
     "prompt_number": 46
    },
    {
     "cell_type": "code",
     "collapsed": false,
     "input": [
      "f2"
     ],
     "language": "python",
     "metadata": {},
     "outputs": [
      {
       "latex": [
        "$$\\frac{1}{a + 3} + \\frac{1}{a + 2}$$"
       ],
       "metadata": {},
       "output_type": "pyout",
       "png": "[encoded data removed]",
       "prompt_number": 47,
       "text": [
        "  1       1  \n",
        "\u2500\u2500\u2500\u2500\u2500 + \u2500\u2500\u2500\u2500\u2500\n",
        "a + 3   a + 2"
       ]
      }
     ],
     "prompt_number": 47
    },
    {
     "cell_type": "code",
     "collapsed": false,
     "input": [
      "together(f2) # Denominador com\u00fan"
     ],
     "language": "python",
     "metadata": {},
     "outputs": [
      {
       "latex": [
        "$$\\frac{2 a + 5}{\\left(a + 2\\right) \\left(a + 3\\right)}$$"
       ],
       "metadata": {},
       "output_type": "pyout",
       "png": "[encoded data removed]",
       "prompt_number": 48,
       "text": [
        "    2\u22c5a + 5    \n",
        "\u2500\u2500\u2500\u2500\u2500\u2500\u2500\u2500\u2500\u2500\u2500\u2500\u2500\u2500\u2500\n",
        "(a + 2)\u22c5(a + 3)"
       ]
      }
     ],
     "prompt_number": 48
    },
    {
     "cell_type": "markdown",
     "metadata": {},
     "source": [
      "## C\u00e1lculo\n",
      "\n",
      "Adem\u00e1s de las manipulaciones algebraicas, el otro uso principal de CAS es hacer el c\u00e1lculo, como derivadas e integrales de expresiones algebraicas."
     ]
    },
    {
     "cell_type": "markdown",
     "metadata": {},
     "source": [
      "### Diferenciaci\u00f3n\n",
      "\n",
      "La diferenciaci\u00f3n es generalmente simple y se utiliza la funci\u00f3n `diff`. El primer argumento es la expresi\u00f3n de la derivada  y el segundo argumento es el s\u00edmbolo para el cual derivamos:"
     ]
    },
    {
     "cell_type": "code",
     "collapsed": false,
     "input": [
      "y"
     ],
     "language": "python",
     "metadata": {},
     "outputs": [
      {
       "latex": [
        "$$\\left(x + \\pi\\right)^{2}$$"
       ],
       "metadata": {},
       "output_type": "pyout",
       "png": "[encoded data removed]",
       "prompt_number": 49,
       "text": [
        "       2\n",
        "(x + \u03c0) "
       ]
      }
     ],
     "prompt_number": 49
    },
    {
     "cell_type": "code",
     "collapsed": false,
     "input": [
      "diff(y**2, x)"
     ],
     "language": "python",
     "metadata": {},
     "outputs": [
      {
       "latex": [
        "$$4 \\left(x + \\pi\\right)^{3}$$"
       ],
       "metadata": {},
       "output_type": "pyout",
       "png": "[encoded data removed]",
       "prompt_number": 50,
       "text": [
        "         3\n",
        "4\u22c5(x + \u03c0) "
       ]
      }
     ],
     "prompt_number": 50
    },
    {
     "cell_type": "markdown",
     "metadata": {},
     "source": [
      "Para derivadas de orden superior que podemos hacer:"
     ]
    },
    {
     "cell_type": "code",
     "collapsed": false,
     "input": [
      "diff(y**2, x, x)"
     ],
     "language": "python",
     "metadata": {},
     "outputs": [
      {
       "latex": [
        "$$12 \\left(x + \\pi\\right)^{2}$$"
       ],
       "metadata": {},
       "output_type": "pyout",
       "png": "[encoded data removed]",
       "prompt_number": 51,
       "text": [
        "          2\n",
        "12\u22c5(x + \u03c0) "
       ]
      }
     ],
     "prompt_number": 51
    },
    {
     "cell_type": "code",
     "collapsed": false,
     "input": [
      "diff(y**2, x, 2) # same as above"
     ],
     "language": "python",
     "metadata": {},
     "outputs": [
      {
       "latex": [
        "$$12 \\left(x + \\pi\\right)^{2}$$"
       ],
       "metadata": {},
       "output_type": "pyout",
       "png": "[encoded data removed]",
       "prompt_number": 52,
       "text": [
        "          2\n",
        "12\u22c5(x + \u03c0) "
       ]
      }
     ],
     "prompt_number": 52
    },
    {
     "cell_type": "markdown",
     "metadata": {},
     "source": [
      "Para calcular la derivada de una expresi\u00f3n con varias variables:"
     ]
    },
    {
     "cell_type": "code",
     "collapsed": false,
     "input": [
      "x, y, z = symbols(\"x,y,z\")"
     ],
     "language": "python",
     "metadata": {},
     "outputs": [],
     "prompt_number": 53
    },
    {
     "cell_type": "code",
     "collapsed": false,
     "input": [
      "f = sin(x*y) + cos(y*z)"
     ],
     "language": "python",
     "metadata": {},
     "outputs": [],
     "prompt_number": 54
    },
    {
     "cell_type": "markdown",
     "metadata": {},
     "source": [
      "$\\frac{d^3f}{dxdy^2}$"
     ]
    },
    {
     "cell_type": "code",
     "collapsed": false,
     "input": [
      "diff(f, x, 1, y, 2)"
     ],
     "language": "python",
     "metadata": {},
     "outputs": [
      {
       "latex": [
        "$$- x \\left(x y \\cos{\\left (x y \\right )} + 2 \\sin{\\left (x y \\right )}\\right)$$"
       ],
       "metadata": {},
       "output_type": "pyout",
       "png": "[encoded data removed]",
       "prompt_number": 55,
       "text": [
        "-x\u22c5(x\u22c5y\u22c5cos(x\u22c5y) + 2\u22c5sin(x\u22c5y))"
       ]
      }
     ],
     "prompt_number": 55
    },
    {
     "cell_type": "markdown",
     "metadata": {},
     "source": [
      "### Integrales\n",
      "\n",
      "La integraci\u00f3n se realiza de una manera similar:"
     ]
    },
    {
     "cell_type": "code",
     "collapsed": false,
     "input": [
      "f"
     ],
     "language": "python",
     "metadata": {},
     "outputs": [
      {
       "latex": [
        "$$\\sin{\\left (x y \\right )} + \\cos{\\left (y z \\right )}$$"
       ],
       "metadata": {},
       "output_type": "pyout",
       "png": "[encoded data removed]",
       "prompt_number": 56,
       "text": [
        "sin(x\u22c5y) + cos(y\u22c5z)"
       ]
      }
     ],
     "prompt_number": 56
    },
    {
     "cell_type": "code",
     "collapsed": false,
     "input": [
      "integrate(f, x)"
     ],
     "language": "python",
     "metadata": {},
     "outputs": [
      {
       "latex": [
        "$$x \\cos{\\left (y z \\right )} + \\begin{cases} 0 & \\text{for}\\: y = 0 \\\\- \\frac{1}{y} \\cos{\\left (x y \\right )} & \\text{otherwise} \\end{cases}$$"
       ],
       "metadata": {},
       "output_type": "pyout",
       "png": "[encoded data removed]",
       "prompt_number": 57,
       "text": [
        "             \u239b\u23a7    0       for y = 0\u239e\n",
        "             \u239c\u23aa                     \u239f\n",
        "x\u22c5cos(y\u22c5z) + \u239c\u23a8-cos(x\u22c5y)            \u239f\n",
        "             \u239c\u23aa\u2500\u2500\u2500\u2500\u2500\u2500\u2500\u2500\u2500\u2500  otherwise\u239f\n",
        "             \u239d\u23a9    y                \u23a0"
       ]
      }
     ],
     "prompt_number": 57
    },
    {
     "cell_type": "markdown",
     "metadata": {},
     "source": [
      "Al proporcionar l\u00edmites para la variable de integraci\u00f3n podemos evaluar integrales definidas:"
     ]
    },
    {
     "cell_type": "code",
     "collapsed": false,
     "input": [
      "integrate(f, (x, -1, 1))"
     ],
     "language": "python",
     "metadata": {},
     "outputs": [
      {
       "latex": [
        "$$2 \\cos{\\left (y z \\right )}$$"
       ],
       "metadata": {},
       "output_type": "pyout",
       "png": "[encoded data removed]",
       "prompt_number": 58,
       "text": [
        "2\u22c5cos(y\u22c5z)"
       ]
      }
     ],
     "prompt_number": 58
    },
    {
     "cell_type": "markdown",
     "metadata": {},
     "source": [
      "y tambi\u00e9n integrales impropias"
     ]
    },
    {
     "cell_type": "code",
     "collapsed": false,
     "input": [
      "integrate(exp(-x**2), (x, -oo, oo))"
     ],
     "language": "python",
     "metadata": {},
     "outputs": [
      {
       "latex": [
        "$$\\sqrt{\\pi}$$"
       ],
       "metadata": {},
       "output_type": "pyout",
       "png": "[encoded data removed]",
       "prompt_number": 59,
       "text": [
        "  ___\n",
        "\u2572\u2571 \u03c0 "
       ]
      }
     ],
     "prompt_number": 59
    },
    {
     "cell_type": "markdown",
     "metadata": {},
     "source": [
      "Recuerde, `oo` es la notaci\u00f3n SymPy para infinito."
     ]
    },
    {
     "cell_type": "markdown",
     "metadata": {},
     "source": [
      "### Sumpatorios y productorios\n",
      "Podemos evaluar sumas y productos mediante las funciones: 'Sum'"
     ]
    },
    {
     "cell_type": "code",
     "collapsed": false,
     "input": [
      "n = Symbol(\"n\")"
     ],
     "language": "python",
     "metadata": {},
     "outputs": [],
     "prompt_number": 60
    },
    {
     "cell_type": "code",
     "collapsed": false,
     "input": [
      "Sum(1/n**2, (n, 1, 10))"
     ],
     "language": "python",
     "metadata": {},
     "outputs": [
      {
       "latex": [
        "$$\\sum_{n=1}^{10} \\frac{1}{n^{2}}$$"
       ],
       "metadata": {},
       "output_type": "pyout",
       "png": "[encoded data removed]",
       "prompt_number": 61,
       "text": [
        "  10    \n",
        " ____   \n",
        " \u2572      \n",
        "  \u2572   1 \n",
        "   \u2572  \u2500\u2500\n",
        "   \u2571   2\n",
        "  \u2571   n \n",
        " \u2571      \n",
        " \u203e\u203e\u203e\u203e   \n",
        "n = 1   "
       ]
      }
     ],
     "prompt_number": 61
    },
    {
     "cell_type": "code",
     "collapsed": false,
     "input": [
      "Sum(1/n**2, (n,1, 10)).evalf()"
     ],
     "language": "python",
     "metadata": {},
     "outputs": [
      {
       "latex": [
        "$$1.54976773116654$$"
       ],
       "metadata": {},
       "output_type": "pyout",
       "png": "[encoded data removed]",
       "prompt_number": 62,
       "text": [
        "1.54976773116654"
       ]
      }
     ],
     "prompt_number": 62
    },
    {
     "cell_type": "code",
     "collapsed": false,
     "input": [
      "Sum(1/n**2, (n, 1, oo)).evalf()"
     ],
     "language": "python",
     "metadata": {},
     "outputs": [
      {
       "latex": [
        "$$1.64493406684823$$"
       ],
       "metadata": {},
       "output_type": "pyout",
       "png": "[encoded data removed]",
       "prompt_number": 63,
       "text": [
        "1.64493406684823"
       ]
      }
     ],
     "prompt_number": 63
    },
    {
     "cell_type": "markdown",
     "metadata": {},
     "source": [
      "Los productos funcionan de la misma manera:"
     ]
    },
    {
     "cell_type": "code",
     "collapsed": false,
     "input": [
      "Product(n, (n, 1, 10)) # 10!"
     ],
     "language": "python",
     "metadata": {},
     "outputs": [
      {
       "latex": [
        "$$\\prod_{n=1}^{10} n$$"
       ],
       "metadata": {},
       "output_type": "pyout",
       "png": "[encoded data removed]",
       "prompt_number": 64,
       "text": [
        "  10   \n",
        "\u252c\u2500\u2500\u2500\u252c  \n",
        "\u2502   \u2502 n\n",
        "\u2502   \u2502  \n",
        "n = 1  "
       ]
      }
     ],
     "prompt_number": 64
    },
    {
     "cell_type": "markdown",
     "metadata": {},
     "source": [
      "### L\u00edmites\n",
      "\n",
      "Los l\u00edmites pueden ser evaluados mediante la funci\u00f3n `limit`'. Por ejemplo:"
     ]
    },
    {
     "cell_type": "code",
     "collapsed": false,
     "input": [
      "expresion = (sin(x)/x)\n",
      "expresion"
     ],
     "language": "python",
     "metadata": {},
     "outputs": [
      {
       "latex": [
        "$$\\frac{1}{x} \\sin{\\left (x \\right )}$$"
       ],
       "metadata": {},
       "output_type": "pyout",
       "png": "[encoded data removed]",
       "prompt_number": 65,
       "text": [
        "sin(x)\n",
        "\u2500\u2500\u2500\u2500\u2500\u2500\n",
        "  x   "
       ]
      }
     ],
     "prompt_number": 65
    },
    {
     "cell_type": "code",
     "collapsed": false,
     "input": [
      "limit(expresion, x, 0) # equivalente a limit((sin(x)/x), x, 0)"
     ],
     "language": "python",
     "metadata": {},
     "outputs": [
      {
       "latex": [
        "$$1$$"
       ],
       "metadata": {},
       "output_type": "pyout",
       "png": "[encoded data removed]",
       "prompt_number": 66,
       "text": [
        "1"
       ]
      }
     ],
     "prompt_number": 66
    },
    {
     "cell_type": "markdown",
     "metadata": {},
     "source": [
      "Podemos utilizar \"limit\" para comprobar el resultado de la derivaci\u00f3n mediante la funci\u00f3n `diff`:"
     ]
    },
    {
     "cell_type": "code",
     "collapsed": false,
     "input": [
      "f"
     ],
     "language": "python",
     "metadata": {},
     "outputs": [
      {
       "latex": [
        "$$\\sin{\\left (x y \\right )} + \\cos{\\left (y z \\right )}$$"
       ],
       "metadata": {},
       "output_type": "pyout",
       "png": "[encoded data removed]",
       "prompt_number": 67,
       "text": [
        "sin(x\u22c5y) + cos(y\u22c5z)"
       ]
      }
     ],
     "prompt_number": 67
    },
    {
     "cell_type": "code",
     "collapsed": false,
     "input": [
      "diff(f, x)"
     ],
     "language": "python",
     "metadata": {},
     "outputs": [
      {
       "latex": [
        "$$y \\cos{\\left (x y \\right )}$$"
       ],
       "metadata": {},
       "output_type": "pyout",
       "png": "[encoded data removed]",
       "prompt_number": 68,
       "text": [
        "y\u22c5cos(x\u22c5y)"
       ]
      }
     ],
     "prompt_number": 68
    },
    {
     "cell_type": "markdown",
     "metadata": {},
     "source": [
      "$\\displaystyle \\frac{\\mathrm{d}f(x,y)}{\\mathrm{d}x} = \\frac{f(x+h,y)-f(x,y)}{h}$"
     ]
    },
    {
     "cell_type": "code",
     "collapsed": false,
     "input": [
      "h = Symbol(\"h\")"
     ],
     "language": "python",
     "metadata": {},
     "outputs": [],
     "prompt_number": 69
    },
    {
     "cell_type": "code",
     "collapsed": false,
     "input": [
      "limit((f.subs(x, x+h) - f)/h, h, 0)"
     ],
     "language": "python",
     "metadata": {},
     "outputs": [
      {
       "latex": [
        "$$y \\cos{\\left (x y \\right )}$$"
       ],
       "metadata": {},
       "output_type": "pyout",
       "png": "[encoded data removed]",
       "prompt_number": 70,
       "text": [
        "y\u22c5cos(x\u22c5y)"
       ]
      }
     ],
     "prompt_number": 70
    },
    {
     "cell_type": "markdown",
     "metadata": {},
     "source": [
      "\u00a1Correcto!"
     ]
    },
    {
     "cell_type": "markdown",
     "metadata": {},
     "source": [
      "Podemos cambiar la direcci\u00f3n de la que nos acercamos al punto del l\u00edmite con el uso de la palabra clave y argumento `dir`:"
     ]
    },
    {
     "cell_type": "code",
     "collapsed": false,
     "input": [
      "limit(1/x, x, 0, dir=\"+\")"
     ],
     "language": "python",
     "metadata": {},
     "outputs": [
      {
       "latex": [
        "$$\\infty$$"
       ],
       "metadata": {},
       "output_type": "pyout",
       "png": "[encoded data removed]",
       "prompt_number": 71,
       "text": [
        "\u221e"
       ]
      }
     ],
     "prompt_number": 71
    },
    {
     "cell_type": "code",
     "collapsed": false,
     "input": [
      "limit(1/x, x, 0, dir=\"-\")"
     ],
     "language": "python",
     "metadata": {},
     "outputs": [
      {
       "latex": [
        "$$-\\infty$$"
       ],
       "metadata": {},
       "output_type": "pyout",
       "png": "[encoded data removed]",
       "prompt_number": 72,
       "text": [
        "-\u221e"
       ]
      }
     ],
     "prompt_number": 72
    },
    {
     "cell_type": "markdown",
     "metadata": {},
     "source": [
      "### Series\n",
      "\n",
      "La expansi\u00f3n de la serie es tambi\u00e9n una de las caracter\u00edsticas m\u00e1s \u00fatiles de un CAS. En SymPy podemos realizar un desarrollo en serie de una expresi\u00f3n mediante la funci\u00f3n `series`:"
     ]
    },
    {
     "cell_type": "code",
     "collapsed": false,
     "input": [
      "series(exp(x), x)"
     ],
     "language": "python",
     "metadata": {},
     "outputs": [
      {
       "latex": [
        "$$1 + x + \\frac{x^{2}}{2} + \\frac{x^{3}}{6} + \\frac{x^{4}}{24} + \\frac{x^{5}}{120} + \\mathcal{O}\\left(x^{6}\\right)$$"
       ],
       "metadata": {},
       "output_type": "pyout",
       "png": "[encoded data removed]",
       "prompt_number": 73,
       "text": [
        "         2    3    4     5        \n",
        "        x    x    x     x     \u239b 6\u239e\n",
        "1 + x + \u2500\u2500 + \u2500\u2500 + \u2500\u2500 + \u2500\u2500\u2500 + O\u239dx \u23a0\n",
        "        2    6    24   120        "
       ]
      }
     ],
     "prompt_number": 73
    },
    {
     "cell_type": "markdown",
     "metadata": {},
     "source": [
      "Por defecto se expande la expresi\u00f3n de alrededor de $ x = 0 $, pero podemos expandir en torno a cualquier valor de $ x $ incluyendo expl\u00edcitamente un valor en la llamada a la funci\u00f3n:"
     ]
    },
    {
     "cell_type": "code",
     "collapsed": false,
     "input": [
      "series(exp(x), x, 1)"
     ],
     "language": "python",
     "metadata": {},
     "outputs": [
      {
       "latex": [
        "$$e + e x + \\frac{e x^{2}}{2} + \\frac{e x^{3}}{6} + \\frac{e x^{4}}{24} + \\frac{e x^{5}}{120} + \\mathcal{O}\\left(x^{6}\\right)$$"
       ],
       "metadata": {},
       "output_type": "pyout",
       "png": "[encoded data removed]",
       "prompt_number": 74,
       "text": [
        "             2      3      4      5        \n",
        "          \u212f\u22c5x    \u212f\u22c5x    \u212f\u22c5x    \u212f\u22c5x     \u239b 6\u239e\n",
        "\u212f + \u212f\u22c5x + \u2500\u2500\u2500\u2500 + \u2500\u2500\u2500\u2500 + \u2500\u2500\u2500\u2500 + \u2500\u2500\u2500\u2500 + O\u239dx \u23a0\n",
        "           2      6      24    120         "
       ]
      }
     ],
     "prompt_number": 74
    },
    {
     "cell_type": "markdown",
     "metadata": {},
     "source": [
      "Y podemos definir de forma expl\u00edcita que orden en la expansi\u00f3n de la serie se debe realizar:"
     ]
    },
    {
     "cell_type": "code",
     "collapsed": false,
     "input": [
      "series(exp(x), x, 1, 10)"
     ],
     "language": "python",
     "metadata": {},
     "outputs": [
      {
       "latex": [
        "$$e + e x + \\frac{e x^{2}}{2} + \\frac{e x^{3}}{6} + \\frac{e x^{4}}{24} + \\frac{e x^{5}}{120} + \\frac{e x^{6}}{720} + \\frac{e x^{7}}{5040} + \\frac{e x^{8}}{40320} + \\frac{e x^{9}}{362880} + \\mathcal{O}\\left(x^{10}\\right)$$"
       ],
       "metadata": {},
       "output_type": "pyout",
       "png": "[encoded data removed]",
       "prompt_number": 75,
       "text": [
        "             2      3      4      5      6      7       8       9          \n",
        "          \u212f\u22c5x    \u212f\u22c5x    \u212f\u22c5x    \u212f\u22c5x    \u212f\u22c5x    \u212f\u22c5x     \u212f\u22c5x     \u212f\u22c5x      \u239b 10\u239e\n",
        "\u212f + \u212f\u22c5x + \u2500\u2500\u2500\u2500 + \u2500\u2500\u2500\u2500 + \u2500\u2500\u2500\u2500 + \u2500\u2500\u2500\u2500 + \u2500\u2500\u2500\u2500 + \u2500\u2500\u2500\u2500 + \u2500\u2500\u2500\u2500\u2500 + \u2500\u2500\u2500\u2500\u2500\u2500 + O\u239dx  \u23a0\n",
        "           2      6      24    120    720    5040   40320   362880         "
       ]
      }
     ],
     "prompt_number": 75
    },
    {
     "cell_type": "markdown",
     "metadata": {},
     "source": [
      "La expansi\u00f3n de la serie incluye el orden de la aproximaci\u00f3n, que es muy \u00fatil para hacer el seguimiento de la orden de validez cuando hacemos c\u00e1lculos con desarrollos en serie de distinto orden:"
     ]
    },
    {
     "cell_type": "code",
     "collapsed": false,
     "input": [
      "s1 = cos(x).series(x, 0, 5)\n",
      "s1"
     ],
     "language": "python",
     "metadata": {},
     "outputs": [
      {
       "latex": [
        "$$1 - \\frac{x^{2}}{2} + \\frac{x^{4}}{24} + \\mathcal{O}\\left(x^{5}\\right)$$"
       ],
       "metadata": {},
       "output_type": "pyout",
       "png": "[encoded data removed]",
       "prompt_number": 76,
       "text": [
        "     2    4        \n",
        "    x    x     \u239b 5\u239e\n",
        "1 - \u2500\u2500 + \u2500\u2500 + O\u239dx \u23a0\n",
        "    2    24        "
       ]
      }
     ],
     "prompt_number": 76
    },
    {
     "cell_type": "code",
     "collapsed": false,
     "input": [
      "s2 = sin(x).series(x, 0, 2)\n",
      "s2"
     ],
     "language": "python",
     "metadata": {},
     "outputs": [
      {
       "latex": [
        "$$x + \\mathcal{O}\\left(x^{2}\\right)$$"
       ],
       "metadata": {},
       "output_type": "pyout",
       "png": "[encoded data removed]",
       "prompt_number": 77,
       "text": [
        "     \u239b 2\u239e\n",
        "x + O\u239dx \u23a0"
       ]
      }
     ],
     "prompt_number": 77
    },
    {
     "cell_type": "code",
     "collapsed": false,
     "input": [
      "expand(s1 * s2)"
     ],
     "language": "python",
     "metadata": {},
     "outputs": [
      {
       "latex": [
        "$$x + \\mathcal{O}\\left(x^{2}\\right)$$"
       ],
       "metadata": {},
       "output_type": "pyout",
       "png": "[encoded data removed]",
       "prompt_number": 78,
       "text": [
        "     \u239b 2\u239e\n",
        "x + O\u239dx \u23a0"
       ]
      }
     ],
     "prompt_number": 78
    },
    {
     "cell_type": "markdown",
     "metadata": {},
     "source": [
      "Si queremos deshacernos de la informaci\u00f3n del orden, podemos utilizar el m\u00e9todo `removeO`:"
     ]
    },
    {
     "cell_type": "code",
     "collapsed": false,
     "input": [
      "expand(s1.removeO() * s2.removeO())"
     ],
     "language": "python",
     "metadata": {},
     "outputs": [
      {
       "latex": [
        "$$\\frac{x^{5}}{24} - \\frac{x^{3}}{2} + x$$"
       ],
       "metadata": {},
       "output_type": "pyout",
       "png": "[encoded data removed]",
       "prompt_number": 79,
       "text": [
        " 5    3    \n",
        "x    x     \n",
        "\u2500\u2500 - \u2500\u2500 + x\n",
        "24   2     "
       ]
      }
     ],
     "prompt_number": 79
    },
    {
     "cell_type": "markdown",
     "metadata": {},
     "source": [
      "Pero ten en cuenta que esta no es la correcta expansi\u00f3n de $ \\ cos (x) \\ sin (x) $ hasta el $ 5 $ \u00ba orden:"
     ]
    },
    {
     "cell_type": "code",
     "collapsed": false,
     "input": [
      "(cos(x)*sin(x)).series(x, 0, 6)"
     ],
     "language": "python",
     "metadata": {},
     "outputs": [
      {
       "latex": [
        "$$x - \\frac{2 x^{3}}{3} + \\frac{2 x^{5}}{15} + \\mathcal{O}\\left(x^{6}\\right)$$"
       ],
       "metadata": {},
       "output_type": "pyout",
       "png": "[encoded data removed]",
       "prompt_number": 80,
       "text": [
        "       3      5        \n",
        "    2\u22c5x    2\u22c5x     \u239b 6\u239e\n",
        "x - \u2500\u2500\u2500\u2500 + \u2500\u2500\u2500\u2500 + O\u239dx \u23a0\n",
        "     3      15         "
       ]
      }
     ],
     "prompt_number": 80
    },
    {
     "cell_type": "markdown",
     "metadata": {},
     "source": [
      "## Algebra lineal"
     ]
    },
    {
     "cell_type": "markdown",
     "metadata": {},
     "source": [
      "### Matrices\n",
      "\n",
      "Matrices se definen con la clase `Matrix`:"
     ]
    },
    {
     "cell_type": "code",
     "collapsed": false,
     "input": [
      "m11, m12, m21, m22 = symbols(\"m11, m12, m21, m22\")\n",
      "b1, b2 = symbols(\"b1, b2\")"
     ],
     "language": "python",
     "metadata": {},
     "outputs": [],
     "prompt_number": 81
    },
    {
     "cell_type": "code",
     "collapsed": false,
     "input": [
      "A = Matrix([[m11, m12],[m21, m22]])\n",
      "A"
     ],
     "language": "python",
     "metadata": {},
     "outputs": [
      {
       "latex": [
        "$$\\left[\\begin{matrix}m_{11} & m_{12}\\\\m_{21} & m_{22}\\end{matrix}\\right]$$"
       ],
       "metadata": {},
       "output_type": "pyout",
       "png": "[encoded data removed]",
       "prompt_number": 82,
       "text": [
        "\u23a1m\u2081\u2081  m\u2081\u2082\u23a4\n",
        "\u23a2        \u23a5\n",
        "\u23a3m\u2082\u2081  m\u2082\u2082\u23a6"
       ]
      }
     ],
     "prompt_number": 82
    },
    {
     "cell_type": "code",
     "collapsed": false,
     "input": [
      "b = Matrix([[b1], [b2]])\n",
      "b"
     ],
     "language": "python",
     "metadata": {},
     "outputs": [
      {
       "latex": [
        "$$\\left[\\begin{matrix}b_{1}\\\\b_{2}\\end{matrix}\\right]$$"
       ],
       "metadata": {},
       "output_type": "pyout",
       "png": "[encoded data removed]",
       "prompt_number": 83,
       "text": [
        "\u23a1b\u2081\u23a4\n",
        "\u23a2  \u23a5\n",
        "\u23a3b\u2082\u23a6"
       ]
      }
     ],
     "prompt_number": 83
    },
    {
     "cell_type": "markdown",
     "metadata": {},
     "source": [
      "Con las instancias de clase `Matrix` podemos hacer las operaciones habituales de \u00e1lgebra matricial:"
     ]
    },
    {
     "cell_type": "code",
     "collapsed": false,
     "input": [
      "A**2"
     ],
     "language": "python",
     "metadata": {},
     "outputs": [
      {
       "latex": [
        "$$\\left[\\begin{matrix}m_{11}^{2} + m_{12} m_{21} & m_{11} m_{12} + m_{12} m_{22}\\\\m_{11} m_{21} + m_{21} m_{22} & m_{12} m_{21} + m_{22}^{2}\\end{matrix}\\right]$$"
       ],
       "metadata": {},
       "output_type": "pyout",
       "png": "[encoded data removed]",
       "prompt_number": 84,
       "text": [
        "\u23a1    2                               \u23a4\n",
        "\u23a2 m\u2081\u2081  + m\u2081\u2082\u22c5m\u2082\u2081    m\u2081\u2081\u22c5m\u2081\u2082 + m\u2081\u2082\u22c5m\u2082\u2082\u23a5\n",
        "\u23a2                                    \u23a5\n",
        "\u23a2                                 2  \u23a5\n",
        "\u23a3m\u2081\u2081\u22c5m\u2082\u2081 + m\u2082\u2081\u22c5m\u2082\u2082   m\u2081\u2082\u22c5m\u2082\u2081 + m\u2082\u2082   \u23a6"
       ]
      }
     ],
     "prompt_number": 84
    },
    {
     "cell_type": "code",
     "collapsed": false,
     "input": [
      "A * b"
     ],
     "language": "python",
     "metadata": {},
     "outputs": [
      {
       "latex": [
        "$$\\left[\\begin{matrix}b_{1} m_{11} + b_{2} m_{12}\\\\b_{1} m_{21} + b_{2} m_{22}\\end{matrix}\\right]$$"
       ],
       "metadata": {},
       "output_type": "pyout",
       "png": "[encoded data removed]",
       "prompt_number": 85,
       "text": [
        "\u23a1b\u2081\u22c5m\u2081\u2081 + b\u2082\u22c5m\u2081\u2082\u23a4\n",
        "\u23a2               \u23a5\n",
        "\u23a3b\u2081\u22c5m\u2082\u2081 + b\u2082\u22c5m\u2082\u2082\u23a6"
       ]
      }
     ],
     "prompt_number": 85
    },
    {
     "cell_type": "markdown",
     "metadata": {},
     "source": [
      "Y el c\u00e1lculo de los determinantes e inversas:"
     ]
    },
    {
     "cell_type": "code",
     "collapsed": false,
     "input": [
      "A.det()"
     ],
     "language": "python",
     "metadata": {},
     "outputs": [
      {
       "latex": [
        "$$m_{11} m_{22} - m_{12} m_{21}$$"
       ],
       "metadata": {},
       "output_type": "pyout",
       "png": "[encoded data removed]",
       "prompt_number": 86,
       "text": [
        "m\u2081\u2081\u22c5m\u2082\u2082 - m\u2081\u2082\u22c5m\u2082\u2081"
       ]
      }
     ],
     "prompt_number": 86
    },
    {
     "cell_type": "code",
     "collapsed": false,
     "input": [
      "A.inv()"
     ],
     "language": "python",
     "metadata": {},
     "outputs": [
      {
       "latex": [
        "$$\\left[\\begin{matrix}\\frac{1}{m_{11}} + \\frac{m_{12} m_{21}}{m_{11}^{2} \\left(m_{22} - \\frac{m_{12} m_{21}}{m_{11}}\\right)} & - \\frac{m_{12}}{m_{11} \\left(m_{22} - \\frac{m_{12} m_{21}}{m_{11}}\\right)}\\\\- \\frac{m_{21}}{m_{11} \\left(m_{22} - \\frac{m_{12} m_{21}}{m_{11}}\\right)} & \\frac{1}{m_{22} - \\frac{m_{12} m_{21}}{m_{11}}}\\end{matrix}\\right]$$"
       ],
       "metadata": {},
       "output_type": "pyout",
       "png": "[encoded data removed]",
       "prompt_number": 87,
       "text": [
        "\u23a1 1          m\u2081\u2082\u22c5m\u2082\u2081                -m\u2081\u2082        \u23a4\n",
        "\u23a2\u2500\u2500\u2500 + \u2500\u2500\u2500\u2500\u2500\u2500\u2500\u2500\u2500\u2500\u2500\u2500\u2500\u2500\u2500\u2500\u2500\u2500\u2500\u2500  \u2500\u2500\u2500\u2500\u2500\u2500\u2500\u2500\u2500\u2500\u2500\u2500\u2500\u2500\u2500\u2500\u2500\u2500\u2500\u23a5\n",
        "\u23a2m\u2081\u2081      2 \u239b      m\u2081\u2082\u22c5m\u2082\u2081\u239e      \u239b      m\u2081\u2082\u22c5m\u2082\u2081\u239e\u23a5\n",
        "\u23a2      m\u2081\u2081 \u22c5\u239cm\u2082\u2082 - \u2500\u2500\u2500\u2500\u2500\u2500\u2500\u239f  m\u2081\u2081\u22c5\u239cm\u2082\u2082 - \u2500\u2500\u2500\u2500\u2500\u2500\u2500\u239f\u23a5\n",
        "\u23a2           \u239d        m\u2081\u2081  \u23a0      \u239d        m\u2081\u2081  \u23a0\u23a5\n",
        "\u23a2                                               \u23a5\n",
        "\u23a2          -m\u2082\u2081                       1         \u23a5\n",
        "\u23a2   \u2500\u2500\u2500\u2500\u2500\u2500\u2500\u2500\u2500\u2500\u2500\u2500\u2500\u2500\u2500\u2500\u2500\u2500\u2500         \u2500\u2500\u2500\u2500\u2500\u2500\u2500\u2500\u2500\u2500\u2500\u2500\u2500   \u23a5\n",
        "\u23a2       \u239b      m\u2081\u2082\u22c5m\u2082\u2081\u239e               m\u2081\u2082\u22c5m\u2082\u2081   \u23a5\n",
        "\u23a2   m\u2081\u2081\u22c5\u239cm\u2082\u2082 - \u2500\u2500\u2500\u2500\u2500\u2500\u2500\u239f         m\u2082\u2082 - \u2500\u2500\u2500\u2500\u2500\u2500\u2500   \u23a5\n",
        "\u23a3       \u239d        m\u2081\u2081  \u23a0                 m\u2081\u2081     \u23a6"
       ]
      }
     ],
     "prompt_number": 87
    },
    {
     "cell_type": "markdown",
     "metadata": {},
     "source": [
      "## Resolviendo ecuaciones\n",
      "\n",
      "Para la resoluci\u00f3n de ecuaciones y sistemas de ecuaciones podemos usar la funci\u00f3n `solve`:"
     ]
    },
    {
     "cell_type": "code",
     "collapsed": false,
     "input": [
      "solve(x**2 - 1, x)"
     ],
     "language": "python",
     "metadata": {},
     "outputs": [
      {
       "latex": [
        "$$\\begin{bmatrix}-1, & 1\\end{bmatrix}$$"
       ],
       "metadata": {},
       "output_type": "pyout",
       "png": "[encoded data removed]",
       "prompt_number": 88,
       "text": [
        "[-1, 1]"
       ]
      }
     ],
     "prompt_number": 88
    },
    {
     "cell_type": "code",
     "collapsed": false,
     "input": [
      "solve(x**4 - x**2 - 1, x)"
     ],
     "language": "python",
     "metadata": {},
     "outputs": [
      {
       "latex": [
        "$$\\begin{bmatrix}- i \\sqrt{- \\frac{1}{2} + \\frac{\\sqrt{5}}{2}}, & i \\sqrt{- \\frac{1}{2} + \\frac{\\sqrt{5}}{2}}, & - \\sqrt{\\frac{1}{2} + \\frac{\\sqrt{5}}{2}}, & \\sqrt{\\frac{1}{2} + \\frac{\\sqrt{5}}{2}}\\end{bmatrix}$$"
       ],
       "metadata": {},
       "output_type": "pyout",
       "png": "[encoded data removed]",
       "prompt_number": 89,
       "text": [
        "\u23a1        _____________         _____________        ___________       ________\n",
        "\u23a2       \u2571         ___         \u2571         ___        \u2571       ___       \u2571       _\n",
        "\u23a2      \u2571    1   \u2572\u2571 5         \u2571    1   \u2572\u2571 5        \u2571  1   \u2572\u2571 5       \u2571  1   \u2572\u2571 \n",
        "\u23a2-\u2148\u22c5  \u2571   - \u2500 + \u2500\u2500\u2500\u2500\u2500 , \u2148\u22c5  \u2571   - \u2500 + \u2500\u2500\u2500\u2500\u2500 , -  \u2571   \u2500 + \u2500\u2500\u2500\u2500\u2500 ,   \u2571   \u2500 + \u2500\u2500\u2500\n",
        "\u23a3   \u2572\u2571      2     2       \u2572\u2571      2     2      \u2572\u2571    2     2     \u2572\u2571    2     2\n",
        "\n",
        "___\u23a4\n",
        "__ \u23a5\n",
        "5  \u23a5\n",
        "\u2500\u2500 \u23a5\n",
        "   \u23a6"
       ]
      }
     ],
     "prompt_number": 89
    },
    {
     "cell_type": "markdown",
     "metadata": {},
     "source": [
      "Sistema de ecuaciones:"
     ]
    },
    {
     "cell_type": "code",
     "collapsed": false,
     "input": [
      "solve([x + y - 1, x - y - 1], [x,y])"
     ],
     "language": "python",
     "metadata": {},
     "outputs": [
      {
       "latex": [
        "$$\\begin{Bmatrix}x : 1, & y : 0\\end{Bmatrix}$$"
       ],
       "metadata": {},
       "output_type": "pyout",
       "png": "[encoded data removed]",
       "prompt_number": 90,
       "text": [
        "{x: 1, y: 0}"
       ]
      }
     ],
     "prompt_number": 90
    },
    {
     "cell_type": "markdown",
     "metadata": {},
     "source": [
      "En t\u00e9rminos de otras expresiones simb\u00f3licas:"
     ]
    },
    {
     "cell_type": "code",
     "collapsed": false,
     "input": [
      "solve([x + y - a, x - y - c], [x,y])"
     ],
     "language": "python",
     "metadata": {},
     "outputs": [
      {
       "latex": [
        "$$\\begin{Bmatrix}x : \\frac{a}{2} + \\frac{c}{2}, & y : \\frac{a}{2} - \\frac{c}{2}\\end{Bmatrix}$$"
       ],
       "metadata": {},
       "output_type": "pyout",
       "png": "[encoded data removed]",
       "prompt_number": 91,
       "text": [
        "\u23a7   a   c     a   c\u23ab\n",
        "\u23a8x: \u2500 + \u2500, y: \u2500 - \u2500\u23ac\n",
        "\u23a9   2   2     2   2\u23ad"
       ]
      }
     ],
     "prompt_number": 91
    },
    {
     "cell_type": "markdown",
     "metadata": {},
     "source": [
      "## Quantum mechanics: noncommuting variables\n",
      "\n",
      "How about non-commuting symbols? In quantum mechanics we need to work with noncommuting operators, and SymPy has a nice support for noncommuting symbols and even a subpackage for quantum mechanics related calculations!"
     ]
    },
    {
     "cell_type": "code",
     "collapsed": false,
     "input": [
      "from sympy.physics.quantum import *"
     ],
     "language": "python",
     "metadata": {},
     "outputs": [],
     "prompt_number": 92
    },
    {
     "cell_type": "markdown",
     "metadata": {},
     "source": [
      "### States\n",
      "\n",
      "We can define symbol states, kets and bras:"
     ]
    },
    {
     "cell_type": "code",
     "collapsed": false,
     "input": [
      "Ket('psi')"
     ],
     "language": "python",
     "metadata": {},
     "outputs": [
      {
       "latex": [
        "$${\\left|\\psi\\right\\rangle }$$"
       ],
       "metadata": {},
       "output_type": "pyout",
       "png": "[encoded data removed]",
       "prompt_number": 93,
       "text": [
        "\u2758\u03c8\u27e9"
       ]
      }
     ],
     "prompt_number": 93
    },
    {
     "cell_type": "code",
     "collapsed": false,
     "input": [
      "Bra('psi')"
     ],
     "language": "python",
     "metadata": {},
     "outputs": [
      {
       "latex": [
        "$${\\left\\langle \\psi\\right|}$$"
       ],
       "metadata": {},
       "output_type": "pyout",
       "png": "[encoded data removed]",
       "prompt_number": 94,
       "text": [
        "\u27e8\u03c8\u2758"
       ]
      }
     ],
     "prompt_number": 94
    },
    {
     "cell_type": "code",
     "collapsed": false,
     "input": [
      "u = Ket('0')\n",
      "d = Ket('1')\n",
      "\n",
      "a, b = symbols('alpha beta', complex=True)"
     ],
     "language": "python",
     "metadata": {},
     "outputs": [],
     "prompt_number": 95
    },
    {
     "cell_type": "code",
     "collapsed": false,
     "input": [
      "phi = a * u + sqrt(1-abs(a)**2) * d; phi"
     ],
     "language": "python",
     "metadata": {},
     "outputs": [
      {
       "latex": [
        "$$\\alpha {\\left|0\\right\\rangle } + \\sqrt{- \\left\\lvert{\\alpha}\\right\\rvert^{2} + 1} {\\left|1\\right\\rangle }$$"
       ],
       "metadata": {},
       "output_type": "pyout",
       "png": "[encoded data removed]",
       "prompt_number": 96,
       "text": [
        "           ____________    \n",
        "          \u2571      2         \n",
        "\u03b1\u22c5\u27580\u27e9 + \u2572\u2571  - \u2502\u03b1\u2502  + 1 \u22c5\u27581\u27e9"
       ]
      }
     ],
     "prompt_number": 96
    },
    {
     "cell_type": "code",
     "collapsed": false,
     "input": [
      "Dagger(phi)"
     ],
     "language": "python",
     "metadata": {},
     "outputs": [
      {
       "latex": [
        "$$\\overline{\\alpha} {\\left\\langle 0\\right|} + \\overline{\\sqrt{- \\left\\lvert{\\alpha}\\right\\rvert^{2} + 1}} {\\left\\langle 1\\right|}$$"
       ],
       "metadata": {},
       "output_type": "pyout",
       "png": "[encoded data removed]",
       "prompt_number": 97,
       "text": [
        "        _______________    \n",
        "           ____________    \n",
        "_         \u2571      2         \n",
        "\u03b1\u22c5\u27e80\u2758 + \u2572\u2571  - \u2502\u03b1\u2502  + 1 \u22c5\u27e81\u2758"
       ]
      }
     ],
     "prompt_number": 97
    },
    {
     "cell_type": "code",
     "collapsed": false,
     "input": [
      "Dagger(phi) * d"
     ],
     "language": "python",
     "metadata": {},
     "outputs": [
      {
       "latex": [
        "$$\\left(\\overline{\\alpha} {\\left\\langle 0\\right|} + \\overline{\\sqrt{- \\left\\lvert{\\alpha}\\right\\rvert^{2} + 1}} {\\left\\langle 1\\right|}\\right) {\\left|1\\right\\rangle }$$"
       ],
       "metadata": {},
       "output_type": "pyout",
       "png": "[encoded data removed]",
       "prompt_number": 98,
       "text": [
        "\u239b        _______________    \u239e    \n",
        "\u239c           ____________    \u239f    \n",
        "\u239c_         \u2571      2         \u239f    \n",
        "\u239d\u03b1\u22c5\u27e80\u2758 + \u2572\u2571  - \u2502\u03b1\u2502  + 1 \u22c5\u27e81\u2758\u23a0\u22c5\u27581\u27e9"
       ]
      }
     ],
     "prompt_number": 98
    },
    {
     "cell_type": "markdown",
     "metadata": {},
     "source": [
      "Use `qapply` to distribute a mutiplication:"
     ]
    },
    {
     "cell_type": "code",
     "collapsed": false,
     "input": [
      "qapply(Dagger(phi) * d)"
     ],
     "language": "python",
     "metadata": {},
     "outputs": [
      {
       "latex": [
        "$$\\overline{\\alpha} \\left\\langle 0 \\right. {\\left|1\\right\\rangle } + \\overline{\\sqrt{- \\left\\lvert{\\alpha}\\right\\rvert^{2} + 1}} \\left\\langle 1 \\right. {\\left|1\\right\\rangle }$$"
       ],
       "metadata": {},
       "output_type": "pyout",
       "png": "[encoded data removed]",
       "prompt_number": 99,
       "text": [
        "          _______________      \n",
        "             ____________      \n",
        "_           \u2571      2           \n",
        "\u03b1\u22c5\u27e80\u27581\u27e9 + \u2572\u2571  - \u2502\u03b1\u2502  + 1 \u22c5\u27e81\u27581\u27e9"
       ]
      }
     ],
     "prompt_number": 99
    },
    {
     "cell_type": "code",
     "collapsed": false,
     "input": [
      "qapply(Dagger(phi) * u)"
     ],
     "language": "python",
     "metadata": {},
     "outputs": [
      {
       "latex": [
        "$$\\overline{\\alpha} \\left\\langle 0 \\right. {\\left|0\\right\\rangle } + \\overline{\\sqrt{- \\left\\lvert{\\alpha}\\right\\rvert^{2} + 1}} \\left\\langle 1 \\right. {\\left|0\\right\\rangle }$$"
       ],
       "metadata": {},
       "output_type": "pyout",
       "png": "[encoded data removed]",
       "prompt_number": 100,
       "text": [
        "          _______________      \n",
        "             ____________      \n",
        "_           \u2571      2           \n",
        "\u03b1\u22c5\u27e80\u27580\u27e9 + \u2572\u2571  - \u2502\u03b1\u2502  + 1 \u22c5\u27e81\u27580\u27e9"
       ]
      }
     ],
     "prompt_number": 100
    },
    {
     "cell_type": "markdown",
     "metadata": {},
     "source": [
      "### Operators"
     ]
    },
    {
     "cell_type": "code",
     "collapsed": false,
     "input": [
      "A = Operator('A')\n",
      "B = Operator('B')"
     ],
     "language": "python",
     "metadata": {},
     "outputs": [],
     "prompt_number": 101
    },
    {
     "cell_type": "markdown",
     "metadata": {},
     "source": [
      "Check if they are commuting!"
     ]
    },
    {
     "cell_type": "code",
     "collapsed": false,
     "input": [
      "A * B == B * A"
     ],
     "language": "python",
     "metadata": {},
     "outputs": [
      {
       "metadata": {},
       "output_type": "pyout",
       "prompt_number": 102,
       "text": [
        "False"
       ]
      }
     ],
     "prompt_number": 102
    },
    {
     "cell_type": "code",
     "collapsed": false,
     "input": [
      "expand((A+B)**3)"
     ],
     "language": "python",
     "metadata": {},
     "outputs": [
      {
       "latex": [
        "$$A B A + A \\left(B\\right)^{2} + \\left(A\\right)^{2} B + \\left(A\\right)^{3} + B A B + B \\left(A\\right)^{2} + \\left(B\\right)^{2} A + \\left(B\\right)^{3}$$"
       ],
       "metadata": {},
       "output_type": "pyout",
       "png": "[encoded data removed]",
       "prompt_number": 103,
       "text": [
        "           2    2      3              2    2      3\n",
        "A\u22c5B\u22c5A + A\u22c5B  + A \u22c5B + A  + B\u22c5A\u22c5B + B\u22c5A  + B \u22c5A + B "
       ]
      }
     ],
     "prompt_number": 103
    },
    {
     "cell_type": "code",
     "collapsed": false,
     "input": [
      "c = Commutator(A,B)\n",
      "c"
     ],
     "language": "python",
     "metadata": {},
     "outputs": [
      {
       "latex": [
        "$$\\left[A,B\\right]$$"
       ],
       "metadata": {},
       "output_type": "pyout",
       "png": "[encoded data removed]",
       "prompt_number": 104,
       "text": [
        "[A,B]"
       ]
      }
     ],
     "prompt_number": 104
    },
    {
     "cell_type": "markdown",
     "metadata": {},
     "source": [
      "We can use the `doit` method to evaluate the commutator:"
     ]
    },
    {
     "cell_type": "code",
     "collapsed": false,
     "input": [
      "c.doit()"
     ],
     "language": "python",
     "metadata": {},
     "outputs": [
      {
       "latex": [
        "$$A B - B A$$"
       ],
       "metadata": {},
       "output_type": "pyout",
       "png": "[encoded data removed]",
       "prompt_number": 105,
       "text": [
        "A\u22c5B - B\u22c5A"
       ]
      }
     ],
     "prompt_number": 105
    },
    {
     "cell_type": "markdown",
     "metadata": {},
     "source": [
      "We can mix quantum operators with C-numbers:"
     ]
    },
    {
     "cell_type": "code",
     "collapsed": false,
     "input": [
      "c = Commutator(a * A, b * B)\n",
      "c"
     ],
     "language": "python",
     "metadata": {},
     "outputs": [
      {
       "latex": [
        "$$\\alpha \\beta \\left[A,B\\right]$$"
       ],
       "metadata": {},
       "output_type": "pyout",
       "png": "[encoded data removed]",
       "prompt_number": 106,
       "text": [
        "\u03b1\u22c5\u03b2\u22c5[A,B]"
       ]
      }
     ],
     "prompt_number": 106
    },
    {
     "cell_type": "markdown",
     "metadata": {},
     "source": [
      "To expand the commutator, use the `expand` method with the `commutator=True` keyword argument:"
     ]
    },
    {
     "cell_type": "code",
     "collapsed": false,
     "input": [
      "c = Commutator(A+B, A*B)\n",
      "c.expand(commutator=True)"
     ],
     "language": "python",
     "metadata": {},
     "outputs": [
      {
       "latex": [
        "$$- \\left[A,B\\right] B + A \\left[A,B\\right]$$"
       ],
       "metadata": {},
       "output_type": "pyout",
       "png": "[encoded data removed]",
       "prompt_number": 107,
       "text": [
        "-[A,B]\u22c5B + A\u22c5[A,B]"
       ]
      }
     ],
     "prompt_number": 107
    },
    {
     "cell_type": "code",
     "collapsed": false,
     "input": [
      "Dagger(Commutator(A, B))"
     ],
     "language": "python",
     "metadata": {},
     "outputs": [
      {
       "latex": [
        "$$- \\left[A^{\\dagger},B^{\\dagger}\\right]$$"
       ],
       "metadata": {},
       "output_type": "pyout",
       "png": "[encoded data removed]",
       "prompt_number": 108,
       "text": [
        " \u23a1 \u2020  \u2020\u23a4\n",
        "-\u23a3A ,B \u23a6"
       ]
      }
     ],
     "prompt_number": 108
    },
    {
     "cell_type": "code",
     "collapsed": false,
     "input": [
      "ac = AntiCommutator(A,B)"
     ],
     "language": "python",
     "metadata": {},
     "outputs": [],
     "prompt_number": 109
    },
    {
     "cell_type": "code",
     "collapsed": false,
     "input": [
      "ac.doit()"
     ],
     "language": "python",
     "metadata": {},
     "outputs": [
      {
       "latex": [
        "$$A B + B A$$"
       ],
       "metadata": {},
       "output_type": "pyout",
       "png": "[encoded data removed]",
       "prompt_number": 110,
       "text": [
        "A\u22c5B + B\u22c5A"
       ]
      }
     ],
     "prompt_number": 110
    },
    {
     "cell_type": "markdown",
     "metadata": {},
     "source": [
      "#### Example: Quadrature commutator"
     ]
    },
    {
     "cell_type": "markdown",
     "metadata": {},
     "source": [
      "Let's look at the commutator of the electromagnetic field quadatures $x$ and $p$. We can write the quadrature operators in terms of the creation and annihilation operators as:\n",
      "\n",
      "$\\displaystyle x = (a + a^\\dagger)/\\sqrt{2}$\n",
      "\n",
      "$\\displaystyle p = -i(a - a^\\dagger)/\\sqrt{2}$\n"
     ]
    },
    {
     "cell_type": "code",
     "collapsed": false,
     "input": [
      "X = (A + Dagger(A))/sqrt(2)\n",
      "X"
     ],
     "language": "python",
     "metadata": {},
     "outputs": [
      {
       "latex": [
        "$$\\frac{\\sqrt{2}}{2} \\left(A^{\\dagger} + A\\right)$$"
       ],
       "metadata": {},
       "output_type": "pyout",
       "png": "[encoded data removed]",
       "prompt_number": 111,
       "text": [
        "  ___ \u239b \u2020    \u239e\n",
        "\u2572\u2571 2 \u22c5\u239dA  + A\u23a0\n",
        "\u2500\u2500\u2500\u2500\u2500\u2500\u2500\u2500\u2500\u2500\u2500\u2500\u2500\u2500\n",
        "      2       "
       ]
      }
     ],
     "prompt_number": 111
    },
    {
     "cell_type": "code",
     "collapsed": false,
     "input": [
      "P = -I * (A - Dagger(A))/sqrt(2)\n",
      "P"
     ],
     "language": "python",
     "metadata": {},
     "outputs": [
      {
       "latex": [
        "$$- \\frac{\\sqrt{2} i}{2} \\left(- A^{\\dagger} + A\\right)$$"
       ],
       "metadata": {},
       "output_type": "pyout",
       "png": "[encoded data removed]",
       "prompt_number": 112,
       "text": [
        "   ___   \u239b   \u2020    \u239e \n",
        "-\u2572\u2571 2 \u22c5\u2148\u22c5\u239d- A  + A\u23a0 \n",
        "\u2500\u2500\u2500\u2500\u2500\u2500\u2500\u2500\u2500\u2500\u2500\u2500\u2500\u2500\u2500\u2500\u2500\u2500\u2500\u2500\n",
        "         2          "
       ]
      }
     ],
     "prompt_number": 112
    },
    {
     "cell_type": "markdown",
     "metadata": {},
     "source": [
      "Let's expand the commutator $[x,p]$"
     ]
    },
    {
     "cell_type": "code",
     "collapsed": false,
     "input": [
      "Commutator(X, P).expand(commutator=True).expand(commutator=True)"
     ],
     "language": "python",
     "metadata": {},
     "outputs": [
      {
       "latex": [
        "$$- i \\left[A^{\\dagger},A\\right]$$"
       ],
       "metadata": {},
       "output_type": "pyout",
       "png": "[encoded data removed]",
       "prompt_number": 113,
       "text": [
        "   \u23a1 \u2020  \u23a4\n",
        "-\u2148\u22c5\u23a3A ,A\u23a6"
       ]
      }
     ],
     "prompt_number": 113
    },
    {
     "cell_type": "markdown",
     "metadata": {},
     "source": [
      "Here we see directly that the well known commutation relation for the quadratures\n",
      "\n",
      "$[x,p]=i$\n",
      "\n",
      "is a directly related to\n",
      "\n",
      "$[A, A^\\dagger]=1$ \n",
      "\n",
      "(which SymPy does not know about, and does not simplify)."
     ]
    },
    {
     "cell_type": "markdown",
     "metadata": {},
     "source": [
      "For more details on the quantum module in SymPy, see:\n",
      "\n",
      "* http://docs.sympy.org/0.7.2/modules/physics/quantum/index.html\n",
      "* http://nbviewer.ipython.org/urls/raw.github.com/ipython/ipython/master/docs/examples/notebooks/sympy_quantum_computing.ipynb"
     ]
    },
    {
     "cell_type": "markdown",
     "metadata": {},
     "source": [
      "## Further reading\n",
      "\n",
      "* http://sympy.org/en/index.html - The SymPy projects web page.\n",
      "* https://github.com/sympy/sympy - The source code of SymPy.\n",
      "* http://live.sympy.org - Online version of SymPy for testing and demonstrations.\n"
     ]
    }
   ],
   "metadata": {}
  }
 ]
}